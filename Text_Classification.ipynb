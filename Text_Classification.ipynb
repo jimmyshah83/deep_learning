{
  "nbformat": 4,
  "nbformat_minor": 0,
  "metadata": {
    "colab": {
      "name": "Text Classification.ipynb",
      "version": "0.3.2",
      "provenance": [],
      "include_colab_link": true
    },
    "kernelspec": {
      "display_name": "Python 3",
      "language": "python",
      "name": "python3"
    }
  },
  "cells": [
    {
      "cell_type": "markdown",
      "metadata": {
        "id": "view-in-github",
        "colab_type": "text"
      },
      "source": [
        "<a href=\"https://colab.research.google.com/github/jimmyshah83/deep_learning/blob/master/Text_Classification.ipynb\" target=\"_parent\"><img src=\"https://colab.research.google.com/assets/colab-badge.svg\" alt=\"Open In Colab\"/></a>"
      ]
    },
    {
      "metadata": {
        "id": "oZdP9cQJB2xz",
        "colab_type": "text"
      },
      "cell_type": "markdown",
      "source": [
        "## Importing Libraries"
      ]
    },
    {
      "metadata": {
        "id": "Kg1YAf3WB2x1",
        "colab_type": "code",
        "colab": {}
      },
      "cell_type": "code",
      "source": [
        "import pandas as pd\n",
        "import numpy as np\n",
        "from sklearn.model_selection import train_test_split\n",
        "from sklearn.feature_extraction.text import CountVectorizer\n",
        "from sklearn.feature_extraction.text import TfidfTransformer\n",
        "from sklearn.linear_model import LogisticRegression\n",
        "from sklearn.ensemble import RandomForestClassifier\n",
        "from sklearn.naive_bayes import MultinomialNB\n",
        "from sklearn.svm import LinearSVC\n",
        "from sklearn.neural_network import MLPClassifier\n",
        "\n"
      ],
      "execution_count": 0,
      "outputs": []
    },
    {
      "metadata": {
        "id": "lxNGjg1JB2x5",
        "colab_type": "text"
      },
      "cell_type": "markdown",
      "source": [
        "## Importing Dataset"
      ]
    },
    {
      "metadata": {
        "id": "i65oVkRCB2x6",
        "colab_type": "code",
        "colab": {}
      },
      "cell_type": "code",
      "source": [
        "df = pd.read_excel (r'C:/Users/334461373/Downloads/projectdata/projectdatanew.xlsx')"
      ],
      "execution_count": 0,
      "outputs": []
    },
    {
      "metadata": {
        "id": "Rm37sPqiB2x9",
        "colab_type": "text"
      },
      "cell_type": "markdown",
      "source": [
        "## Exploratory Data Analysis"
      ]
    },
    {
      "metadata": {
        "id": "k5_83_KYB2x-",
        "colab_type": "code",
        "colab": {},
        "outputId": "2105b5bd-99ae-42fc-8ac0-2b410ddc4207"
      },
      "cell_type": "code",
      "source": [
        "df.head()"
      ],
      "execution_count": 0,
      "outputs": [
        {
          "output_type": "execute_result",
          "data": {
            "text/html": [
              "<div>\n",
              "<style scoped>\n",
              "    .dataframe tbody tr th:only-of-type {\n",
              "        vertical-align: middle;\n",
              "    }\n",
              "\n",
              "    .dataframe tbody tr th {\n",
              "        vertical-align: top;\n",
              "    }\n",
              "\n",
              "    .dataframe thead th {\n",
              "        text-align: right;\n",
              "    }\n",
              "</style>\n",
              "<table border=\"1\" class=\"dataframe\">\n",
              "  <thead>\n",
              "    <tr style=\"text-align: right;\">\n",
              "      <th></th>\n",
              "      <th>Name</th>\n",
              "      <th>new_objective_extracted</th>\n",
              "      <th>new_strategy_extracted</th>\n",
              "      <th>ticker</th>\n",
              "      <th>prospectus_link</th>\n",
              "      <th>Target Variable</th>\n",
              "    </tr>\n",
              "  </thead>\n",
              "  <tbody>\n",
              "    <tr>\n",
              "      <th>0</th>\n",
              "      <td>iShares msci germany etf</td>\n",
              "      <td>The iShares MSCI Germany ETF (the “Fund”) see...</td>\n",
              "      <td>The Fund seeks to track the investment results...</td>\n",
              "      <td>EWG</td>\n",
              "      <td>https://www.sec.gov/Archives/edgar/data/930667...</td>\n",
              "      <td>Medium Risk</td>\n",
              "    </tr>\n",
              "    <tr>\n",
              "      <th>1</th>\n",
              "      <td>iShares msci mexico etf</td>\n",
              "      <td>The iShares MSCI Mexico ETF (the “Fund”) seek...</td>\n",
              "      <td>The Fund seeks to track the investment results...</td>\n",
              "      <td>EWW</td>\n",
              "      <td>https://www.sec.gov/Archives/edgar/data/930667...</td>\n",
              "      <td>High Risk</td>\n",
              "    </tr>\n",
              "    <tr>\n",
              "      <th>2</th>\n",
              "      <td>Fidelity® Cash Central Fund</td>\n",
              "      <td>Fidelity® Cash Central Fund seeks to obtain a ...</td>\n",
              "      <td>The Adviser invests the fund's assets in U.S. ...</td>\n",
              "      <td>NaN</td>\n",
              "      <td>https://www.sec.gov/Archives/edgar/data/102269...</td>\n",
              "      <td>Low Risk</td>\n",
              "    </tr>\n",
              "    <tr>\n",
              "      <th>3</th>\n",
              "      <td>iShares msci malaysia etf</td>\n",
              "      <td>The iShares MSCI Malaysia ETF (the “Fund”) se...</td>\n",
              "      <td>The Fund seeks to track the investment resul...</td>\n",
              "      <td>EWM</td>\n",
              "      <td>https://www.sec.gov/Archives/edgar/data/930667...</td>\n",
              "      <td>High Risk</td>\n",
              "    </tr>\n",
              "    <tr>\n",
              "      <th>4</th>\n",
              "      <td>iShares msci malaysia etf</td>\n",
              "      <td>The iShares MSCI Malaysia ETF (the “Fund”) se...</td>\n",
              "      <td>The Fund seeks to track the investment results...</td>\n",
              "      <td>EWM</td>\n",
              "      <td>https://www.sec.gov/Archives/edgar/data/930667...</td>\n",
              "      <td>High Risk</td>\n",
              "    </tr>\n",
              "  </tbody>\n",
              "</table>\n",
              "</div>"
            ],
            "text/plain": [
              "                          Name  \\\n",
              "0     iShares msci germany etf   \n",
              "1      iShares msci mexico etf   \n",
              "2  Fidelity® Cash Central Fund   \n",
              "3    iShares msci malaysia etf   \n",
              "4    iShares msci malaysia etf   \n",
              "\n",
              "                             new_objective_extracted  \\\n",
              "0   The iShares MSCI Germany ETF (the “Fund”) see...   \n",
              "1   The iShares MSCI Mexico ETF (the “Fund”) seek...   \n",
              "2  Fidelity® Cash Central Fund seeks to obtain a ...   \n",
              "3   The iShares MSCI Malaysia ETF (the “Fund”) se...   \n",
              "4   The iShares MSCI Malaysia ETF (the “Fund”) se...   \n",
              "\n",
              "                              new_strategy_extracted ticker  \\\n",
              "0  The Fund seeks to track the investment results...   EWG    \n",
              "1  The Fund seeks to track the investment results...    EWW   \n",
              "2  The Adviser invests the fund's assets in U.S. ...    NaN   \n",
              "3    The Fund seeks to track the investment resul...   EWM    \n",
              "4  The Fund seeks to track the investment results...   EWM    \n",
              "\n",
              "                                     prospectus_link Target Variable  \n",
              "0  https://www.sec.gov/Archives/edgar/data/930667...     Medium Risk  \n",
              "1  https://www.sec.gov/Archives/edgar/data/930667...       High Risk  \n",
              "2  https://www.sec.gov/Archives/edgar/data/102269...        Low Risk  \n",
              "3  https://www.sec.gov/Archives/edgar/data/930667...       High Risk  \n",
              "4  https://www.sec.gov/Archives/edgar/data/930667...       High Risk  "
            ]
          },
          "metadata": {
            "tags": []
          },
          "execution_count": 39
        }
      ]
    },
    {
      "metadata": {
        "id": "k358FE65B2yF",
        "colab_type": "code",
        "colab": {},
        "outputId": "15231531-d6ef-4e1c-95ec-d44309a94a35"
      },
      "cell_type": "code",
      "source": [
        "df['new_strategy_extracted'][0]"
      ],
      "execution_count": 0,
      "outputs": [
        {
          "output_type": "execute_result",
          "data": {
            "text/plain": [
              "\"The Fund seeks to track the investment results of the MSCI Germany Index (the “Underlying Index”), which consists of stocks traded primarily on the Frankfurt Stock Exchange. The Underlying Index may include large-, mid- or small-capitalization companies. Components of the Underlying Index primarily include consumer discretionary, financials and healthcare companies. The components of the Underlying Index, and the degree to which these components represent certain industries, are likely to change over time.\\nBFA uses a “passive” or indexing approach to try to achieve the Fund’s investment objective. Unlike many investment companies, the Fund does not try to “beat” the index it tracks and does not seek temporary defensive positions when markets decline or appear overvalued.\\nIndexing may eliminate the chance that the Fund will substantially outperform the Underlying Index but also may reduce some of the risks of active management, such as poor security selection. Indexing seeks to achieve\\nlower costs and better after-tax performance by keeping portfolio turnover low in comparison to actively managed investment companies.\\nBFA uses a representative sampling indexing strategy to manage the Fund. “Representative sampling” is an indexing strategy that involves investing in a representative sample of securities that collectively has an investment profile similar to that of an applicable underlying index. The securities selected are expected to have, in the aggregate, investment characteristics (based on factors such as market capitalization and industry weightings), fundamental characteristics (such as return variability and yield) and liquidity measures similar to those of an applicable underlying index. The Fund may or may not hold all of the securities in an applicable underlying index.\\nThe Fund will at all times invest at least 80% of its assets in the securities of its Underlying Index and in depositary receipts representing securities in its Underlying Index. The Fund may invest the remainder of its assets in other securities, including securities not in the Underlying Index, but which BFA believes will help the Fund track the Underlying Index, and in other investments, including futures contracts, options on futures contracts, other types of options and swaps related to its Underlying Index, as well as cash and cash equivalents, including shares of money market funds advised by BFA or its affiliates. The Fund seeks to track the investment results of the Underlying Index before fees and expenses of the Fund.\\nThe Fund may lend securities representing up to one-third of the value of the Fund's total assets (including the value of any collateral received).\\nThe Underlying Index is sponsored by MSCI Inc. (the “Index Provider” or “MSCI”), which is independent of the Fund and BFA. The Index Provider determines the composition and relative weightings of the securities in the Underlying Index and publishes information regarding the market value of the Underlying Index.\""
            ]
          },
          "metadata": {
            "tags": []
          },
          "execution_count": 40
        }
      ]
    },
    {
      "metadata": {
        "id": "KnzAbPX0B2yK",
        "colab_type": "code",
        "colab": {}
      },
      "cell_type": "code",
      "source": [
        "df = df[pd.notnull(df['new_strategy_extracted'])]"
      ],
      "execution_count": 0,
      "outputs": []
    },
    {
      "metadata": {
        "id": "Al8LYLa_B2yM",
        "colab_type": "code",
        "colab": {},
        "outputId": "379ac338-ce6d-46f9-c3fb-559e1322c913"
      },
      "cell_type": "code",
      "source": [
        "df.info()"
      ],
      "execution_count": 0,
      "outputs": [
        {
          "output_type": "stream",
          "text": [
            "<class 'pandas.core.frame.DataFrame'>\n",
            "Int64Index: 224 entries, 0 to 223\n",
            "Data columns (total 6 columns):\n",
            "Name                       224 non-null object\n",
            "new_objective_extracted    224 non-null object\n",
            "new_strategy_extracted     224 non-null object\n",
            "ticker                     211 non-null object\n",
            "prospectus_link            224 non-null object\n",
            "Target Variable            224 non-null object\n",
            "dtypes: object(6)\n",
            "memory usage: 12.2+ KB\n"
          ],
          "name": "stdout"
        }
      ]
    },
    {
      "metadata": {
        "id": "yfmp53GJB2yR",
        "colab_type": "text"
      },
      "cell_type": "markdown",
      "source": [
        "## Selecting Meaningful Features"
      ]
    },
    {
      "metadata": {
        "id": "1up-8_-YB2yS",
        "colab_type": "code",
        "colab": {}
      },
      "cell_type": "code",
      "source": [
        "col = ['Target Variable', 'new_strategy_extracted']\n",
        "df = df[col]"
      ],
      "execution_count": 0,
      "outputs": []
    },
    {
      "metadata": {
        "id": "wsmSOycLB2yV",
        "colab_type": "code",
        "colab": {},
        "outputId": "4201f29e-24a5-4f8e-c5d6-85ff28d344a5"
      },
      "cell_type": "code",
      "source": [
        "df.columns"
      ],
      "execution_count": 0,
      "outputs": [
        {
          "output_type": "execute_result",
          "data": {
            "text/plain": [
              "Index(['Target Variable', 'new_strategy_extracted'], dtype='object')"
            ]
          },
          "metadata": {
            "tags": []
          },
          "execution_count": 44
        }
      ]
    },
    {
      "metadata": {
        "id": "MlCJLc7RB2ya",
        "colab_type": "code",
        "colab": {}
      },
      "cell_type": "code",
      "source": [
        "df.columns = ['target_variable', 'new_strategy_extracted']"
      ],
      "execution_count": 0,
      "outputs": []
    },
    {
      "metadata": {
        "id": "BpGWGcpIB2ye",
        "colab_type": "code",
        "colab": {},
        "outputId": "7360886f-4ec2-4de0-96a2-dd6fb5ed4501"
      },
      "cell_type": "code",
      "source": [
        "df.head()"
      ],
      "execution_count": 0,
      "outputs": [
        {
          "output_type": "execute_result",
          "data": {
            "text/html": [
              "<div>\n",
              "<style scoped>\n",
              "    .dataframe tbody tr th:only-of-type {\n",
              "        vertical-align: middle;\n",
              "    }\n",
              "\n",
              "    .dataframe tbody tr th {\n",
              "        vertical-align: top;\n",
              "    }\n",
              "\n",
              "    .dataframe thead th {\n",
              "        text-align: right;\n",
              "    }\n",
              "</style>\n",
              "<table border=\"1\" class=\"dataframe\">\n",
              "  <thead>\n",
              "    <tr style=\"text-align: right;\">\n",
              "      <th></th>\n",
              "      <th>target_variable</th>\n",
              "      <th>new_strategy_extracted</th>\n",
              "    </tr>\n",
              "  </thead>\n",
              "  <tbody>\n",
              "    <tr>\n",
              "      <th>0</th>\n",
              "      <td>Medium Risk</td>\n",
              "      <td>The Fund seeks to track the investment results...</td>\n",
              "    </tr>\n",
              "    <tr>\n",
              "      <th>1</th>\n",
              "      <td>High Risk</td>\n",
              "      <td>The Fund seeks to track the investment results...</td>\n",
              "    </tr>\n",
              "    <tr>\n",
              "      <th>2</th>\n",
              "      <td>Low Risk</td>\n",
              "      <td>The Adviser invests the fund's assets in U.S. ...</td>\n",
              "    </tr>\n",
              "    <tr>\n",
              "      <th>3</th>\n",
              "      <td>High Risk</td>\n",
              "      <td>The Fund seeks to track the investment resul...</td>\n",
              "    </tr>\n",
              "    <tr>\n",
              "      <th>4</th>\n",
              "      <td>High Risk</td>\n",
              "      <td>The Fund seeks to track the investment results...</td>\n",
              "    </tr>\n",
              "  </tbody>\n",
              "</table>\n",
              "</div>"
            ],
            "text/plain": [
              "  target_variable                             new_strategy_extracted\n",
              "0     Medium Risk  The Fund seeks to track the investment results...\n",
              "1       High Risk  The Fund seeks to track the investment results...\n",
              "2        Low Risk  The Adviser invests the fund's assets in U.S. ...\n",
              "3       High Risk    The Fund seeks to track the investment resul...\n",
              "4       High Risk  The Fund seeks to track the investment results..."
            ]
          },
          "metadata": {
            "tags": []
          },
          "execution_count": 46
        }
      ]
    },
    {
      "metadata": {
        "id": "z7zX8idvB2yi",
        "colab_type": "code",
        "colab": {}
      },
      "cell_type": "code",
      "source": [
        "df['category_id'] = df['target_variable'].factorize()[0]\n",
        "from io import StringIO\n",
        "category_id_df = df[['target_variable', 'category_id']].drop_duplicates().sort_values('category_id')\n",
        "category_to_id = dict(category_id_df.values)\n",
        "id_to_category = dict(category_id_df[['category_id', 'target_variable']].values)"
      ],
      "execution_count": 0,
      "outputs": []
    },
    {
      "metadata": {
        "id": "hwLKZMcwB2yl",
        "colab_type": "code",
        "colab": {},
        "outputId": "189b1d10-2651-4af0-f1c1-5ea56e7f5546"
      },
      "cell_type": "code",
      "source": [
        "df.head()"
      ],
      "execution_count": 0,
      "outputs": [
        {
          "output_type": "execute_result",
          "data": {
            "text/html": [
              "<div>\n",
              "<style scoped>\n",
              "    .dataframe tbody tr th:only-of-type {\n",
              "        vertical-align: middle;\n",
              "    }\n",
              "\n",
              "    .dataframe tbody tr th {\n",
              "        vertical-align: top;\n",
              "    }\n",
              "\n",
              "    .dataframe thead th {\n",
              "        text-align: right;\n",
              "    }\n",
              "</style>\n",
              "<table border=\"1\" class=\"dataframe\">\n",
              "  <thead>\n",
              "    <tr style=\"text-align: right;\">\n",
              "      <th></th>\n",
              "      <th>target_variable</th>\n",
              "      <th>new_strategy_extracted</th>\n",
              "      <th>category_id</th>\n",
              "    </tr>\n",
              "  </thead>\n",
              "  <tbody>\n",
              "    <tr>\n",
              "      <th>0</th>\n",
              "      <td>Medium Risk</td>\n",
              "      <td>The Fund seeks to track the investment results...</td>\n",
              "      <td>0</td>\n",
              "    </tr>\n",
              "    <tr>\n",
              "      <th>1</th>\n",
              "      <td>High Risk</td>\n",
              "      <td>The Fund seeks to track the investment results...</td>\n",
              "      <td>1</td>\n",
              "    </tr>\n",
              "    <tr>\n",
              "      <th>2</th>\n",
              "      <td>Low Risk</td>\n",
              "      <td>The Adviser invests the fund's assets in U.S. ...</td>\n",
              "      <td>2</td>\n",
              "    </tr>\n",
              "    <tr>\n",
              "      <th>3</th>\n",
              "      <td>High Risk</td>\n",
              "      <td>The Fund seeks to track the investment resul...</td>\n",
              "      <td>1</td>\n",
              "    </tr>\n",
              "    <tr>\n",
              "      <th>4</th>\n",
              "      <td>High Risk</td>\n",
              "      <td>The Fund seeks to track the investment results...</td>\n",
              "      <td>1</td>\n",
              "    </tr>\n",
              "  </tbody>\n",
              "</table>\n",
              "</div>"
            ],
            "text/plain": [
              "  target_variable                             new_strategy_extracted  \\\n",
              "0     Medium Risk  The Fund seeks to track the investment results...   \n",
              "1       High Risk  The Fund seeks to track the investment results...   \n",
              "2        Low Risk  The Adviser invests the fund's assets in U.S. ...   \n",
              "3       High Risk    The Fund seeks to track the investment resul...   \n",
              "4       High Risk  The Fund seeks to track the investment results...   \n",
              "\n",
              "   category_id  \n",
              "0            0  \n",
              "1            1  \n",
              "2            2  \n",
              "3            1  \n",
              "4            1  "
            ]
          },
          "metadata": {
            "tags": []
          },
          "execution_count": 48
        }
      ]
    },
    {
      "metadata": {
        "id": "0oAHF5PDB2yq",
        "colab_type": "text"
      },
      "cell_type": "markdown",
      "source": [
        "## Frequency Count of Target Variable"
      ]
    },
    {
      "metadata": {
        "id": "3He4tfhFB2yq",
        "colab_type": "code",
        "colab": {},
        "outputId": "d8562d94-4965-4253-8576-fc1a4b518864"
      },
      "cell_type": "code",
      "source": [
        "from collections import Counter\n",
        "Counter(df[\"target_variable\"])"
      ],
      "execution_count": 0,
      "outputs": [
        {
          "output_type": "execute_result",
          "data": {
            "text/plain": [
              "Counter({'Medium Risk': 159, 'High Risk': 44, 'Low Risk': 21})"
            ]
          },
          "metadata": {
            "tags": []
          },
          "execution_count": 49
        }
      ]
    },
    {
      "metadata": {
        "id": "9FKI82JaB2yx",
        "colab_type": "code",
        "colab": {},
        "outputId": "7297c6bd-d50a-455f-caac-0b46780c1ea4"
      },
      "cell_type": "code",
      "source": [
        "import matplotlib.pyplot as plt\n",
        "fig = plt.figure(figsize=(8,6))\n",
        "df.groupby('target_variable').new_strategy_extracted.count().plot.bar(ylim=0)\n",
        "plt.show()"
      ],
      "execution_count": 0,
      "outputs": [
        {
          "output_type": "display_data",
          "data": {
            "image/png": "[encoded data removed]",
            "text/plain": [
              "<Figure size 576x432 with 1 Axes>"
            ]
          },
          "metadata": {
            "tags": [],
            "needs_background": "light"
          }
        }
      ]
    },
    {
      "metadata": {
        "id": "NZ1ZKu3JB2y3",
        "colab_type": "code",
        "colab": {}
      },
      "cell_type": "code",
      "source": [
        "import re \n",
        "def clean_str(string):\n",
        "    \"\"\"\n",
        "    Tokenization/string cleaning for dataset\n",
        "    \n",
        "    \"\"\"\n",
        "    string = re.sub(r\"\\n\", \"\", string)    \n",
        "    string = re.sub(r\"\\r\", \"\", string) \n",
        "    string = re.sub(r\"[0-9]\", \"digit\", string)\n",
        "    string = re.sub(r\"\\'\", \"\", string)    \n",
        "    string = re.sub(r\"\\\"\", \"\", string)    \n",
        "    return string.strip().lower()\n",
        "X = []\n",
        "for i in range(df.shape[0]):\n",
        "    X.append(clean_str(df.iloc[i][1]))\n",
        "y = np.array(df[\"category_id\"])"
      ],
      "execution_count": 0,
      "outputs": []
    },
    {
      "metadata": {
        "id": "T8y0eqLQB2y9",
        "colab_type": "code",
        "colab": {},
        "outputId": "51675ffa-e51d-479d-8cee-c4d033376cf8"
      },
      "cell_type": "code",
      "source": [
        "y"
      ],
      "execution_count": 0,
      "outputs": [
        {
          "output_type": "execute_result",
          "data": {
            "text/plain": [
              "array([0, 1, 2, 1, 1, 1, 0, 0, 0, 0, 0, 0, 2, 2, 2, 0, 0, 0, 0, 0, 0, 1,\n",
              "       1, 1, 2, 0, 1, 0, 1, 0, 0, 0, 1, 1, 1, 1, 1, 2, 2, 0, 1, 1, 0, 1,\n",
              "       1, 0, 1, 1, 0, 0, 0, 0, 0, 0, 0, 0, 0, 0, 0, 1, 2, 0, 0, 0, 0, 1,\n",
              "       0, 0, 0, 0, 0, 0, 0, 0, 0, 0, 0, 1, 0, 1, 0, 0, 0, 0, 0, 0, 0, 0,\n",
              "       0, 0, 2, 2, 2, 1, 1, 0, 0, 1, 0, 1, 1, 1, 0, 0, 0, 1, 0, 0, 0, 0,\n",
              "       0, 0, 0, 1, 2, 0, 0, 1, 0, 0, 0, 0, 0, 0, 0, 0, 0, 0, 0, 0, 0, 0,\n",
              "       0, 0, 0, 0, 0, 0, 0, 0, 0, 0, 0, 0, 0, 0, 0, 0, 2, 0, 0, 0, 0, 0,\n",
              "       0, 0, 0, 0, 1, 0, 0, 0, 0, 0, 0, 2, 2, 2, 0, 1, 0, 2, 0, 2, 0, 0,\n",
              "       0, 0, 0, 0, 0, 2, 0, 0, 0, 0, 0, 0, 0, 0, 0, 0, 0, 1, 0, 0, 1, 0,\n",
              "       0, 1, 1, 1, 0, 0, 1, 1, 2, 2, 0, 0, 1, 1, 0, 0, 0, 0, 0, 0, 0, 0,\n",
              "       0, 0, 0, 0], dtype=int64)"
            ]
          },
          "metadata": {
            "tags": []
          },
          "execution_count": 52
        }
      ]
    },
    {
      "metadata": {
        "id": "bKrbWggzB2zD",
        "colab_type": "code",
        "colab": {},
        "outputId": "a2103264-9b26-4912-b215-686a8fa9f69a"
      },
      "cell_type": "code",
      "source": [
        "from sklearn.feature_extraction.text import TfidfVectorizer\n",
        "\n",
        "tfidf = TfidfVectorizer(sublinear_tf=True, min_df=5, norm='l2', encoding='latin-1', ngram_range=(1, 2), stop_words='english')\n",
        "\n",
        "features = tfidf.fit_transform(X).toarray()\n",
        "labels = df.category_id\n",
        "features.shape"
      ],
      "execution_count": 0,
      "outputs": [
        {
          "output_type": "execute_result",
          "data": {
            "text/plain": [
              "(224, 2190)"
            ]
          },
          "metadata": {
            "tags": []
          },
          "execution_count": 53
        }
      ]
    },
    {
      "metadata": {
        "id": "_CV7-g7eB2zI",
        "colab_type": "code",
        "colab": {},
        "outputId": "aeb72ff6-0e1d-440f-e771-4a2f8b193c59"
      },
      "cell_type": "code",
      "source": [
        "df.head()"
      ],
      "execution_count": 0,
      "outputs": [
        {
          "output_type": "execute_result",
          "data": {
            "text/html": [
              "<div>\n",
              "<style scoped>\n",
              "    .dataframe tbody tr th:only-of-type {\n",
              "        vertical-align: middle;\n",
              "    }\n",
              "\n",
              "    .dataframe tbody tr th {\n",
              "        vertical-align: top;\n",
              "    }\n",
              "\n",
              "    .dataframe thead th {\n",
              "        text-align: right;\n",
              "    }\n",
              "</style>\n",
              "<table border=\"1\" class=\"dataframe\">\n",
              "  <thead>\n",
              "    <tr style=\"text-align: right;\">\n",
              "      <th></th>\n",
              "      <th>target_variable</th>\n",
              "      <th>new_strategy_extracted</th>\n",
              "      <th>category_id</th>\n",
              "    </tr>\n",
              "  </thead>\n",
              "  <tbody>\n",
              "    <tr>\n",
              "      <th>0</th>\n",
              "      <td>Medium Risk</td>\n",
              "      <td>The Fund seeks to track the investment results...</td>\n",
              "      <td>0</td>\n",
              "    </tr>\n",
              "    <tr>\n",
              "      <th>1</th>\n",
              "      <td>High Risk</td>\n",
              "      <td>The Fund seeks to track the investment results...</td>\n",
              "      <td>1</td>\n",
              "    </tr>\n",
              "    <tr>\n",
              "      <th>2</th>\n",
              "      <td>Low Risk</td>\n",
              "      <td>The Adviser invests the fund's assets in U.S. ...</td>\n",
              "      <td>2</td>\n",
              "    </tr>\n",
              "    <tr>\n",
              "      <th>3</th>\n",
              "      <td>High Risk</td>\n",
              "      <td>The Fund seeks to track the investment resul...</td>\n",
              "      <td>1</td>\n",
              "    </tr>\n",
              "    <tr>\n",
              "      <th>4</th>\n",
              "      <td>High Risk</td>\n",
              "      <td>The Fund seeks to track the investment results...</td>\n",
              "      <td>1</td>\n",
              "    </tr>\n",
              "  </tbody>\n",
              "</table>\n",
              "</div>"
            ],
            "text/plain": [
              "  target_variable                             new_strategy_extracted  \\\n",
              "0     Medium Risk  The Fund seeks to track the investment results...   \n",
              "1       High Risk  The Fund seeks to track the investment results...   \n",
              "2        Low Risk  The Adviser invests the fund's assets in U.S. ...   \n",
              "3       High Risk    The Fund seeks to track the investment resul...   \n",
              "4       High Risk  The Fund seeks to track the investment results...   \n",
              "\n",
              "   category_id  \n",
              "0            0  \n",
              "1            1  \n",
              "2            2  \n",
              "3            1  \n",
              "4            1  "
            ]
          },
          "metadata": {
            "tags": []
          },
          "execution_count": 54
        }
      ]
    },
    {
      "metadata": {
        "id": "zyWt0M4HB2zN",
        "colab_type": "text"
      },
      "cell_type": "markdown",
      "source": [
        "## Data Modeling "
      ]
    },
    {
      "metadata": {
        "id": "0uXmvps3B2zO",
        "colab_type": "code",
        "colab": {}
      },
      "cell_type": "code",
      "source": [
        "\n",
        "X_train, X_test, y_train, y_test = train_test_split(X, df['target_variable'], random_state = 0)\n",
        "count_vect = CountVectorizer()\n",
        "X_train_counts = count_vect.fit_transform(X_train)\n",
        "tfidf_transformer = TfidfTransformer()\n",
        "X_train_tfidf = tfidf_transformer.fit_transform(X_train_counts)\n",
        "\n",
        "clf = MultinomialNB().fit(X_train_tfidf, y_train)"
      ],
      "execution_count": 0,
      "outputs": []
    },
    {
      "metadata": {
        "id": "xDVkF7uaB2zT",
        "colab_type": "code",
        "colab": {},
        "outputId": "81b7113b-40c0-4259-f178-6fa0719caecf"
      },
      "cell_type": "code",
      "source": [
        "print(clf.predict(count_vect.transform(['''\n",
        "The Fund seeks to track the investment results of the MSCI Emerging Markets ex China Index (the “Underlying Index”), which is designed to measure equity market performance in global emerging markets (with the exception of China). The Underlying Index is a free float-adjusted market capitalization weighted index that captures large- and mid-capitalization stocks across 23 of the 24 Emerging Markets countries (as defined by MSCI Inc. (the “Index Provider” or “MSCI”)), excluding China. The Underlying Index covers approximately 85% of the free float-adjusted market capitalization of each\n",
        "of the following countries: Brazil, Chile, Colombia, Czechia, Egypt, Greece, Hungary, India, Indonesia, Malaysia, Mexico, Pakistan, Peru, the Philippines, Poland, Qatar, Russia, South Africa, South Korea, Taiwan, Thailand, Turkey and the United Arab Emirates. As of August 31, 2018, a significant portion of the Underlying Index is represented by securities of companies in the financials and information technology industries or sectors. The components of the Underlying Index are likely to change over time.\n",
        "Currently, the Fund achieves its investment objective by investing all or a portion of its assets that are invested in India through one or more iShares exchange-traded funds (each an “ETF” or an “Underlying Fund”). However, BFA is not required to invest any portion, or any particular percentage, of the Fund’s assets in an Underlying Fund.\n",
        "BFA uses a “passive” or indexing approach to try to achieve the Fund’s investment objective. Unlike many investment companies, the Fund does not try to “beat” the index it tracks and does not seek temporary defensive positions when markets decline or appear overvalued.\n",
        "Indexing may eliminate the chance that the Fund will substantially outperform the Underlying Index but also may reduce some of the risks of active management, such as poor security selection. Indexing seeks to achieve lower costs and better after-tax performance by keeping portfolio turnover low in comparison to actively managed investment companies.\n",
        "BFA uses a representative sampling indexing strategy to manage the Fund. “Representative sampling” is an indexing strategy that involves investing in a representative sample of securities that collectively has an investment profile similar to that of an applicable underlying index. The securities selected are expected to have, in the aggregate, investment characteristics (based on factors such as market capitalization and industry weightings), fundamental characteristics (such as return variability and yield) and liquidity measures similar to those of an applicable underlying index. The Fund may or may not hold all of the securities in the Underlying Index.\n",
        "The Fund generally will invest at least 90% of its assets in the component securities (including indirect investments through an Underlying Fund) of the Underlying Index and may invest up to 10% of its assets in certain futures, options and swap contracts, cash and cash equivalents, including shares of money market funds advised by BFA or its affiliates, as well as in securities not included in the Underlying Index, but which BFA believes will help the Fund track the Underlying Index.\n",
        "The Underlying Fund holds Indian securities through a wholly-owned subsidiary located in the Republic of Mauritius (the “Subsidiary”). BFA serves as investment adviser to the Fund, each Underlying Fund and the Subsidiary. Unless otherwise indicated, the term “Fund” as used in this Prospectus\n",
        "means the Fund, Underlying Fund and/or the Subsidiary, as applicable. The Fund seeks to track the investment results of the Underlying Index before fees and expenses of the Fund.\n",
        "The Fund may lend securities representing up to one-third of the value of the Fund's total assets (including the value of any collateral received).\n",
        "The Underlying Index is sponsored by MSCI, which is independent of the Fund and BFA. The Index Provider determines the composition and relative weightings of the securities in the Underlying Index and publishes information regarding the market value of the Underlying Index\"\n",
        "'''])))"
      ],
      "execution_count": 0,
      "outputs": [
        {
          "output_type": "stream",
          "text": [
            "['Medium Risk']\n"
          ],
          "name": "stdout"
        }
      ]
    },
    {
      "metadata": {
        "id": "yhWpJls2B2zX",
        "colab_type": "code",
        "colab": {},
        "outputId": "7e6ebad5-8705-4bc9-a73e-40e1425a98f1"
      },
      "cell_type": "code",
      "source": [
        "df[df['new_strategy_extracted'] == '''The Adviser normally invests at least 80% of the fund's assets in convertible securities. Convertible securities are often lower-quality debt securities (those of less than investment-grade quality, also referred to as high yield debt securities or junk bonds). The Adviser may also invest the fund's assets in other types of securities, including common stocks.\n",
        "\n",
        "The Adviser may invest the fund's assets in securities of foreign issuers in addition to securities of domestic issuers.\n",
        "\n",
        "In buying and selling securities for the fund, the Adviser relies on fundamental analysis, which involves a bottom-up assessment of a company's potential for success in light of factors including its financial condition, earnings outlook, strategy, management, industry position, and economic and market conditions.\n",
        "\n",
        "In addition to the principal investment strategies discussed above, the Adviser may lend the fund's securities to broker-dealers or other institutions to earn income for the fund.\n",
        "\n",
        "The Adviser may also use various techniques, such as buying and selling futures contracts and exchange traded funds, to increase or decrease the fund's exposure to changing security prices or other factors that affect security values.\n",
        "\n",
        "If the Adviser's strategies do not work as intended, the fund may not achieve its objective.''']"
      ],
      "execution_count": 0,
      "outputs": [
        {
          "output_type": "execute_result",
          "data": {
            "text/html": [
              "<div>\n",
              "<style scoped>\n",
              "    .dataframe tbody tr th:only-of-type {\n",
              "        vertical-align: middle;\n",
              "    }\n",
              "\n",
              "    .dataframe tbody tr th {\n",
              "        vertical-align: top;\n",
              "    }\n",
              "\n",
              "    .dataframe thead th {\n",
              "        text-align: right;\n",
              "    }\n",
              "</style>\n",
              "<table border=\"1\" class=\"dataframe\">\n",
              "  <thead>\n",
              "    <tr style=\"text-align: right;\">\n",
              "      <th></th>\n",
              "      <th>target_variable</th>\n",
              "      <th>new_strategy_extracted</th>\n",
              "      <th>category_id</th>\n",
              "    </tr>\n",
              "  </thead>\n",
              "  <tbody>\n",
              "    <tr>\n",
              "      <th>93</th>\n",
              "      <td>High Risk</td>\n",
              "      <td>The Adviser normally invests at least 80% of t...</td>\n",
              "      <td>1</td>\n",
              "    </tr>\n",
              "    <tr>\n",
              "      <th>94</th>\n",
              "      <td>High Risk</td>\n",
              "      <td>The Adviser normally invests at least 80% of t...</td>\n",
              "      <td>1</td>\n",
              "    </tr>\n",
              "  </tbody>\n",
              "</table>\n",
              "</div>"
            ],
            "text/plain": [
              "   target_variable                             new_strategy_extracted  \\\n",
              "93       High Risk  The Adviser normally invests at least 80% of t...   \n",
              "94       High Risk  The Adviser normally invests at least 80% of t...   \n",
              "\n",
              "    category_id  \n",
              "93            1  \n",
              "94            1  "
            ]
          },
          "metadata": {
            "tags": []
          },
          "execution_count": 21
        }
      ]
    },
    {
      "metadata": {
        "id": "Ngr7DSmtB2za",
        "colab_type": "code",
        "colab": {},
        "outputId": "12aad286-644f-4d46-8fba-e10285503402"
      },
      "cell_type": "code",
      "source": [
        "from sklearn.model_selection import cross_val_score\n",
        "\n",
        "models = [\n",
        "    RandomForestClassifier(n_estimators=200, max_depth=3, random_state=0),\n",
        "    LinearSVC(),\n",
        "    MultinomialNB(),\n",
        "    LogisticRegression(random_state=0),\n",
        "    MLPClassifier(alpha=0.7, max_iter=600)\n",
        "]\n",
        "CV = 5\n",
        "cv_df = pd.DataFrame(index=range(CV * len(models)))\n",
        "entries = []\n",
        "for model in models:\n",
        "  model_name = model.__class__.__name__\n",
        "  accuracies = cross_val_score(model, features, labels, scoring='accuracy', cv=CV)\n",
        "  for fold_idx, accuracy in enumerate(accuracies):\n",
        "    entries.append((model_name, fold_idx, accuracy))\n",
        "cv_df = pd.DataFrame(entries, columns=['model_name', 'fold_idx', 'accuracy'])"
      ],
      "execution_count": 0,
      "outputs": [
        {
          "output_type": "stream",
          "text": [
            "C:\\Users\\334461373\\AppData\\Local\\Continuum\\anaconda3\\lib\\site-packages\\sklearn\\linear_model\\logistic.py:433: FutureWarning: Default solver will be changed to 'lbfgs' in 0.22. Specify a solver to silence this warning.\n",
            "  FutureWarning)\n",
            "C:\\Users\\334461373\\AppData\\Local\\Continuum\\anaconda3\\lib\\site-packages\\sklearn\\linear_model\\logistic.py:460: FutureWarning: Default multi_class will be changed to 'auto' in 0.22. Specify the multi_class option to silence this warning.\n",
            "  \"this warning.\", FutureWarning)\n",
            "C:\\Users\\334461373\\AppData\\Local\\Continuum\\anaconda3\\lib\\site-packages\\sklearn\\linear_model\\logistic.py:433: FutureWarning: Default solver will be changed to 'lbfgs' in 0.22. Specify a solver to silence this warning.\n",
            "  FutureWarning)\n",
            "C:\\Users\\334461373\\AppData\\Local\\Continuum\\anaconda3\\lib\\site-packages\\sklearn\\linear_model\\logistic.py:460: FutureWarning: Default multi_class will be changed to 'auto' in 0.22. Specify the multi_class option to silence this warning.\n",
            "  \"this warning.\", FutureWarning)\n",
            "C:\\Users\\334461373\\AppData\\Local\\Continuum\\anaconda3\\lib\\site-packages\\sklearn\\linear_model\\logistic.py:433: FutureWarning: Default solver will be changed to 'lbfgs' in 0.22. Specify a solver to silence this warning.\n",
            "  FutureWarning)\n",
            "C:\\Users\\334461373\\AppData\\Local\\Continuum\\anaconda3\\lib\\site-packages\\sklearn\\linear_model\\logistic.py:460: FutureWarning: Default multi_class will be changed to 'auto' in 0.22. Specify the multi_class option to silence this warning.\n",
            "  \"this warning.\", FutureWarning)\n",
            "C:\\Users\\334461373\\AppData\\Local\\Continuum\\anaconda3\\lib\\site-packages\\sklearn\\linear_model\\logistic.py:433: FutureWarning: Default solver will be changed to 'lbfgs' in 0.22. Specify a solver to silence this warning.\n",
            "  FutureWarning)\n",
            "C:\\Users\\334461373\\AppData\\Local\\Continuum\\anaconda3\\lib\\site-packages\\sklearn\\linear_model\\logistic.py:460: FutureWarning: Default multi_class will be changed to 'auto' in 0.22. Specify the multi_class option to silence this warning.\n",
            "  \"this warning.\", FutureWarning)\n",
            "C:\\Users\\334461373\\AppData\\Local\\Continuum\\anaconda3\\lib\\site-packages\\sklearn\\linear_model\\logistic.py:433: FutureWarning: Default solver will be changed to 'lbfgs' in 0.22. Specify a solver to silence this warning.\n",
            "  FutureWarning)\n",
            "C:\\Users\\334461373\\AppData\\Local\\Continuum\\anaconda3\\lib\\site-packages\\sklearn\\linear_model\\logistic.py:460: FutureWarning: Default multi_class will be changed to 'auto' in 0.22. Specify the multi_class option to silence this warning.\n",
            "  \"this warning.\", FutureWarning)\n"
          ],
          "name": "stderr"
        }
      ]
    },
    {
      "metadata": {
        "id": "fwxst59dB2zg",
        "colab_type": "code",
        "colab": {},
        "outputId": "edee00ba-4b3e-4948-e65a-3e463b3199f9"
      },
      "cell_type": "code",
      "source": [
        "import seaborn as sns\n",
        "\n",
        "sns.boxplot(x='model_name', y='accuracy', data=cv_df)\n",
        "sns.stripplot(x='model_name', y='accuracy', data=cv_df, \n",
        "              size=8, jitter=True, edgecolor=\"gray\", linewidth=2)\n",
        "plt.show()"
      ],
      "execution_count": 0,
      "outputs": [
        {
          "output_type": "display_data",
          "data": {
            "image/png": "[encoded data removed]",
            "text/plain": [
              "<Figure size 432x288 with 1 Axes>"
            ]
          },
          "metadata": {
            "tags": [],
            "needs_background": "light"
          }
        }
      ]
    },
    {
      "metadata": {
        "id": "OAPuj_V3B2zk",
        "colab_type": "code",
        "colab": {},
        "outputId": "7c346221-f485-4229-c6b9-336e7779eca6"
      },
      "cell_type": "code",
      "source": [
        "cv_df.groupby('model_name').accuracy.mean()"
      ],
      "execution_count": 0,
      "outputs": [
        {
          "output_type": "execute_result",
          "data": {
            "text/plain": [
              "model_name\n",
              "LinearSVC                 0.773666\n",
              "LogisticRegression        0.723330\n",
              "MLPClassifier             0.791444\n",
              "MultinomialNB             0.697380\n",
              "RandomForestClassifier    0.705649\n",
              "Name: accuracy, dtype: float64"
            ]
          },
          "metadata": {
            "tags": []
          },
          "execution_count": 34
        }
      ]
    },
    {
      "metadata": {
        "id": "WQkQN5zmB2zo",
        "colab_type": "code",
        "colab": {}
      },
      "cell_type": "code",
      "source": [
        "from sklearn.model_selection import train_test_split\n",
        "\n",
        "model = MLPClassifier(alpha=0.7, max_iter=400)\n",
        "\n",
        "X_train, X_test, y_train, y_test, indices_train, indices_test = train_test_split(features, labels, df.index, test_size=0.33, random_state=0)\n",
        "model.fit(X_train, y_train)\n",
        "y_pred = model.predict(X_test)"
      ],
      "execution_count": 0,
      "outputs": []
    },
    {
      "metadata": {
        "id": "GX0cLlLEB2zq",
        "colab_type": "code",
        "colab": {},
        "outputId": "37e35a8b-2725-4e2f-d7f0-b27a8d78fb7c"
      },
      "cell_type": "code",
      "source": [
        "from sklearn.metrics import confusion_matrix\n",
        "\n",
        "conf_mat = confusion_matrix(y_test, y_pred)\n",
        "fig, ax = plt.subplots(figsize=(8,6))\n",
        "sns.heatmap(conf_mat, annot=True, fmt='d',\n",
        "            xticklabels=category_id_df.target_variable.values, yticklabels=category_id_df.target_variable.values)\n",
        "plt.ylabel('Actual')\n",
        "plt.xlabel('Predicted')\n",
        "plt.show()"
      ],
      "execution_count": 0,
      "outputs": [
        {
          "output_type": "display_data",
          "data": {
            "image/png": "[encoded data removed]",
            "text/plain": [
              "<Figure size 576x432 with 2 Axes>"
            ]
          },
          "metadata": {
            "tags": [],
            "needs_background": "light"
          }
        }
      ]
    },
    {
      "metadata": {
        "id": "J1bTx4qeB2zt",
        "colab_type": "code",
        "colab": {},
        "outputId": "2a002095-aefb-47ec-9392-b533cd1cfbbf"
      },
      "cell_type": "code",
      "source": [
        "from IPython.display import display\n",
        "\n",
        "for predicted in category_id_df.category_id:\n",
        "  for actual in category_id_df.category_id:\n",
        "    if predicted != actual and conf_mat[actual, predicted] >= 6:\n",
        "      print(\"'{}' predicted as '{}' : {} examples.\".format(id_to_category[actual], id_to_category[predicted], conf_mat[actual, predicted]))\n",
        "      display(df.loc[indices_test[(y_test == actual) & (y_pred == predicted)]][['target_variable', 'new_strategy_extracted']])\n",
        "      print('')"
      ],
      "execution_count": 0,
      "outputs": [
        {
          "output_type": "stream",
          "text": [
            "'High Risk' predicted as 'Medium Risk' : 6 examples.\n"
          ],
          "name": "stdout"
        },
        {
          "output_type": "display_data",
          "data": {
            "text/html": [
              "<div>\n",
              "<style scoped>\n",
              "    .dataframe tbody tr th:only-of-type {\n",
              "        vertical-align: middle;\n",
              "    }\n",
              "\n",
              "    .dataframe tbody tr th {\n",
              "        vertical-align: top;\n",
              "    }\n",
              "\n",
              "    .dataframe thead th {\n",
              "        text-align: right;\n",
              "    }\n",
              "</style>\n",
              "<table border=\"1\" class=\"dataframe\">\n",
              "  <thead>\n",
              "    <tr style=\"text-align: right;\">\n",
              "      <th></th>\n",
              "      <th>target_variable</th>\n",
              "      <th>new_strategy_extracted</th>\n",
              "    </tr>\n",
              "  </thead>\n",
              "  <tbody>\n",
              "    <tr>\n",
              "      <th>169</th>\n",
              "      <td>High Risk</td>\n",
              "      <td>The Fund seeks to track the investment results...</td>\n",
              "    </tr>\n",
              "    <tr>\n",
              "      <th>44</th>\n",
              "      <td>High Risk</td>\n",
              "      <td>The Fund seeks to track the investment results...</td>\n",
              "    </tr>\n",
              "    <tr>\n",
              "      <th>201</th>\n",
              "      <td>High Risk</td>\n",
              "      <td>The Fund seeks to track the investment results...</td>\n",
              "    </tr>\n",
              "    <tr>\n",
              "      <th>196</th>\n",
              "      <td>High Risk</td>\n",
              "      <td>The Fund seeks to track the investment results...</td>\n",
              "    </tr>\n",
              "    <tr>\n",
              "      <th>205</th>\n",
              "      <td>High Risk</td>\n",
              "      <td>The Fund seeks to track the investment results...</td>\n",
              "    </tr>\n",
              "    <tr>\n",
              "      <th>26</th>\n",
              "      <td>High Risk</td>\n",
              "      <td>The Fund seeks to track the investment results...</td>\n",
              "    </tr>\n",
              "  </tbody>\n",
              "</table>\n",
              "</div>"
            ],
            "text/plain": [
              "    target_variable                             new_strategy_extracted\n",
              "169       High Risk  The Fund seeks to track the investment results...\n",
              "44        High Risk  The Fund seeks to track the investment results...\n",
              "201       High Risk  The Fund seeks to track the investment results...\n",
              "196       High Risk  The Fund seeks to track the investment results...\n",
              "205       High Risk  The Fund seeks to track the investment results...\n",
              "26        High Risk  The Fund seeks to track the investment results..."
            ]
          },
          "metadata": {
            "tags": []
          }
        },
        {
          "output_type": "stream",
          "text": [
            "\n"
          ],
          "name": "stdout"
        }
      ]
    },
    {
      "metadata": {
        "id": "Tqc6Ui5SB2zw",
        "colab_type": "code",
        "colab": {},
        "outputId": "028933d0-3c6c-4142-a395-5f8659eb4131"
      },
      "cell_type": "code",
      "source": [
        "model.fit(features, labels)"
      ],
      "execution_count": 0,
      "outputs": [
        {
          "output_type": "execute_result",
          "data": {
            "text/plain": [
              "MLPClassifier(activation='relu', alpha=0.7, batch_size='auto', beta_1=0.9,\n",
              "       beta_2=0.999, early_stopping=False, epsilon=1e-08,\n",
              "       hidden_layer_sizes=(100,), learning_rate='constant',\n",
              "       learning_rate_init=0.001, max_iter=400, momentum=0.9,\n",
              "       n_iter_no_change=10, nesterovs_momentum=True, power_t=0.5,\n",
              "       random_state=None, shuffle=True, solver='adam', tol=0.0001,\n",
              "       validation_fraction=0.1, verbose=False, warm_start=False)"
            ]
          },
          "metadata": {
            "tags": []
          },
          "execution_count": 28
        }
      ]
    },
    {
      "metadata": {
        "id": "RWJuKSuQB2zz",
        "colab_type": "text"
      },
      "cell_type": "markdown",
      "source": [
        "### Classification Report "
      ]
    },
    {
      "metadata": {
        "id": "h9Y90k0aB2z0",
        "colab_type": "code",
        "colab": {},
        "outputId": "13e46e2d-5f41-476b-d976-d32957b0f030"
      },
      "cell_type": "code",
      "source": [
        "from sklearn import metrics\n",
        "print(metrics.classification_report(y_test, y_pred, \n",
        "                                    target_names=df['target_variable'].unique()))"
      ],
      "execution_count": 0,
      "outputs": [
        {
          "output_type": "stream",
          "text": [
            "              precision    recall  f1-score   support\n",
            "\n",
            " Medium Risk       0.81      0.94      0.87        50\n",
            "   High Risk       0.73      0.57      0.64        14\n",
            "    Low Risk       1.00      0.50      0.67        10\n",
            "\n",
            "   micro avg       0.81      0.81      0.81        74\n",
            "   macro avg       0.85      0.67      0.73        74\n",
            "weighted avg       0.82      0.81      0.80        74\n",
            "\n"
          ],
          "name": "stdout"
        }
      ]
    },
    {
      "metadata": {
        "id": "t4SpFgRwB2z3",
        "colab_type": "code",
        "colab": {},
        "outputId": "fb8a5b0c-0aec-4fb8-fc69-1abd9156afe7"
      },
      "cell_type": "code",
      "source": [
        "cv_accuracy = cross_val_score(model, features, labels,cv=5)\n",
        "print(\"Mean Accuracy: {}\".format(np.mean(cv_accuracy)))"
      ],
      "execution_count": 0,
      "outputs": [
        {
          "output_type": "stream",
          "text": [
            "Mean Accuracy: 0.7914436580159532\n"
          ],
          "name": "stdout"
        }
      ]
    },
    {
      "metadata": {
        "id": "jPxD-tRpB2z7",
        "colab_type": "text"
      },
      "cell_type": "markdown",
      "source": [
        "#### MLP Classifier is the best model for the given dataset with highest accuracy of 79.14%"
      ]
    }
  ]
}