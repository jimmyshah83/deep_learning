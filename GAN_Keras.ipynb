{
  "nbformat": 4,
  "nbformat_minor": 0,
  "metadata": {
    "colab": {
      "name": "GAN_Keras.ipynb",
      "version": "0.3.2",
      "provenance": [],
      "collapsed_sections": [],
      "include_colab_link": true
    },
    "kernelspec": {
      "name": "python3",
      "display_name": "Python 3"
    },
    "accelerator": "GPU"
  },
  "cells": [
    {
      "cell_type": "markdown",
      "metadata": {
        "id": "view-in-github",
        "colab_type": "text"
      },
      "source": [
        "<a href=\"https://colab.research.google.com/github/jimmyshah83/deep_learning/blob/master/GAN_Keras.ipynb\" target=\"_parent\"><img src=\"https://colab.research.google.com/assets/colab-badge.svg\" alt=\"Open In Colab\"/></a>"
      ]
    },
    {
      "metadata": {
        "id": "M-t4DYsbVcoi",
        "colab_type": "text"
      },
      "cell_type": "markdown",
      "source": [
        "GAN Using Keras"
      ]
    },
    {
      "metadata": {
        "id": "6_x4fervWMaA",
        "colab_type": "code",
        "colab": {}
      },
      "cell_type": "code",
      "source": [
        "#from google.colab import drive\n",
        "#drive.mount('/content/drive')"
      ],
      "execution_count": 0,
      "outputs": []
    },
    {
      "metadata": {
        "id": "PkRLPzdAgnIz",
        "colab_type": "code",
        "colab": {}
      },
      "cell_type": "code",
      "source": [
        "#import zipfile\n",
        "#import io\n",
        "#from zipfile import ZipFile\n",
        "#with ZipFile('drive/My Drive/cropped.zip', 'r') as zf:\n",
        "#   zf.extractall('drive/My Drive/images/')"
      ],
      "execution_count": 0,
      "outputs": []
    },
    {
      "metadata": {
        "id": "iEexPZNNweIk",
        "colab_type": "code",
        "colab": {}
      },
      "cell_type": "code",
      "source": [
        "import tensorflow.contrib.eager as tfe"
      ],
      "execution_count": 0,
      "outputs": []
    },
    {
      "metadata": {
        "id": "BK1GfOnCvmF4",
        "colab_type": "code",
        "colab": {}
      },
      "cell_type": "code",
      "source": [
        "# Hyperparameters\n",
        "IMAGE_SIZE = 64\n",
        "NOISE_SIZE = 100\n",
        "LR_D = 0.00004\n",
        "LR_G = 0.0004\n",
        "BATCH_SIZE = 32\n",
        "EPOCHS = 1\n",
        "BETA1 = 0.5\n",
        "WEIGHT_INIT_STDDEV = 0.02\n",
        "EPSILON = 0.00005\n",
        "SAMPLES_TO_SHOW = 5\n",
        "BUFFER_SIZE = 9877"
      ],
      "execution_count": 0,
      "outputs": []
    },
    {
      "metadata": {
        "id": "0LAXWqA7VhW5",
        "colab_type": "code",
        "colab": {}
      },
      "cell_type": "code",
      "source": [
        "import os\n",
        "import time\n",
        "import numpy as np\n",
        "from glob import glob\n",
        "import datetime\n",
        "import random\n",
        "from PIL import Image\n",
        "import matplotlib.pyplot as plt\n",
        "from __future__ import absolute_import, division, print_function\n",
        "\n",
        "import tensorflow as tf\n",
        "from keras.models import Model, Sequential\n",
        "from keras.layers import *\n",
        "from keras.optimizers import Adam\n",
        "from keras.initializers import TruncatedNormal\n",
        "\n",
        "%matplotlib inline"
      ],
      "execution_count": 0,
      "outputs": []
    },
    {
      "metadata": {
        "id": "3tb2eq3qxGB6",
        "colab_type": "code",
        "colab": {}
      },
      "cell_type": "code",
      "source": [
        "def get_batches(data):\n",
        "    batches = []\n",
        "    for i in range(int(data.shape[0]//BATCH_SIZE)):\n",
        "        batch = data[i * BATCH_SIZE:(i + 1) * BATCH_SIZE]\n",
        "        augmented_images = []\n",
        "        for img in batch:\n",
        "            image = Image.fromarray(img)\n",
        "            if random.choice([True, False]):\n",
        "                image = image.transpose(Image.FLIP_LEFT_RIGHT)\n",
        "            augmented_images.append(np.asarray(image))\n",
        "        batch = np.asarray(augmented_images)\n",
        "        normalized_batch = (batch / 127.5) - 1.0\n",
        "        batches.append(normalized_batch)\n",
        "    return batches"
      ],
      "execution_count": 0,
      "outputs": []
    },
    {
      "metadata": {
        "id": "obnF3b0NbXJ9",
        "colab_type": "code",
        "colab": {
          "base_uri": "https://localhost:8080/",
          "height": 34
        },
        "outputId": "38913799-a7af-43e5-9d06-131d130a93ad"
      },
      "cell_type": "code",
      "source": [
        "train_images = np.asarray([np.asarray(Image.open(file).resize((IMAGE_SIZE, IMAGE_SIZE))) \n",
        "                           for file in glob('drive/My Drive/images/' + '10*.png')])\n",
        "\n",
        "print (\"Input: \" + str(train_images.shape))"
      ],
      "execution_count": 428,
      "outputs": [
        {
          "output_type": "stream",
          "text": [
            "Input: (111, 64, 64, 3)\n"
          ],
          "name": "stdout"
        }
      ]
    },
    {
      "metadata": {
        "id": "e3y5nfP5Ephc",
        "colab_type": "code",
        "colab": {}
      },
      "cell_type": "code",
      "source": [
        "#train_images = (train_images - 127.5) / 127.5 # Normalize the images to [-1, 1]\n",
        "# Batch and shuffle the data\n",
        "#train_dataset = tf.data.Dataset.from_tensor_slices(train_images)\n",
        "#train_dataset = train_dataset.shuffle(BUFFER_SIZE).batch(BATCH_SIZE)\n",
        "train_dataset = get_batches(train_images)"
      ],
      "execution_count": 0,
      "outputs": []
    },
    {
      "metadata": {
        "id": "hpUMQej9XPgQ",
        "colab_type": "code",
        "colab": {}
      },
      "cell_type": "code",
      "source": [
        "def make_generator_model():\n",
        "    model = Sequential()\n",
        "    \n",
        "    model.add(Dense(8*8*1024, input_shape=(100,)))\n",
        "    model.add(Reshape((8, 8, 1024)))\n",
        "    model.add(LeakyReLU())\n",
        "    \n",
        "    model.add(Conv2DTranspose(512, (5, 5), padding='same', strides=2, kernel_initializer=TruncatedNormal(stddev=WEIGHT_INIT_STDDEV)))\n",
        "    model.add(BatchNormalization(epsilon=EPSILON))\n",
        "    model.add(LeakyReLU())\n",
        "    \n",
        "    \n",
        "    model.add(Conv2DTranspose(256, (5, 5), padding='same', strides=2, kernel_initializer=TruncatedNormal(stddev=WEIGHT_INIT_STDDEV)))\n",
        "    model.add(BatchNormalization(epsilon=EPSILON))\n",
        "    model.add(LeakyReLU())\n",
        "    \n",
        "    model.add(Conv2DTranspose(128, (5, 5), padding='same', strides=2, kernel_initializer=TruncatedNormal(stddev=WEIGHT_INIT_STDDEV)))\n",
        "    model.add(BatchNormalization(epsilon=EPSILON))\n",
        "    model.add(LeakyReLU())\n",
        "    \n",
        "    model.add(Conv2DTranspose(64, (5, 5), padding='same', strides=2, kernel_initializer=TruncatedNormal(stddev=WEIGHT_INIT_STDDEV)))\n",
        "    model.add(BatchNormalization(epsilon=EPSILON))\n",
        "    model.add(LeakyReLU())\n",
        "    \n",
        "    model.add(Conv2DTranspose(3, (5, 5), padding='same', strides=2, kernel_initializer=TruncatedNormal(stddev=WEIGHT_INIT_STDDEV)))\n",
        "    \n",
        "    return model"
      ],
      "execution_count": 0,
      "outputs": []
    },
    {
      "metadata": {
        "id": "Rio3jeUXclj6",
        "colab_type": "code",
        "colab": {}
      },
      "cell_type": "code",
      "source": [
        "generator = make_generator_model()\n",
        "\n",
        "noise = tf.random.normal([1, 100])\n",
        "generated_image = generator(noise)"
      ],
      "execution_count": 0,
      "outputs": []
    },
    {
      "metadata": {
        "id": "cwdlz2FXc6Y3",
        "colab_type": "code",
        "colab": {}
      },
      "cell_type": "code",
      "source": [
        "def make_discriminator_model():\n",
        "  model = Sequential()\n",
        "  model.add(Conv2D(64, (5, 5), padding='same', strides=2, kernel_initializer=TruncatedNormal(stddev=WEIGHT_INIT_STDDEV)))\n",
        "  model.add(BatchNormalization(epsilon=EPSILON))\n",
        "  model.add(LeakyReLU())\n",
        "    \n",
        "  model.add(Conv2D(128, (5, 5), padding='same', strides=2, kernel_initializer=TruncatedNormal(stddev=WEIGHT_INIT_STDDEV)))\n",
        "  model.add(BatchNormalization(epsilon=EPSILON))\n",
        "  model.add(LeakyReLU())\n",
        "    \n",
        "  model.add(Conv2D(256, (5, 5), padding='same', strides=2, kernel_initializer=TruncatedNormal(stddev=WEIGHT_INIT_STDDEV)))\n",
        "  model.add(BatchNormalization(epsilon=EPSILON))\n",
        "  model.add(LeakyReLU())\n",
        "              \n",
        "  model.add(Conv2D(512, (5, 5), padding='same', strides=2, kernel_initializer=TruncatedNormal(stddev=WEIGHT_INIT_STDDEV)))\n",
        "  model.add(BatchNormalization(epsilon=EPSILON))\n",
        "  model.add(LeakyReLU())\n",
        "              \n",
        "  model.add(Conv2D(1024, (5, 5), padding='same', strides=2, kernel_initializer=TruncatedNormal(stddev=WEIGHT_INIT_STDDEV)))\n",
        "  model.add(BatchNormalization(epsilon=EPSILON))\n",
        "  model.add(LeakyReLU())\n",
        "              \n",
        "  model.add(Flatten())\n",
        "  model.add(Dense(1, activation='sigmoid'))\n",
        "              \n",
        "  return model"
      ],
      "execution_count": 0,
      "outputs": []
    },
    {
      "metadata": {
        "id": "9xe6uEU_cmhc",
        "colab_type": "code",
        "colab": {
          "base_uri": "https://localhost:8080/",
          "height": 34
        },
        "outputId": "e2242396-5e59-4a31-f543-6b7ea56d517d"
      },
      "cell_type": "code",
      "source": [
        "discriminator = make_discriminator_model()\n",
        "decision = discriminator(generated_image)\n",
        "print (decision)"
      ],
      "execution_count": 433,
      "outputs": [
        {
          "output_type": "stream",
          "text": [
            "Tensor(\"sequential_47/dense_47_1/Sigmoid:0\", shape=(1, 1), dtype=float32)\n"
          ],
          "name": "stdout"
        }
      ]
    },
    {
      "metadata": {
        "id": "mJ1sTmqaFFPd",
        "colab_type": "code",
        "colab": {}
      },
      "cell_type": "code",
      "source": [
        "cross_entropy = tf.keras.losses.BinaryCrossentropy(from_logits=True)"
      ],
      "execution_count": 0,
      "outputs": []
    },
    {
      "metadata": {
        "id": "FBGQXNIWFI9z",
        "colab_type": "code",
        "colab": {}
      },
      "cell_type": "code",
      "source": [
        "def discriminator_loss(real_output, fake_output):\n",
        "    real_loss = cross_entropy(tf.ones_like(real_output), real_output)\n",
        "    fake_loss = cross_entropy(tf.zeros_like(fake_output), fake_output)\n",
        "    total_loss = real_loss + fake_loss\n",
        "    return total_loss"
      ],
      "execution_count": 0,
      "outputs": []
    },
    {
      "metadata": {
        "id": "ruZcyVInFLls",
        "colab_type": "code",
        "colab": {}
      },
      "cell_type": "code",
      "source": [
        "def generator_loss(fake_output):\n",
        "    return cross_entropy(tf.ones_like(fake_output), fake_output)"
      ],
      "execution_count": 0,
      "outputs": []
    },
    {
      "metadata": {
        "id": "BLfAJs_XFMLe",
        "colab_type": "code",
        "colab": {}
      },
      "cell_type": "code",
      "source": [
        "discriminator_optimizer = Adam(lr=LR_D, beta_1=BETA1)\n",
        "generator_optimizer = Adam(lr=LR_G, beta_1=BETA1)"
      ],
      "execution_count": 0,
      "outputs": []
    },
    {
      "metadata": {
        "id": "bVJNTVZ3FNwO",
        "colab_type": "code",
        "colab": {}
      },
      "cell_type": "code",
      "source": [
        "def train_step(images):\n",
        "    noise = tf.random.normal([BATCH_SIZE, NOISE_SIZE])\n",
        "\n",
        "    with tf.GradientTape() as gen_tape, tf.GradientTape() as disc_tape:\n",
        "      generated_images = generator(noise)\n",
        "\n",
        "      real_output = discriminator(images)\n",
        "      fake_output = discriminator(generated_images)\n",
        "\n",
        "      gen_loss = generator_loss(fake_output)\n",
        "      disc_loss = discriminator_loss(real_output, fake_output)\n",
        "\n",
        "    gradients_of_generator = gen_tape.gradient(gen_loss, generator.trainable_variables)\n",
        "    gradients_of_discriminator = disc_tape.gradient(disc_loss, discriminator.trainable_variables)\n",
        "\n",
        "    generator_optimizer.apply_gradients(zip(gradients_of_generator, generator.trainable_variables))\n",
        "    discriminator_optimizer.apply_gradients(zip(gradients_of_discriminator, discriminator.trainable_variables))"
      ],
      "execution_count": 0,
      "outputs": []
    },
    {
      "metadata": {
        "id": "jUJbRBqvFPZ2",
        "colab_type": "code",
        "colab": {}
      },
      "cell_type": "code",
      "source": [
        "def train(dataset):  \n",
        "  for epoch in range(EPOCHS):\n",
        "    start = time.time()\n",
        "    \n",
        "    for image_batch in dataset:\n",
        "      train_step(image_batch)\n",
        "    \n",
        "    print ('Time for epoch {} is {} sec'.format(epoch + 1, time.time()-start))"
      ],
      "execution_count": 0,
      "outputs": []
    },
    {
      "metadata": {
        "id": "nqqaq6KXxn73",
        "colab_type": "code",
        "colab": {
          "base_uri": "https://localhost:8080/",
          "height": 6117
        },
        "outputId": "2e9018e3-eef0-493d-a480-b2ca8620cf5b"
      },
      "cell_type": "code",
      "source": [
        "train(train_dataset)"
      ],
      "execution_count": 440,
      "outputs": [
        {
          "output_type": "error",
          "ename": "ValueError",
          "evalue": "ignored",
          "traceback": [
            "\u001b[0;31m---------------------------------------------------------------------------\u001b[0m",
            "\u001b[0;31mValueError\u001b[0m                                Traceback (most recent call last)",
            "\u001b[0;32m/usr/local/lib/python3.6/dist-packages/keras/engine/base_layer.py\u001b[0m in \u001b[0;36massert_input_compatibility\u001b[0;34m(self, inputs)\u001b[0m\n\u001b[1;32m    278\u001b[0m             \u001b[0;32mtry\u001b[0m\u001b[0;34m:\u001b[0m\u001b[0;34m\u001b[0m\u001b[0;34m\u001b[0m\u001b[0m\n\u001b[0;32m--> 279\u001b[0;31m                 \u001b[0mK\u001b[0m\u001b[0;34m.\u001b[0m\u001b[0mis_keras_tensor\u001b[0m\u001b[0;34m(\u001b[0m\u001b[0mx\u001b[0m\u001b[0;34m)\u001b[0m\u001b[0;34m\u001b[0m\u001b[0;34m\u001b[0m\u001b[0m\n\u001b[0m\u001b[1;32m    280\u001b[0m             \u001b[0;32mexcept\u001b[0m \u001b[0mValueError\u001b[0m\u001b[0;34m:\u001b[0m\u001b[0;34m\u001b[0m\u001b[0;34m\u001b[0m\u001b[0m\n",
            "\u001b[0;32m/usr/local/lib/python3.6/dist-packages/keras/backend/tensorflow_backend.py\u001b[0m in \u001b[0;36mis_keras_tensor\u001b[0;34m(x)\u001b[0m\n\u001b[1;32m    473\u001b[0m         raise ValueError('Unexpectedly found an instance of type `' +\n\u001b[0;32m--> 474\u001b[0;31m                          \u001b[0mstr\u001b[0m\u001b[0;34m(\u001b[0m\u001b[0mtype\u001b[0m\u001b[0;34m(\u001b[0m\u001b[0mx\u001b[0m\u001b[0;34m)\u001b[0m\u001b[0;34m)\u001b[0m \u001b[0;34m+\u001b[0m \u001b[0;34m'`. '\u001b[0m\u001b[0;34m\u001b[0m\u001b[0;34m\u001b[0m\u001b[0m\n\u001b[0m\u001b[1;32m    475\u001b[0m                          'Expected a symbolic tensor instance.')\n",
            "\u001b[0;31mValueError\u001b[0m: Unexpectedly found an instance of type `<class 'numpy.ndarray'>`. Expected a symbolic tensor instance.",
            "\nDuring handling of the above exception, another exception occurred:\n",
            "\u001b[0;31mValueError\u001b[0m                                Traceback (most recent call last)",
            "\u001b[0;32m<ipython-input-440-59b232805a00>\u001b[0m in \u001b[0;36m<module>\u001b[0;34m()\u001b[0m\n\u001b[0;32m----> 1\u001b[0;31m \u001b[0mtrain\u001b[0m\u001b[0;34m(\u001b[0m\u001b[0mtrain_dataset\u001b[0m\u001b[0;34m)\u001b[0m\u001b[0;34m\u001b[0m\u001b[0;34m\u001b[0m\u001b[0m\n\u001b[0m",
            "\u001b[0;32m<ipython-input-439-2628f4194633>\u001b[0m in \u001b[0;36mtrain\u001b[0;34m(dataset)\u001b[0m\n\u001b[1;32m      4\u001b[0m \u001b[0;34m\u001b[0m\u001b[0m\n\u001b[1;32m      5\u001b[0m     \u001b[0;32mfor\u001b[0m \u001b[0mimage_batch\u001b[0m \u001b[0;32min\u001b[0m \u001b[0mdataset\u001b[0m\u001b[0;34m:\u001b[0m\u001b[0;34m\u001b[0m\u001b[0;34m\u001b[0m\u001b[0m\n\u001b[0;32m----> 6\u001b[0;31m       \u001b[0mtrain_step\u001b[0m\u001b[0;34m(\u001b[0m\u001b[0mimage_batch\u001b[0m\u001b[0;34m)\u001b[0m\u001b[0;34m\u001b[0m\u001b[0;34m\u001b[0m\u001b[0m\n\u001b[0m\u001b[1;32m      7\u001b[0m \u001b[0;34m\u001b[0m\u001b[0m\n\u001b[1;32m      8\u001b[0m     \u001b[0mprint\u001b[0m \u001b[0;34m(\u001b[0m\u001b[0;34m'Time for epoch {} is {} sec'\u001b[0m\u001b[0;34m.\u001b[0m\u001b[0mformat\u001b[0m\u001b[0;34m(\u001b[0m\u001b[0mepoch\u001b[0m \u001b[0;34m+\u001b[0m \u001b[0;36m1\u001b[0m\u001b[0;34m,\u001b[0m \u001b[0mtime\u001b[0m\u001b[0;34m.\u001b[0m\u001b[0mtime\u001b[0m\u001b[0;34m(\u001b[0m\u001b[0;34m)\u001b[0m\u001b[0;34m-\u001b[0m\u001b[0mstart\u001b[0m\u001b[0;34m)\u001b[0m\u001b[0;34m)\u001b[0m\u001b[0;34m\u001b[0m\u001b[0;34m\u001b[0m\u001b[0m\n",
            "\u001b[0;32m<ipython-input-438-fd662151da85>\u001b[0m in \u001b[0;36mtrain_step\u001b[0;34m(images)\u001b[0m\n\u001b[1;32m      5\u001b[0m       \u001b[0mgenerated_images\u001b[0m \u001b[0;34m=\u001b[0m \u001b[0mgenerator\u001b[0m\u001b[0;34m(\u001b[0m\u001b[0mnoise\u001b[0m\u001b[0;34m)\u001b[0m\u001b[0;34m\u001b[0m\u001b[0;34m\u001b[0m\u001b[0m\n\u001b[1;32m      6\u001b[0m \u001b[0;34m\u001b[0m\u001b[0m\n\u001b[0;32m----> 7\u001b[0;31m       \u001b[0mreal_output\u001b[0m \u001b[0;34m=\u001b[0m \u001b[0mdiscriminator\u001b[0m\u001b[0;34m(\u001b[0m\u001b[0mimages\u001b[0m\u001b[0;34m)\u001b[0m\u001b[0;34m\u001b[0m\u001b[0;34m\u001b[0m\u001b[0m\n\u001b[0m\u001b[1;32m      8\u001b[0m       \u001b[0mfake_output\u001b[0m \u001b[0;34m=\u001b[0m \u001b[0mdiscriminator\u001b[0m\u001b[0;34m(\u001b[0m\u001b[0mgenerated_images\u001b[0m\u001b[0;34m)\u001b[0m\u001b[0;34m\u001b[0m\u001b[0;34m\u001b[0m\u001b[0m\n\u001b[1;32m      9\u001b[0m \u001b[0;34m\u001b[0m\u001b[0m\n",
            "\u001b[0;32m/usr/local/lib/python3.6/dist-packages/keras/engine/base_layer.py\u001b[0m in \u001b[0;36m__call__\u001b[0;34m(self, inputs, **kwargs)\u001b[0m\n\u001b[1;32m    438\u001b[0m             \u001b[0;31m# Raise exceptions in case the input is not compatible\u001b[0m\u001b[0;34m\u001b[0m\u001b[0;34m\u001b[0m\u001b[0;34m\u001b[0m\u001b[0m\n\u001b[1;32m    439\u001b[0m             \u001b[0;31m# with the input_spec set at build time.\u001b[0m\u001b[0;34m\u001b[0m\u001b[0;34m\u001b[0m\u001b[0;34m\u001b[0m\u001b[0m\n\u001b[0;32m--> 440\u001b[0;31m             \u001b[0mself\u001b[0m\u001b[0;34m.\u001b[0m\u001b[0massert_input_compatibility\u001b[0m\u001b[0;34m(\u001b[0m\u001b[0minputs\u001b[0m\u001b[0;34m)\u001b[0m\u001b[0;34m\u001b[0m\u001b[0;34m\u001b[0m\u001b[0m\n\u001b[0m\u001b[1;32m    441\u001b[0m \u001b[0;34m\u001b[0m\u001b[0m\n\u001b[1;32m    442\u001b[0m             \u001b[0;31m# Handle mask propagation.\u001b[0m\u001b[0;34m\u001b[0m\u001b[0;34m\u001b[0m\u001b[0;34m\u001b[0m\u001b[0m\n",
            "\u001b[0;32m/usr/local/lib/python3.6/dist-packages/keras/engine/base_layer.py\u001b[0m in \u001b[0;36massert_input_compatibility\u001b[0;34m(self, inputs)\u001b[0m\n\u001b[1;32m    283\u001b[0m                                  \u001b[0;34m'Received type: '\u001b[0m \u001b[0;34m+\u001b[0m\u001b[0;34m\u001b[0m\u001b[0;34m\u001b[0m\u001b[0m\n\u001b[1;32m    284\u001b[0m                                  \u001b[0mstr\u001b[0m\u001b[0;34m(\u001b[0m\u001b[0mtype\u001b[0m\u001b[0;34m(\u001b[0m\u001b[0mx\u001b[0m\u001b[0;34m)\u001b[0m\u001b[0;34m)\u001b[0m \u001b[0;34m+\u001b[0m \u001b[0;34m'. Full input: '\u001b[0m \u001b[0;34m+\u001b[0m\u001b[0;34m\u001b[0m\u001b[0;34m\u001b[0m\u001b[0m\n\u001b[0;32m--> 285\u001b[0;31m                                  \u001b[0mstr\u001b[0m\u001b[0;34m(\u001b[0m\u001b[0minputs\u001b[0m\u001b[0;34m)\u001b[0m \u001b[0;34m+\u001b[0m \u001b[0;34m'. All inputs to the layer '\u001b[0m\u001b[0;34m\u001b[0m\u001b[0;34m\u001b[0m\u001b[0m\n\u001b[0m\u001b[1;32m    286\u001b[0m                                  'should be tensors.')\n\u001b[1;32m    287\u001b[0m \u001b[0;34m\u001b[0m\u001b[0m\n",
            "\u001b[0;31mValueError\u001b[0m: Layer sequential_47 was called with an input that isn't a symbolic tensor. Received type: <class 'numpy.ndarray'>. Full input: [array([[[[-0.31764706,  0.43529412,  0.59215686],\n         [-0.33333333,  0.41960784,  0.57647059],\n         [-0.35686275,  0.2       ,  0.34117647],\n         ...,\n         [-0.23137255,  0.16078431,  0.09803922],\n         [ 0.54509804, -0.17647059, -0.30980392],\n         [ 0.54509804, -0.23921569, -0.43529412]],\n\n        [[-0.27843137,  0.43529412,  0.57647059],\n         [-0.31764706,  0.43529412,  0.56862745],\n         [-0.78039216, -0.39607843, -0.34117647],\n         ...,\n         [-0.04313725,  0.23137255,  0.2627451 ],\n         [ 0.63921569, -0.16078431, -0.22352941],\n         [ 0.56078431, -0.24705882, -0.46666667]],\n\n        [[-0.24705882,  0.42745098,  0.56078431],\n         [-0.28627451,  0.45098039,  0.56862745],\n         [-1.        , -0.63137255, -0.62352941],\n         ...,\n         [-1.        , -1.        , -1.        ],\n         [-0.01960784, -0.4745098 , -0.56862745],\n         [ 0.59215686, -0.25490196, -0.41960784]],\n\n        ...,\n\n        [[ 0.71764706,  0.41176471, -0.96862745],\n         [ 0.71764706,  0.41176471, -0.96862745],\n         [ 0.70196078,  0.41176471, -0.96862745],\n         ...,\n         [ 0.6627451 ,  0.63921569,  0.67058824],\n         [ 0.6627451 ,  0.63921569,  0.67058824],\n         [ 0.6627451 ,  0.63921569,  0.67058824]],\n\n        [[ 0.71764706,  0.41176471, -0.96862745],\n         [ 0.73333333,  0.42745098, -0.95294118],\n         [ 0.70196078,  0.41176471, -0.96862745],\n         ...,\n         [ 0.6627451 ,  0.63921569,  0.67058824],\n         [ 0.6627451 ,  0.63921569,  0.67058824],\n         [ 0.65490196,  0.63921569,  0.64705882]],\n\n        [[ 0.71764706,  0.41176471, -0.96862745],\n         [ 0.71764706,  0.41176471, -0.96862745],\n         [ 0.71764706,  0.41176471, -0.96862745],\n         ...,\n         [ 0.6627451 ,  0.63921569,  0.67058824],\n         [ 0.6627451 ,  0.63921569,  0.67058824],\n         [ 0.65490196,  0.63921569,  0.64705882]]],\n\n\n       [[[-0.01176471, -0.2627451 , -0.41960784],\n         [ 0.0745098 , -0.2       , -0.38039216],\n         [ 0.12941176, -0.23137255, -0.46666667],\n         ...,\n         [-0.10588235, -0.41176471, -0.60784314],\n         [-0.45882353, -0.6627451 , -0.81176471],\n         [ 0.12156863, -0.20784314, -0.4745098 ]],\n\n        [[ 0.09019608, -0.18431373, -0.34901961],\n         [ 0.08235294, -0.19215686, -0.35686275],\n         [ 0.12941176, -0.22352941, -0.48235294],\n         ...,\n         [-0.10588235, -0.41176471, -0.60784314],\n         [-0.45882353, -0.6627451 , -0.81176471],\n         [ 0.12156863, -0.20784314, -0.4745098 ]],\n\n        [[ 0.09019608, -0.18431373, -0.34901961],\n         [ 0.08235294, -0.19215686, -0.35686275],\n         [ 0.12941176, -0.22352941, -0.48235294],\n         ...,\n         [-0.10588235, -0.41176471, -0.60784314],\n         [-0.45882353, -0.6627451 , -0.81176471],\n         [ 0.12156863, -0.20784314, -0.4745098 ]],\n\n        ...,\n\n        [[ 0.12941176, -0.23137255, -0.46666667],\n         [ 0.12941176, -0.23137255, -0.46666667],\n         [ 0.1372549 , -0.22352941, -0.45882353],\n         ...,\n         [ 0.67843137,  0.65490196,  0.68627451],\n         [ 0.58431373,  0.57647059,  0.63137255],\n         [-0.2627451 , -0.23137255, -0.18431373]],\n\n        [[ 0.12941176, -0.23137255, -0.46666667],\n         [ 0.12941176, -0.22352941, -0.48235294],\n         [ 0.12941176, -0.22352941, -0.48235294],\n         ...,\n         [ 0.67843137,  0.65490196,  0.68627451],\n         [ 0.67843137,  0.65490196,  0.70196078],\n         [-0.73333333, -0.7254902 , -0.67058824]],\n\n        [[ 0.12941176, -0.22352941, -0.48235294],\n         [ 0.12941176, -0.22352941, -0.48235294],\n         [ 0.12941176, -0.22352941, -0.48235294],\n         ...,\n         [ 0.67843137,  0.65490196,  0.68627451],\n         [ 0.64705882,  0.62352941,  0.65490196],\n         [-0.82745098, -0.83529412, -0.79607843]]],\n\n\n       [[[-0.14509804, -0.41960784, -0.58431373],\n         [-0.15294118, -0.42745098, -0.60784314],\n         [-0.15294118, -0.42745098, -0.61568627],\n         ...,\n         [ 0.10588235, -0.23137255, -0.4745098 ],\n         [-0.73333333, -0.92941176, -0.96078431],\n         [-0.6       , -0.58431373, -0.52941176]],\n\n        [[-0.14509804, -0.41960784, -0.58431373],\n         [-0.15294118, -0.42745098, -0.60784314],\n         [-0.14509804, -0.43529412, -0.60784314],\n         ...,\n         [ 0.10588235, -0.23137255, -0.4745098 ],\n         [-0.71764706, -0.9372549 , -0.96078431],\n         [-0.60784314, -0.57647059, -0.52941176]],\n\n        [[-0.16078431, -0.43529412, -0.60784314],\n         [-0.15294118, -0.42745098, -0.60784314],\n         [-0.15294118, -0.41960784, -0.60784314],\n         ...,\n         [ 0.10588235, -0.23137255, -0.4745098 ],\n         [-0.7254902 , -0.9372549 , -0.96078431],\n         [-0.60784314, -0.57647059, -0.52941176]],\n\n        ...,\n\n        [[-0.34117647, -0.5372549 , -0.68627451],\n         [-0.34117647, -0.5372549 , -0.68627451],\n         [-0.31764706, -0.5372549 , -0.67843137],\n         ...,\n         [ 0.67843137,  0.65490196,  0.68627451],\n         [ 0.6627451 ,  0.63921569,  0.67058824],\n         [ 0.6627451 ,  0.63921569,  0.67058824]],\n\n        [[-0.48235294, -0.61568627, -0.70196078],\n         [-0.48235294, -0.61568627, -0.70196078],\n         [-0.4745098 , -0.59215686, -0.65490196],\n         ...,\n         [ 0.6627451 ,  0.63921569,  0.67058824],\n         [ 0.6627451 ,  0.63921569,  0.67058824],\n         [ 0.33333333,  0.30980392,  0.34117647]],\n\n        [[-0.49803922, -0.67058824, -0.78823529],\n         [-0.49019608, -0.67843137, -0.78039216],\n         [-0.5372549 , -0.6627451 , -0.71764706],\n         ...,\n         [ 0.74901961,  0.7254902 ,  0.75686275],\n         [-0.74901961, -0.77254902, -0.74117647],\n         [ 0.75686275,  0.73333333,  0.76470588]]],\n\n\n       ...,\n\n\n       [[[-0.01960784,  0.12941176,  0.04313725],\n         [-0.01960784,  0.12941176,  0.04313725],\n         [-0.01960784,  0.12941176,  0.04313725],\n         ...,\n         [-0.54509804, -0.39607843,  0.31764706],\n         [-0.54509804, -0.39607843,  0.30196078],\n         [-0.48235294, -0.38039216,  0.19215686]],\n\n        [[-0.01960784,  0.12941176,  0.04313725],\n         [-0.01960784,  0.12941176,  0.04313725],\n         [-0.02745098,  0.12156863,  0.03529412],\n         ...,\n         [-0.54509804, -0.39607843,  0.30196078],\n         [-0.54509804, -0.39607843,  0.30196078],\n         [-0.49019608, -0.37254902,  0.19215686]],\n\n        [[-0.01960784,  0.12941176,  0.04313725],\n         [-0.01960784,  0.12941176,  0.04313725],\n         [-0.01960784,  0.12941176,  0.04313725],\n         ...,\n         [-0.54509804, -0.39607843,  0.30196078],\n         [-0.5372549 , -0.38823529,  0.30980392],\n         [-0.46666667, -0.36470588,  0.20784314]],\n\n        ...,\n\n        [[-0.01960784,  0.12941176,  0.04313725],\n         [-0.01960784,  0.12941176,  0.04313725],\n         [-0.01960784,  0.12941176,  0.04313725],\n         ...,\n         [-0.3254902 , -0.21568627, -0.27843137],\n         [-0.33333333, -0.22352941, -0.28627451],\n         [-0.30196078, -0.22352941, -0.29411765]],\n\n        [[-0.01960784,  0.12941176,  0.04313725],\n         [-0.01960784,  0.12941176,  0.04313725],\n         [-0.01960784,  0.12941176,  0.04313725],\n         ...,\n         [-0.3254902 , -0.21568627, -0.27843137],\n         [-0.3254902 , -0.21568627, -0.27843137],\n         [-0.23921569, -0.18431373, -0.24705882]],\n\n        [[-0.01960784,  0.12941176,  0.04313725],\n         [-0.01960784,  0.12941176,  0.04313725],\n         [-0.01960784,  0.12941176,  0.04313725],\n         ...,\n         [-0.3254902 , -0.21568627, -0.27843137],\n         [-0.30980392, -0.22352941, -0.27843137],\n         [-0.30980392, -0.3254902 , -0.37254902]]],\n\n\n       [[[ 0.7254902 ,  0.09803922,  0.1372549 ],\n         [ 0.7254902 ,  0.09803922,  0.1372549 ],\n         [ 0.7254902 ,  0.09803922,  0.15294118],\n         ...,\n         [ 0.7254902 ,  0.09803922,  0.15294118],\n         [ 0.7254902 ,  0.09803922,  0.15294118],\n         [ 0.7254902 ,  0.09803922,  0.15294118]],\n\n        [[ 0.7254902 ,  0.09803922,  0.15294118],\n         [ 0.7254902 ,  0.09803922,  0.15294118],\n         [ 0.7254902 ,  0.09803922,  0.15294118],\n         ...,\n         [ 0.7254902 ,  0.09803922,  0.15294118],\n         [ 0.7254902 ,  0.09803922,  0.15294118],\n         [ 0.7254902 ,  0.09803922,  0.15294118]],\n\n        [[ 0.69411765,  0.05882353,  0.1372549 ],\n         [ 0.69411765,  0.05882353,  0.1372549 ],\n         [ 0.70980392,  0.05882353,  0.12156863],\n         ...,\n         [ 0.7254902 ,  0.09803922,  0.15294118],\n         [ 0.7254902 ,  0.09803922,  0.15294118],\n         [ 0.7254902 ,  0.09803922,  0.15294118]],\n\n        ...,\n\n        [[-0.08235294, -0.38823529, -1.        ],\n         [ 0.73333333,  0.34117647, -1.        ],\n         [ 0.76470588,  0.36470588, -1.        ],\n         ...,\n         [ 0.3254902 , -0.38039216, -0.94509804],\n         [ 0.34117647, -0.38039216, -0.89803922],\n         [ 0.33333333, -0.41960784, -0.97647059]],\n\n        [[ 0.74901961,  0.37254902, -1.        ],\n         [ 0.75686275,  0.38039216, -1.        ],\n         [ 0.74117647,  0.37254902, -1.        ],\n         ...,\n         [ 0.3254902 , -0.38039216, -0.94509804],\n         [ 0.3254902 , -0.38039216, -0.94509804],\n         [ 0.00392157, -0.56078431, -0.91372549]],\n\n        [[ 0.74901961,  0.37254902, -1.        ],\n         [ 0.74901961,  0.37254902, -1.        ],\n         [ 0.75686275,  0.43529412, -0.78039216],\n         ...,\n         [ 0.3254902 , -0.38039216, -0.94509804],\n         [ 0.3254902 , -0.38039216, -0.94509804],\n         [-0.81960784, -1.        , -1.        ]]],\n\n\n       [[[ 0.7254902 ,  0.09803922,  0.15294118],\n         [ 0.7254902 ,  0.09803922,  0.15294118],\n         [ 0.7254902 ,  0.09803922,  0.15294118],\n         ...,\n         [ 0.63137255, -0.06666667, -0.01176471],\n         [ 0.61568627, -0.0745098 , -0.01960784],\n         [ 0.61568627, -0.0745098 , -0.01960784]],\n\n        [[ 0.7254902 ,  0.09803922,  0.15294118],\n         [ 0.7254902 ,  0.09803922,  0.15294118],\n         [ 0.7254902 ,  0.09803922,  0.15294118],\n         ...,\n         [ 0.62352941, -0.06666667, -0.01176471],\n         [ 0.62352941, -0.06666667, -0.01176471],\n         [ 0.62352941, -0.06666667, -0.01176471]],\n\n        [[ 0.7254902 ,  0.09803922,  0.15294118],\n         [ 0.7254902 ,  0.09803922,  0.15294118],\n         [ 0.7254902 ,  0.09803922,  0.15294118],\n         ...,\n         [ 0.63137255, -0.06666667, -0.01176471],\n         [ 0.62352941, -0.06666667, -0.01176471],\n         [ 0.63137255, -0.06666667, -0.01176471]],\n\n        ...,\n\n        [[ 0.3254902 , -0.38039216, -0.94509804],\n         [ 0.3254902 , -0.38039216, -0.94509804],\n         [-0.36470588, -0.57647059, -1.        ],\n         ...,\n         [ 0.7254902 ,  0.09803922,  0.15294118],\n         [ 0.7254902 ,  0.09803922,  0.15294118],\n         [ 0.7254902 ,  0.09803922,  0.15294118]],\n\n        [[-0.40392157, -0.6       , -0.83529412],\n         [ 0.49803922,  0.30196078, -0.71764706],\n         [ 0.76470588,  0.35686275, -1.        ],\n         ...,\n         [ 0.70980392,  0.09803922,  0.15294118],\n         [ 0.70196078,  0.09019608,  0.14509804],\n         [ 0.7254902 ,  0.09803922,  0.15294118]],\n\n        [[ 0.09019608, -0.09019608, -0.90588235],\n         [ 0.79607843,  0.37254902, -1.        ],\n         [ 0.74901961,  0.37254902, -0.99215686],\n         ...,\n         [ 0.69411765,  0.08235294,  0.1372549 ],\n         [ 0.70196078,  0.09019608,  0.14509804],\n         [ 0.7254902 ,  0.09803922,  0.1372549 ]]]])]. All inputs to the layer should be tensors."
          ]
        }
      ]
    }
  ]
}