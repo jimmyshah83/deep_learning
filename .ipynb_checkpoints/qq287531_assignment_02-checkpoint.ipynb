{
 "cells": [
  {
   "cell_type": "markdown",
   "metadata": {
    "colab_type": "text",
    "id": "view-in-github"
   },
   "source": [
    "<a href=\"https://colab.research.google.com/github/jimmyshah83/deep_learning/blob/master/qq287531_assignment_02.ipynb\" target=\"_parent\"><img src=\"https://colab.research.google.com/assets/colab-badge.svg\" alt=\"Open In Colab\"/></a>"
   ]
  },
  {
   "cell_type": "markdown",
   "metadata": {},
   "source": [
    "## VGG16 Example\n",
    "\n",
    "#### Use flowers data set provided on tensorflow website to train existing VGG16 model and adding an extra dense layer"
   ]
  },
  {
   "cell_type": "code",
   "execution_count": 0,
   "metadata": {
    "colab": {},
    "colab_type": "code",
    "id": "fUvivZzmGjt2"
   },
   "outputs": [],
   "source": [
    "from __future__ import absolute_import, division, print_function\n",
    "\n",
    "import matplotlib.pylab as plt\n",
    "\n",
    "import tensorflow as tf\n",
    "from tensorflow.keras import layers\n",
    "\n",
    "\n",
    "from keras import applications\n",
    "from keras.preprocessing.image import ImageDataGenerator, array_to_img, img_to_array, load_img\n",
    "from keras.models import Sequential, Model\n",
    "from keras.layers import Dropout, Flatten, Dense, GlobalAveragePooling2D, Input\n",
    "from keras import optimizers"
   ]
  },
  {
   "cell_type": "code",
   "execution_count": 0,
   "metadata": {
    "colab": {
     "base_uri": "https://localhost:8080/",
     "height": 34
    },
    "colab_type": "code",
    "id": "YRGLi7L2FWdN",
    "outputId": "46e7d56c-a587-4492-d291-a7557c029034"
   },
   "outputs": [
    {
     "data": {
      "text/plain": [
       "'/device:GPU:0'"
      ]
     },
     "execution_count": 4,
     "metadata": {
      "tags": []
     },
     "output_type": "execute_result"
    }
   ],
   "source": [
    "tf.test.gpu_device_name()"
   ]
  },
  {
   "cell_type": "code",
   "execution_count": 0,
   "metadata": {
    "colab": {
     "base_uri": "https://localhost:8080/",
     "height": 34
    },
    "colab_type": "code",
    "id": "OEjm8Pqmapt9",
    "outputId": "17ac3050-5284-4142-ed3c-0ffd324a8c43"
   },
   "outputs": [
    {
     "data": {
      "text/plain": [
       "'1.13.1'"
      ]
     },
     "execution_count": 5,
     "metadata": {
      "tags": []
     },
     "output_type": "execute_result"
    }
   ],
   "source": [
    "tf.VERSION"
   ]
  },
  {
   "cell_type": "markdown",
   "metadata": {
    "colab_type": "text",
    "id": "Kb-etSgZh9qV"
   },
   "source": [
    "# Fetch data from tensorflow repository and split them into test and train sets"
   ]
  },
  {
   "cell_type": "code",
   "execution_count": 0,
   "metadata": {
    "colab": {
     "base_uri": "https://localhost:8080/",
     "height": 51
    },
    "colab_type": "code",
    "id": "PeXal5E8GoL_",
    "outputId": "81743f24-6e4a-4c06-df78-594ae1956436"
   },
   "outputs": [
    {
     "name": "stdout",
     "output_type": "stream",
     "text": [
      "Downloading data from https://storage.googleapis.com/download.tensorflow.org/example_images/flower_photos.tgz\n",
      "228818944/228813984 [==============================] - 5s 0us/step\n"
     ]
    }
   ],
   "source": [
    "data_root = tf.keras.utils.get_file(\n",
    "  'flower_photos','https://storage.googleapis.com/download.tensorflow.org/example_images/flower_photos.tgz',\n",
    "   untar=True)"
   ]
  },
  {
   "cell_type": "code",
   "execution_count": 0,
   "metadata": {
    "colab": {
     "base_uri": "https://localhost:8080/",
     "height": 51
    },
    "colab_type": "code",
    "id": "1lVd6bzDGwlY",
    "outputId": "054dded4-347d-47d5-a732-a67a3670547c"
   },
   "outputs": [
    {
     "name": "stdout",
     "output_type": "stream",
     "text": [
      "Found 2755 images belonging to 5 classes.\n",
      "Found 915 images belonging to 5 classes.\n"
     ]
    }
   ],
   "source": [
    "img_width = img_height = 150\n",
    "batch_size = 32\n",
    "epochs = 12\n",
    "\n",
    "train_datagen = ImageDataGenerator(validation_split=0.25)\n",
    "\n",
    "\n",
    "train_generator = train_datagen.flow_from_directory(\n",
    "    str(data_root),\n",
    "    target_size=(img_width, img_height),\n",
    "    batch_size=batch_size,\n",
    "    class_mode='binary',\n",
    "    subset='training')\n",
    "\n",
    "test_generator = train_datagen.flow_from_directory(\n",
    "    str(data_root),\n",
    "    target_size=(img_width, img_height),\n",
    "    batch_size=batch_size,\n",
    "    class_mode='binary',\n",
    "    subset='validation')"
   ]
  },
  {
   "cell_type": "markdown",
   "metadata": {
    "colab_type": "text",
    "id": "88ZHzWrYiFtj"
   },
   "source": [
    "# Use pre-trained VGG16 model"
   ]
  },
  {
   "cell_type": "code",
   "execution_count": 0,
   "metadata": {
    "colab": {
     "base_uri": "https://localhost:8080/",
     "height": 887
    },
    "colab_type": "code",
    "id": "4ethwwPAHBaN",
    "outputId": "6b9159fc-59c2-4be1-fb21-87a1b53de6f2"
   },
   "outputs": [
    {
     "name": "stdout",
     "output_type": "stream",
     "text": [
      "WARNING:tensorflow:From /usr/local/lib/python3.6/dist-packages/tensorflow/python/framework/op_def_library.py:263: colocate_with (from tensorflow.python.framework.ops) is deprecated and will be removed in a future version.\n",
      "Instructions for updating:\n",
      "Colocations handled automatically by placer.\n",
      "Downloading data from https://github.com/fchollet/deep-learning-models/releases/download/v0.1/vgg16_weights_tf_dim_ordering_tf_kernels_notop.h5\n",
      "58892288/58889256 [==============================] - 6s 0us/step\n",
      "_________________________________________________________________\n",
      "Layer (type)                 Output Shape              Param #   \n",
      "=================================================================\n",
      "input_1 (InputLayer)         (None, 150, 150, 3)       0         \n",
      "_________________________________________________________________\n",
      "block1_conv1 (Conv2D)        (None, 150, 150, 64)      1792      \n",
      "_________________________________________________________________\n",
      "block1_conv2 (Conv2D)        (None, 150, 150, 64)      36928     \n",
      "_________________________________________________________________\n",
      "block1_pool (MaxPooling2D)   (None, 75, 75, 64)        0         \n",
      "_________________________________________________________________\n",
      "block2_conv1 (Conv2D)        (None, 75, 75, 128)       73856     \n",
      "_________________________________________________________________\n",
      "block2_conv2 (Conv2D)        (None, 75, 75, 128)       147584    \n",
      "_________________________________________________________________\n",
      "block2_pool (MaxPooling2D)   (None, 37, 37, 128)       0         \n",
      "_________________________________________________________________\n",
      "block3_conv1 (Conv2D)        (None, 37, 37, 256)       295168    \n",
      "_________________________________________________________________\n",
      "block3_conv2 (Conv2D)        (None, 37, 37, 256)       590080    \n",
      "_________________________________________________________________\n",
      "block3_conv3 (Conv2D)        (None, 37, 37, 256)       590080    \n",
      "_________________________________________________________________\n",
      "block3_pool (MaxPooling2D)   (None, 18, 18, 256)       0         \n",
      "_________________________________________________________________\n",
      "block4_conv1 (Conv2D)        (None, 18, 18, 512)       1180160   \n",
      "_________________________________________________________________\n",
      "block4_conv2 (Conv2D)        (None, 18, 18, 512)       2359808   \n",
      "_________________________________________________________________\n",
      "block4_conv3 (Conv2D)        (None, 18, 18, 512)       2359808   \n",
      "_________________________________________________________________\n",
      "block4_pool (MaxPooling2D)   (None, 9, 9, 512)         0         \n",
      "_________________________________________________________________\n",
      "block5_conv1 (Conv2D)        (None, 9, 9, 512)         2359808   \n",
      "_________________________________________________________________\n",
      "block5_conv2 (Conv2D)        (None, 9, 9, 512)         2359808   \n",
      "_________________________________________________________________\n",
      "block5_conv3 (Conv2D)        (None, 9, 9, 512)         2359808   \n",
      "_________________________________________________________________\n",
      "block5_pool (MaxPooling2D)   (None, 4, 4, 512)         0         \n",
      "=================================================================\n",
      "Total params: 14,714,688\n",
      "Trainable params: 14,714,688\n",
      "Non-trainable params: 0\n",
      "_________________________________________________________________\n"
     ]
    }
   ],
   "source": [
    "vgg_model = applications.VGG16(weights='imagenet',\n",
    "                               include_top=False,\n",
    "                               input_shape = (img_width, img_height, 3))\n",
    "vgg_model.summary()"
   ]
  },
  {
   "cell_type": "markdown",
   "metadata": {
    "colab_type": "text",
    "id": "JL_RPoTEiKd_"
   },
   "source": [
    "# Add a new dense layer with 256 nodes and output layer"
   ]
  },
  {
   "cell_type": "code",
   "execution_count": 0,
   "metadata": {
    "colab": {
     "base_uri": "https://localhost:8080/",
     "height": 397
    },
    "colab_type": "code",
    "id": "X1772lvaa-4W",
    "outputId": "395bec10-d516-4960-e30b-b72dde212c04"
   },
   "outputs": [
    {
     "name": "stdout",
     "output_type": "stream",
     "text": [
      "WARNING:tensorflow:From /usr/local/lib/python3.6/dist-packages/keras/backend/tensorflow_backend.py:3445: calling dropout (from tensorflow.python.ops.nn_ops) with keep_prob is deprecated and will be removed in a future version.\n",
      "Instructions for updating:\n",
      "Please use `rate` instead of `keep_prob`. Rate should be set to `rate = 1 - keep_prob`.\n",
      "_________________________________________________________________\n",
      "Layer (type)                 Output Shape              Param #   \n",
      "=================================================================\n",
      "vgg16 (Model)                (None, 4, 4, 512)         14714688  \n",
      "_________________________________________________________________\n",
      "flatten (Flatten)            (None, 8192)              0         \n",
      "_________________________________________________________________\n",
      "dense_layer (Dense)          (None, 256)               2097408   \n",
      "_________________________________________________________________\n",
      "dropout_1 (Dropout)          (None, 256)               0         \n",
      "_________________________________________________________________\n",
      "output (Dense)               (None, 5)                 1285      \n",
      "=================================================================\n",
      "Total params: 16,813,381\n",
      "Trainable params: 16,813,381\n",
      "Non-trainable params: 0\n",
      "_________________________________________________________________\n"
     ]
    }
   ],
   "source": [
    "new_model = Sequential([\n",
    "    vgg_model,\n",
    "    Flatten(name='flatten'),\n",
    "    Dense(256, activation='relu', name='dense_layer'),\n",
    "    Dropout(0.5),\n",
    "    Dense(5, activation='softmax', name='output')\n",
    "])\n",
    "new_model.summary()"
   ]
  },
  {
   "cell_type": "markdown",
   "metadata": {
    "colab_type": "text",
    "id": "vWtYYlcxgEmp"
   },
   "source": [
    "# Freeze all layers of VGG16 model"
   ]
  },
  {
   "cell_type": "code",
   "execution_count": 0,
   "metadata": {
    "colab": {
     "base_uri": "https://localhost:8080/",
     "height": 340
    },
    "colab_type": "code",
    "id": "352z8-3VQeud",
    "outputId": "b0b142b7-5762-4ada-cc22-cdd96094746c"
   },
   "outputs": [
    {
     "name": "stdout",
     "output_type": "stream",
     "text": [
      "0 input_1 False\n",
      "1 block1_conv1 False\n",
      "2 block1_conv2 False\n",
      "3 block1_pool False\n",
      "4 block2_conv1 False\n",
      "5 block2_conv2 False\n",
      "6 block2_pool False\n",
      "7 block3_conv1 False\n",
      "8 block3_conv2 False\n",
      "9 block3_conv3 False\n",
      "10 block3_pool False\n",
      "11 block4_conv1 False\n",
      "12 block4_conv2 False\n",
      "13 block4_conv3 False\n",
      "14 block4_pool False\n",
      "15 block5_conv1 False\n",
      "16 block5_conv2 False\n",
      "17 block5_conv3 False\n",
      "18 block5_pool False\n"
     ]
    }
   ],
   "source": [
    "for layer in vgg_model.layers[:]:\n",
    "    layer.trainable = False\n",
    "    \n",
    "for i, layer in enumerate(vgg_model.layers):\n",
    "    print(i, layer.name, layer.trainable)"
   ]
  },
  {
   "cell_type": "code",
   "execution_count": 0,
   "metadata": {
    "colab": {},
    "colab_type": "code",
    "id": "PZZjuw-THN2v"
   },
   "outputs": [],
   "source": [
    "new_model.compile(loss = \"sparse_categorical_crossentropy\", optimizer = tf.train.AdamOptimizer(), metrics=[\"accuracy\"])"
   ]
  },
  {
   "cell_type": "code",
   "execution_count": 0,
   "metadata": {
    "colab": {
     "base_uri": "https://localhost:8080/",
     "height": 493
    },
    "colab_type": "code",
    "id": "J8ySsPBDHVhV",
    "outputId": "c53ab3ec-a550-497b-ce26-5a86db7088b9"
   },
   "outputs": [
    {
     "name": "stdout",
     "output_type": "stream",
     "text": [
      "WARNING:tensorflow:From /usr/local/lib/python3.6/dist-packages/tensorflow/python/ops/math_ops.py:3066: to_int32 (from tensorflow.python.ops.math_ops) is deprecated and will be removed in a future version.\n",
      "Instructions for updating:\n",
      "Use tf.cast instead.\n",
      "Epoch 1/12\n",
      "86/86 [==============================] - 24s 279ms/step - loss: 6.2592 - acc: 0.5705 - val_loss: 5.0002 - val_acc: 0.6708\n",
      "Epoch 2/12\n",
      "86/86 [==============================] - 20s 230ms/step - loss: 4.9229 - acc: 0.6785 - val_loss: 4.3850 - val_acc: 0.7112\n",
      "Epoch 3/12\n",
      "86/86 [==============================] - 18s 209ms/step - loss: 4.4447 - acc: 0.7110 - val_loss: 4.7778 - val_acc: 0.6852\n",
      "Epoch 4/12\n",
      "86/86 [==============================] - 18s 209ms/step - loss: 4.0468 - acc: 0.7368 - val_loss: 4.2299 - val_acc: 0.7214\n",
      "Epoch 5/12\n",
      "86/86 [==============================] - 18s 209ms/step - loss: 4.1850 - acc: 0.7316 - val_loss: 4.0810 - val_acc: 0.7395\n",
      "Epoch 6/12\n",
      "86/86 [==============================] - 18s 209ms/step - loss: 3.5576 - acc: 0.7700 - val_loss: 4.3008 - val_acc: 0.7191\n",
      "Epoch 7/12\n",
      "86/86 [==============================] - 18s 208ms/step - loss: 3.9563 - acc: 0.7414 - val_loss: 3.9068 - val_acc: 0.7441\n",
      "Epoch 8/12\n",
      "86/86 [==============================] - 18s 209ms/step - loss: 3.6118 - acc: 0.7665 - val_loss: 4.1836 - val_acc: 0.7282\n",
      "Epoch 9/12\n",
      "86/86 [==============================] - 18s 209ms/step - loss: 3.9386 - acc: 0.7483 - val_loss: 3.9121 - val_acc: 0.7452\n",
      "Epoch 10/12\n",
      "86/86 [==============================] - 18s 209ms/step - loss: 3.3178 - acc: 0.7859 - val_loss: 3.7169 - val_acc: 0.7599\n",
      "Epoch 11/12\n",
      "86/86 [==============================] - 18s 208ms/step - loss: 3.5391 - acc: 0.7721 - val_loss: 4.2601 - val_acc: 0.7282\n",
      "Epoch 12/12\n",
      "86/86 [==============================] - 18s 209ms/step - loss: 3.2991 - acc: 0.7881 - val_loss: 3.8713 - val_acc: 0.7508\n"
     ]
    },
    {
     "data": {
      "text/plain": [
       "<keras.callbacks.History at 0x7febd3150828>"
      ]
     },
     "execution_count": 12,
     "metadata": {
      "tags": []
     },
     "output_type": "execute_result"
    }
   ],
   "source": [
    "new_model.fit_generator(\n",
    "    train_generator,\n",
    "    steps_per_epoch = train_generator.samples // batch_size,\n",
    "    validation_data = test_generator, \n",
    "    validation_steps = test_generator.samples // batch_size,\n",
    "    epochs = epochs,\n",
    "    verbose = 1)"
   ]
  },
  {
   "cell_type": "markdown",
   "metadata": {
    "colab_type": "text",
    "id": "JCmVnZiGf1aA"
   },
   "source": [
    "#  Freeze all layers of VGG16 model, apart from layer block5"
   ]
  },
  {
   "cell_type": "code",
   "execution_count": 0,
   "metadata": {
    "colab": {
     "base_uri": "https://localhost:8080/",
     "height": 340
    },
    "colab_type": "code",
    "id": "ICVr7iV6UKWe",
    "outputId": "514e769e-5e45-44ac-d519-1363bcbb4662"
   },
   "outputs": [
    {
     "name": "stdout",
     "output_type": "stream",
     "text": [
      "0 input_1 False\n",
      "1 block1_conv1 False\n",
      "2 block1_conv2 False\n",
      "3 block1_pool False\n",
      "4 block2_conv1 False\n",
      "5 block2_conv2 False\n",
      "6 block2_pool False\n",
      "7 block3_conv1 False\n",
      "8 block3_conv2 False\n",
      "9 block3_conv3 False\n",
      "10 block3_pool False\n",
      "11 block4_conv1 False\n",
      "12 block4_conv2 False\n",
      "13 block4_conv3 False\n",
      "14 block4_pool False\n",
      "15 block5_conv1 True\n",
      "16 block5_conv2 True\n",
      "17 block5_conv3 True\n",
      "18 block5_pool True\n"
     ]
    }
   ],
   "source": [
    "for layer in vgg_model.layers[15:]:\n",
    "    layer.trainable = True\n",
    "\n",
    "for i, layer in enumerate(vgg_model.layers):\n",
    "    print(i, layer.name, layer.trainable)"
   ]
  },
  {
   "cell_type": "code",
   "execution_count": 0,
   "metadata": {
    "colab": {},
    "colab_type": "code",
    "id": "Yvn_0UGkRMGD"
   },
   "outputs": [],
   "source": [
    "new_model.compile(loss = \"sparse_categorical_crossentropy\", optimizer = tf.train.AdamOptimizer(), metrics=[\"accuracy\"])"
   ]
  },
  {
   "cell_type": "code",
   "execution_count": 0,
   "metadata": {
    "colab": {
     "base_uri": "https://localhost:8080/",
     "height": 442
    },
    "colab_type": "code",
    "id": "JZO429TURQip",
    "outputId": "69df7cbf-bdb9-461a-8ae6-5093693563ed"
   },
   "outputs": [
    {
     "name": "stdout",
     "output_type": "stream",
     "text": [
      "Epoch 1/12\n",
      "86/86 [==============================] - 21s 248ms/step - loss: 12.4114 - acc: 0.2299 - val_loss: 13.0150 - val_acc: 0.1925\n",
      "Epoch 2/12\n",
      "86/86 [==============================] - 20s 233ms/step - loss: 12.9954 - acc: 0.1937 - val_loss: 13.0697 - val_acc: 0.1891\n",
      "Epoch 3/12\n",
      "86/86 [==============================] - 20s 232ms/step - loss: 13.1014 - acc: 0.1872 - val_loss: 13.1245 - val_acc: 0.1857\n",
      "Epoch 4/12\n",
      "86/86 [==============================] - 20s 231ms/step - loss: 13.0311 - acc: 0.1915 - val_loss: 13.0515 - val_acc: 0.1903\n",
      "Epoch 5/12\n",
      "86/86 [==============================] - 20s 232ms/step - loss: 13.0546 - acc: 0.1901 - val_loss: 13.0150 - val_acc: 0.1925\n",
      "Epoch 6/12\n",
      "86/86 [==============================] - 20s 232ms/step - loss: 13.0546 - acc: 0.1901 - val_loss: 13.1427 - val_acc: 0.1846\n",
      "Epoch 7/12\n",
      "86/86 [==============================] - 20s 232ms/step - loss: 13.1776 - acc: 0.1824 - val_loss: 13.0515 - val_acc: 0.1903\n",
      "Epoch 8/12\n",
      "86/86 [==============================] - 20s 232ms/step - loss: 13.0663 - acc: 0.1893 - val_loss: 13.0150 - val_acc: 0.1925\n",
      "Epoch 9/12\n",
      "86/86 [==============================] - 20s 232ms/step - loss: 12.9192 - acc: 0.1985 - val_loss: 13.1610 - val_acc: 0.1835\n",
      "Epoch 10/12\n",
      "86/86 [==============================] - 20s 232ms/step - loss: 13.0630 - acc: 0.1895 - val_loss: 12.9419 - val_acc: 0.1971\n",
      "Epoch 11/12\n",
      "86/86 [==============================] - 20s 232ms/step - loss: 13.0513 - acc: 0.1903 - val_loss: 12.9054 - val_acc: 0.1993\n",
      "Epoch 12/12\n",
      "86/86 [==============================] - 20s 232ms/step - loss: 12.8665 - acc: 0.2017 - val_loss: 13.1245 - val_acc: 0.1857\n"
     ]
    },
    {
     "data": {
      "text/plain": [
       "<keras.callbacks.History at 0x7febd2f45b38>"
      ]
     },
     "execution_count": 15,
     "metadata": {
      "tags": []
     },
     "output_type": "execute_result"
    }
   ],
   "source": [
    "new_model.fit_generator(\n",
    "    train_generator,\n",
    "    steps_per_epoch = train_generator.samples // batch_size,\n",
    "    validation_data = test_generator, \n",
    "    validation_steps = test_generator.samples // batch_size,\n",
    "    epochs = epochs,\n",
    "    verbose = 1)"
   ]
  },
  {
   "cell_type": "markdown",
   "metadata": {
    "colab_type": "text",
    "id": "Zw5bCyzdgM0Z"
   },
   "source": [
    "# Unfreeze all layers"
   ]
  },
  {
   "cell_type": "code",
   "execution_count": 0,
   "metadata": {
    "colab": {
     "base_uri": "https://localhost:8080/",
     "height": 340
    },
    "colab_type": "code",
    "id": "PqE2PgoGRUui",
    "outputId": "4b31cecb-5867-44a2-8752-b989b788d1e1"
   },
   "outputs": [
    {
     "name": "stdout",
     "output_type": "stream",
     "text": [
      "0 input_1 True\n",
      "1 block1_conv1 True\n",
      "2 block1_conv2 True\n",
      "3 block1_pool True\n",
      "4 block2_conv1 True\n",
      "5 block2_conv2 True\n",
      "6 block2_pool True\n",
      "7 block3_conv1 True\n",
      "8 block3_conv2 True\n",
      "9 block3_conv3 True\n",
      "10 block3_pool True\n",
      "11 block4_conv1 True\n",
      "12 block4_conv2 True\n",
      "13 block4_conv3 True\n",
      "14 block4_pool True\n",
      "15 block5_conv1 True\n",
      "16 block5_conv2 True\n",
      "17 block5_conv3 True\n",
      "18 block5_pool True\n"
     ]
    }
   ],
   "source": [
    "for layer in vgg_model.layers[:]:\n",
    "    layer.trainable = True\n",
    "\n",
    "for i, layer in enumerate(vgg_model.layers):\n",
    "    print(i, layer.name, layer.trainable)"
   ]
  },
  {
   "cell_type": "code",
   "execution_count": 0,
   "metadata": {
    "colab": {},
    "colab_type": "code",
    "id": "zXpTTAHRZjKk"
   },
   "outputs": [],
   "source": [
    "new_model.compile(loss = \"sparse_categorical_crossentropy\", optimizer = tf.train.AdamOptimizer(), metrics=[\"accuracy\"])"
   ]
  },
  {
   "cell_type": "code",
   "execution_count": 0,
   "metadata": {
    "colab": {
     "base_uri": "https://localhost:8080/",
     "height": 442
    },
    "colab_type": "code",
    "id": "I94mGUmrRdVH",
    "outputId": "3528968a-7918-4f63-9b81-79841eb9a35c"
   },
   "outputs": [
    {
     "name": "stdout",
     "output_type": "stream",
     "text": [
      "Epoch 1/12\n",
      "86/86 [==============================] - 46s 538ms/step - loss: 13.0338 - acc: 0.1914 - val_loss: 12.9419 - val_acc: 0.1971\n",
      "Epoch 2/12\n",
      "86/86 [==============================] - 41s 475ms/step - loss: 12.9368 - acc: 0.1974 - val_loss: 13.2888 - val_acc: 0.1755\n",
      "Epoch 3/12\n",
      "86/86 [==============================] - 41s 476ms/step - loss: 13.0279 - acc: 0.1917 - val_loss: 12.9967 - val_acc: 0.1937\n",
      "Epoch 4/12\n",
      "86/86 [==============================] - 41s 476ms/step - loss: 12.9661 - acc: 0.1956 - val_loss: 13.0332 - val_acc: 0.1914\n",
      "Epoch 5/12\n",
      "86/86 [==============================] - 41s 476ms/step - loss: 13.0305 - acc: 0.1916 - val_loss: 13.2157 - val_acc: 0.1801\n",
      "Epoch 6/12\n",
      "86/86 [==============================] - 41s 475ms/step - loss: 12.9459 - acc: 0.1968 - val_loss: 12.8507 - val_acc: 0.2027\n",
      "Epoch 7/12\n",
      "86/86 [==============================] - 41s 475ms/step - loss: 13.0839 - acc: 0.1882 - val_loss: 13.0880 - val_acc: 0.1880\n",
      "Epoch 8/12\n",
      "86/86 [==============================] - 41s 475ms/step - loss: 13.0806 - acc: 0.1885 - val_loss: 12.8872 - val_acc: 0.2005\n",
      "Epoch 9/12\n",
      "86/86 [==============================] - 41s 476ms/step - loss: 13.0429 - acc: 0.1908 - val_loss: 13.0880 - val_acc: 0.1880\n",
      "Epoch 10/12\n",
      "86/86 [==============================] - 41s 476ms/step - loss: 13.0689 - acc: 0.1892 - val_loss: 13.1427 - val_acc: 0.1846\n",
      "Epoch 11/12\n",
      "86/86 [==============================] - 41s 476ms/step - loss: 13.0370 - acc: 0.1912 - val_loss: 13.0150 - val_acc: 0.1925\n",
      "Epoch 12/12\n",
      "86/86 [==============================] - 41s 475ms/step - loss: 13.0722 - acc: 0.1890 - val_loss: 13.0880 - val_acc: 0.1880\n"
     ]
    },
    {
     "data": {
      "text/plain": [
       "<keras.callbacks.History at 0x7febd23b9be0>"
      ]
     },
     "execution_count": 18,
     "metadata": {
      "tags": []
     },
     "output_type": "execute_result"
    }
   ],
   "source": [
    "new_model.fit_generator(\n",
    "    train_generator,\n",
    "    steps_per_epoch = train_generator.samples // batch_size,\n",
    "    validation_data = test_generator, \n",
    "    validation_steps = test_generator.samples // batch_size,\n",
    "    epochs = epochs,\n",
    "    verbose = 1)"
   ]
  },
  {
   "cell_type": "markdown",
   "metadata": {
    "colab_type": "text",
    "id": "pQt-3wNSaHZP"
   },
   "source": [
    "# Analysis\n",
    "\n",
    "As can be seen from the above results, it is best to use the existing, pre-trained model to classify a similar new data set. \n",
    "\n",
    "This is faily evident in the results above when we get an accuracy of close to 80% when we free all the layers of VGG16 model and train the classifier and the accuracy drops to as low as 20% when the model is retrained.  "
   ]
  }
 ],
 "metadata": {
  "accelerator": "GPU",
  "colab": {
   "collapsed_sections": [],
   "include_colab_link": true,
   "name": "qq287531_assignment_02.ipynb",
   "provenance": [],
   "version": "0.3.2"
  },
  "kernelspec": {
   "display_name": "Python 3",
   "language": "python",
   "name": "python3"
  },
  "language_info": {
   "codemirror_mode": {
    "name": "ipython",
    "version": 3
   },
   "file_extension": ".py",
   "mimetype": "text/x-python",
   "name": "python",
   "nbconvert_exporter": "python",
   "pygments_lexer": "ipython3",
   "version": "3.6.4"
  }
 },
 "nbformat": 4,
 "nbformat_minor": 1
}
