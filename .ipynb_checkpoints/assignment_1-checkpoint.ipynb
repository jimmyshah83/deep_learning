{
 "cells": [
  {
   "cell_type": "markdown",
   "metadata": {
    "colab_type": "text",
    "id": "view-in-github"
   },
   "source": [
    "<a href=\"https://colab.research.google.com/github/jimmyshah83/deep_learning/blob/master/assignment_1.ipynb\" target=\"_parent\"><img src=\"https://colab.research.google.com/assets/colab-badge.svg\" alt=\"Open In Colab\"/></a>"
   ]
  },
  {
   "cell_type": "markdown",
   "metadata": {},
   "source": [
    "## Deep Learning Keras Example\n",
    "\n",
    "#### A Keras example with 3 dense layers, rms optimizer and mse loss"
   ]
  },
  {
   "cell_type": "code",
   "execution_count": 15,
   "metadata": {
    "colab": {
     "base_uri": "https://localhost:8080/",
     "height": 51
    },
    "colab_type": "code",
    "id": "RbEVgwkuFght",
    "outputId": "f6a1d7ff-b373-429a-9419-9ad40e60adbd"
   },
   "outputs": [
    {
     "name": "stdout",
     "output_type": "stream",
     "text": [
      "1.13.0-rc1\n",
      "2.2.4-tf\n"
     ]
    }
   ],
   "source": [
    "import tensorflow as tf\n",
    "from tensorflow.keras import layers\n",
    "\n",
    "print(tf.VERSION)\n",
    "print(tf.keras.__version__)"
   ]
  },
  {
   "cell_type": "code",
   "execution_count": 0,
   "metadata": {
    "colab": {},
    "colab_type": "code",
    "id": "yfMrhCufFmu4"
   },
   "outputs": [],
   "source": [
    "model = tf.keras.Sequential([\n",
    "# Adds a densely-connected layer with 64 units to the model with shape of 10 and relu activation:\n",
    "layers.Dense(64, activation='relu', input_shape=(10,)),\n",
    "# Add another densly-connected layer with 32 units and sigmoid activation:\n",
    "layers.Dense(32, activation='sigmoid'),\n",
    "# Add another densly-connected layer with 5 units, activation function as relu and l2 kernel regularization with a factor of 0.01:\n",
    "layers.Dense(5, activation='relu', kernel_regularizer=tf.keras.regularizers.l2(0.01)),\n",
    "# Add a softmax layer with 3 output units:\n",
    "layers.Dense(3, activation='softmax')])"
   ]
  },
  {
   "cell_type": "code",
   "execution_count": 0,
   "metadata": {
    "colab": {},
    "colab_type": "code",
    "id": "TzjMIqitGQPg"
   },
   "outputs": [],
   "source": [
    "# Configure a model for mean-squared error regression.\n",
    "model.compile(optimizer=tf.train.RMSPropOptimizer(0.01),\n",
    "              loss='mse',       # mean squared error\n",
    "              metrics=['mae'])  # mean absolute error"
   ]
  },
  {
   "cell_type": "code",
   "execution_count": 18,
   "metadata": {
    "colab": {
     "base_uri": "https://localhost:8080/",
     "height": 391
    },
    "colab_type": "code",
    "id": "AwYapLigGilv",
    "outputId": "d9d05640-00f5-4ba1-b02c-31e671bd2640"
   },
   "outputs": [
    {
     "name": "stdout",
     "output_type": "stream",
     "text": [
      "Train on 1000 samples, validate on 100 samples\n",
      "Epoch 1/10\n",
      "1000/1000 [==============================] - 0s 216us/sample - loss: 0.1995 - mean_absolute_error: 0.2749 - val_loss: 0.1849 - val_mean_absolute_error: 0.2559\n",
      "Epoch 2/10\n",
      "1000/1000 [==============================] - 0s 58us/sample - loss: 0.1922 - mean_absolute_error: 0.2750 - val_loss: 0.1706 - val_mean_absolute_error: 0.2565\n",
      "Epoch 3/10\n",
      "1000/1000 [==============================] - 0s 57us/sample - loss: 0.1641 - mean_absolute_error: 0.2752 - val_loss: 0.1266 - val_mean_absolute_error: 0.2559\n",
      "Epoch 4/10\n",
      "1000/1000 [==============================] - 0s 58us/sample - loss: 0.1211 - mean_absolute_error: 0.2751 - val_loss: 0.0982 - val_mean_absolute_error: 0.2561\n",
      "Epoch 5/10\n",
      "1000/1000 [==============================] - 0s 56us/sample - loss: 0.1092 - mean_absolute_error: 0.2751 - val_loss: 0.0965 - val_mean_absolute_error: 0.2551\n",
      "Epoch 6/10\n",
      "1000/1000 [==============================] - 0s 60us/sample - loss: 0.1091 - mean_absolute_error: 0.2749 - val_loss: 0.0974 - val_mean_absolute_error: 0.2565\n",
      "Epoch 7/10\n",
      "1000/1000 [==============================] - 0s 64us/sample - loss: 0.1094 - mean_absolute_error: 0.2750 - val_loss: 0.0978 - val_mean_absolute_error: 0.2567\n",
      "Epoch 8/10\n",
      "1000/1000 [==============================] - 0s 59us/sample - loss: 0.1091 - mean_absolute_error: 0.2750 - val_loss: 0.0969 - val_mean_absolute_error: 0.2559\n",
      "Epoch 9/10\n",
      "1000/1000 [==============================] - 0s 59us/sample - loss: 0.1091 - mean_absolute_error: 0.2751 - val_loss: 0.0970 - val_mean_absolute_error: 0.2557\n",
      "Epoch 10/10\n",
      "1000/1000 [==============================] - 0s 68us/sample - loss: 0.1091 - mean_absolute_error: 0.2750 - val_loss: 0.0967 - val_mean_absolute_error: 0.2556\n"
     ]
    },
    {
     "data": {
      "text/plain": [
       "<tensorflow.python.keras.callbacks.History at 0x7f384ecfc518>"
      ]
     },
     "execution_count": 18,
     "metadata": {
      "tags": []
     },
     "output_type": "execute_result"
    }
   ],
   "source": [
    "import numpy as np\n",
    "\n",
    "data = np.random.random((1000, 10))\n",
    "labels = np.random.random((1000, 3))\n",
    "\n",
    "val_data = np.random.random((100, 10))\n",
    "val_labels = np.random.random((100, 3))\n",
    "\n",
    "model.fit(data, labels, epochs=10, batch_size=32,\n",
    "          validation_data=(val_data, val_labels))"
   ]
  },
  {
   "cell_type": "code",
   "execution_count": 19,
   "metadata": {
    "colab": {
     "base_uri": "https://localhost:8080/",
     "height": 51
    },
    "colab_type": "code",
    "id": "eZc8ApASL9oy",
    "outputId": "0eb04d59-fa2b-4aea-fe83-670e61d0d070"
   },
   "outputs": [
    {
     "name": "stdout",
     "output_type": "stream",
     "text": [
      "1000/1000 [==============================] - 0s 33us/sample - loss: 0.1106 - mean_absolute_error: 0.2771\n"
     ]
    },
    {
     "data": {
      "text/plain": [
       "[0.11057653820514679, 0.27705255]"
      ]
     },
     "execution_count": 19,
     "metadata": {
      "tags": []
     },
     "output_type": "execute_result"
    }
   ],
   "source": [
    "data = np.random.random((1000, 10))\n",
    "labels = np.random.random((1000, 3))\n",
    "model.evaluate(data, labels, batch_size=32)"
   ]
  },
  {
   "cell_type": "code",
   "execution_count": 20,
   "metadata": {
    "colab": {
     "base_uri": "https://localhost:8080/",
     "height": 34
    },
    "colab_type": "code",
    "id": "fFqXRkmwG4-v",
    "outputId": "721c9450-333a-42b1-b9d0-b94d9296710d"
   },
   "outputs": [
    {
     "name": "stdout",
     "output_type": "stream",
     "text": [
      "(1000, 3)\n"
     ]
    }
   ],
   "source": [
    "result = model.predict(data, batch_size=32)\n",
    "print(result.shape)"
   ]
  }
 ],
 "metadata": {
  "colab": {
   "include_colab_link": true,
   "name": "Untitled2.ipynb",
   "provenance": [],
   "version": "0.3.2"
  },
  "kernelspec": {
   "display_name": "Python 3",
   "language": "python",
   "name": "python3"
  },
  "language_info": {
   "codemirror_mode": {
    "name": "ipython",
    "version": 3
   },
   "file_extension": ".py",
   "mimetype": "text/x-python",
   "name": "python",
   "nbconvert_exporter": "python",
   "pygments_lexer": "ipython3",
   "version": "3.6.4"
  }
 },
 "nbformat": 4,
 "nbformat_minor": 1
}
