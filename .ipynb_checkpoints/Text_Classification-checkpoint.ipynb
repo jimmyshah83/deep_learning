{
 "cells": [
  {
   "cell_type": "markdown",
   "metadata": {
    "colab_type": "text",
    "id": "view-in-github"
   },
   "source": [
    "<a href=\"https://colab.research.google.com/github/jimmyshah83/deep_learning/blob/master/Text_Classification.ipynb\" target=\"_parent\"><img src=\"https://colab.research.google.com/assets/colab-badge.svg\" alt=\"Open In Colab\"/></a>"
   ]
  },
  {
   "cell_type": "markdown",
   "metadata": {},
   "source": [
    "## Text classification - Deep Learnning\n",
    "\n",
    "#### Performing text classification on iShares data to classifiy mutual fund prospectus in various categories namely Low, Medium and High risk"
   ]
  },
  {
   "cell_type": "markdown",
   "metadata": {
    "colab_type": "text",
    "id": "XkXYREkdvM9R"
   },
   "source": [
    "## Importing Libraries"
   ]
  },
  {
   "cell_type": "code",
   "execution_count": 0,
   "metadata": {
    "colab": {},
    "colab_type": "code",
    "id": "pnSqim8VvM9S"
   },
   "outputs": [],
   "source": [
    "import pandas as pd\n",
    "import numpy as np\n",
    "from sklearn.model_selection import train_test_split\n",
    "from sklearn.feature_extraction.text import CountVectorizer\n",
    "from sklearn.feature_extraction.text import TfidfTransformer\n",
    "from sklearn.linear_model import LogisticRegression\n",
    "from sklearn.ensemble import RandomForestClassifier\n",
    "from sklearn.naive_bayes import MultinomialNB\n",
    "from sklearn.svm import LinearSVC\n",
    "from sklearn.neural_network import MLPClassifier\n",
    "\n",
    "import warnings\n",
    "warnings.filterwarnings(\"ignore\")\n"
   ]
  },
  {
   "cell_type": "markdown",
   "metadata": {
    "colab_type": "text",
    "id": "Zo-I1HS0vM9W"
   },
   "source": [
    "## Importing Dataset"
   ]
  },
  {
   "cell_type": "code",
   "execution_count": 0,
   "metadata": {
    "colab": {},
    "colab_type": "code",
    "id": "tlyy_iaAvM9X"
   },
   "outputs": [],
   "source": [
    "df = pd.read_excel(r'C:/Users/314433012/Desktop/New/projectdatanew.xlsx')"
   ]
  },
  {
   "cell_type": "markdown",
   "metadata": {
    "colab_type": "text",
    "id": "V_WOFWZ8vM9a"
   },
   "source": [
    "## Exploratory Data Analysis"
   ]
  },
  {
   "cell_type": "code",
   "execution_count": 0,
   "metadata": {
    "colab": {},
    "colab_type": "code",
    "id": "d1ej6eCSvM9c",
    "outputId": "7447f750-b54a-4b1f-ffb0-9c0437b2af80"
   },
   "outputs": [
    {
     "data": {
      "text/html": [
       "<div>\n",
       "<style scoped>\n",
       "    .dataframe tbody tr th:only-of-type {\n",
       "        vertical-align: middle;\n",
       "    }\n",
       "\n",
       "    .dataframe tbody tr th {\n",
       "        vertical-align: top;\n",
       "    }\n",
       "\n",
       "    .dataframe thead th {\n",
       "        text-align: right;\n",
       "    }\n",
       "</style>\n",
       "<table border=\"1\" class=\"dataframe\">\n",
       "  <thead>\n",
       "    <tr style=\"text-align: right;\">\n",
       "      <th></th>\n",
       "      <th>Name</th>\n",
       "      <th>new_objective_extracted</th>\n",
       "      <th>new_strategy_extracted</th>\n",
       "      <th>ticker</th>\n",
       "      <th>prospectus_link</th>\n",
       "      <th>Target Variable</th>\n",
       "    </tr>\n",
       "  </thead>\n",
       "  <tbody>\n",
       "    <tr>\n",
       "      <th>0</th>\n",
       "      <td>iShares msci germany etf</td>\n",
       "      <td>The iShares MSCI Germany ETF (the “Fund”) see...</td>\n",
       "      <td>The Fund seeks to track the investment results...</td>\n",
       "      <td>EWG</td>\n",
       "      <td>https://www.sec.gov/Archives/edgar/data/930667...</td>\n",
       "      <td>Medium Risk</td>\n",
       "    </tr>\n",
       "    <tr>\n",
       "      <th>1</th>\n",
       "      <td>iShares msci mexico etf</td>\n",
       "      <td>The iShares MSCI Mexico ETF (the “Fund”) seek...</td>\n",
       "      <td>The Fund seeks to track the investment results...</td>\n",
       "      <td>EWW</td>\n",
       "      <td>https://www.sec.gov/Archives/edgar/data/930667...</td>\n",
       "      <td>High Risk</td>\n",
       "    </tr>\n",
       "    <tr>\n",
       "      <th>2</th>\n",
       "      <td>Fidelity® Cash Central Fund</td>\n",
       "      <td>Fidelity® Cash Central Fund seeks to obtain a ...</td>\n",
       "      <td>The Adviser invests the fund's assets in U.S. ...</td>\n",
       "      <td>NaN</td>\n",
       "      <td>https://www.sec.gov/Archives/edgar/data/102269...</td>\n",
       "      <td>Low Risk</td>\n",
       "    </tr>\n",
       "    <tr>\n",
       "      <th>3</th>\n",
       "      <td>iShares msci malaysia etf</td>\n",
       "      <td>The iShares MSCI Malaysia ETF (the “Fund”) se...</td>\n",
       "      <td>The Fund seeks to track the investment resul...</td>\n",
       "      <td>EWM</td>\n",
       "      <td>https://www.sec.gov/Archives/edgar/data/930667...</td>\n",
       "      <td>High Risk</td>\n",
       "    </tr>\n",
       "    <tr>\n",
       "      <th>4</th>\n",
       "      <td>iShares msci malaysia etf</td>\n",
       "      <td>The iShares MSCI Malaysia ETF (the “Fund”) se...</td>\n",
       "      <td>The Fund seeks to track the investment results...</td>\n",
       "      <td>EWM</td>\n",
       "      <td>https://www.sec.gov/Archives/edgar/data/930667...</td>\n",
       "      <td>High Risk</td>\n",
       "    </tr>\n",
       "  </tbody>\n",
       "</table>\n",
       "</div>"
      ],
      "text/plain": [
       "                          Name  \\\n",
       "0     iShares msci germany etf   \n",
       "1      iShares msci mexico etf   \n",
       "2  Fidelity® Cash Central Fund   \n",
       "3    iShares msci malaysia etf   \n",
       "4    iShares msci malaysia etf   \n",
       "\n",
       "                             new_objective_extracted  \\\n",
       "0   The iShares MSCI Germany ETF (the “Fund”) see...   \n",
       "1   The iShares MSCI Mexico ETF (the “Fund”) seek...   \n",
       "2  Fidelity® Cash Central Fund seeks to obtain a ...   \n",
       "3   The iShares MSCI Malaysia ETF (the “Fund”) se...   \n",
       "4   The iShares MSCI Malaysia ETF (the “Fund”) se...   \n",
       "\n",
       "                              new_strategy_extracted ticker  \\\n",
       "0  The Fund seeks to track the investment results...   EWG    \n",
       "1  The Fund seeks to track the investment results...    EWW   \n",
       "2  The Adviser invests the fund's assets in U.S. ...    NaN   \n",
       "3    The Fund seeks to track the investment resul...   EWM    \n",
       "4  The Fund seeks to track the investment results...   EWM    \n",
       "\n",
       "                                     prospectus_link Target Variable  \n",
       "0  https://www.sec.gov/Archives/edgar/data/930667...     Medium Risk  \n",
       "1  https://www.sec.gov/Archives/edgar/data/930667...       High Risk  \n",
       "2  https://www.sec.gov/Archives/edgar/data/102269...        Low Risk  \n",
       "3  https://www.sec.gov/Archives/edgar/data/930667...       High Risk  \n",
       "4  https://www.sec.gov/Archives/edgar/data/930667...       High Risk  "
      ]
     },
     "execution_count": 3,
     "metadata": {
      "tags": []
     },
     "output_type": "execute_result"
    }
   ],
   "source": [
    "df.head()"
   ]
  },
  {
   "cell_type": "code",
   "execution_count": 0,
   "metadata": {
    "colab": {},
    "colab_type": "code",
    "id": "y6PlM3ctvM9h",
    "outputId": "7dcd4242-d041-4803-dad4-f6f5bb6bd6ba"
   },
   "outputs": [
    {
     "data": {
      "text/plain": [
       "\"The Fund seeks to track the investment results of the MSCI Germany Index (the “Underlying Index”), which consists of stocks traded primarily on the Frankfurt Stock Exchange. The Underlying Index may include large-, mid- or small-capitalization companies. Components of the Underlying Index primarily include consumer discretionary, financials and healthcare companies. The components of the Underlying Index, and the degree to which these components represent certain industries, are likely to change over time.\\nBFA uses a “passive” or indexing approach to try to achieve the Fund’s investment objective. Unlike many investment companies, the Fund does not try to “beat” the index it tracks and does not seek temporary defensive positions when markets decline or appear overvalued.\\nIndexing may eliminate the chance that the Fund will substantially outperform the Underlying Index but also may reduce some of the risks of active management, such as poor security selection. Indexing seeks to achieve\\nlower costs and better after-tax performance by keeping portfolio turnover low in comparison to actively managed investment companies.\\nBFA uses a representative sampling indexing strategy to manage the Fund. “Representative sampling” is an indexing strategy that involves investing in a representative sample of securities that collectively has an investment profile similar to that of an applicable underlying index. The securities selected are expected to have, in the aggregate, investment characteristics (based on factors such as market capitalization and industry weightings), fundamental characteristics (such as return variability and yield) and liquidity measures similar to those of an applicable underlying index. The Fund may or may not hold all of the securities in an applicable underlying index.\\nThe Fund will at all times invest at least 80% of its assets in the securities of its Underlying Index and in depositary receipts representing securities in its Underlying Index. The Fund may invest the remainder of its assets in other securities, including securities not in the Underlying Index, but which BFA believes will help the Fund track the Underlying Index, and in other investments, including futures contracts, options on futures contracts, other types of options and swaps related to its Underlying Index, as well as cash and cash equivalents, including shares of money market funds advised by BFA or its affiliates. The Fund seeks to track the investment results of the Underlying Index before fees and expenses of the Fund.\\nThe Fund may lend securities representing up to one-third of the value of the Fund's total assets (including the value of any collateral received).\\nThe Underlying Index is sponsored by MSCI Inc. (the “Index Provider” or “MSCI”), which is independent of the Fund and BFA. The Index Provider determines the composition and relative weightings of the securities in the Underlying Index and publishes information regarding the market value of the Underlying Index.\""
      ]
     },
     "execution_count": 4,
     "metadata": {
      "tags": []
     },
     "output_type": "execute_result"
    }
   ],
   "source": [
    "df['new_strategy_extracted'][0]"
   ]
  },
  {
   "cell_type": "code",
   "execution_count": 0,
   "metadata": {
    "colab": {},
    "colab_type": "code",
    "id": "9W_egAlLvM9m"
   },
   "outputs": [],
   "source": [
    "df = df[pd.notnull(df['new_strategy_extracted'])]"
   ]
  },
  {
   "cell_type": "code",
   "execution_count": 0,
   "metadata": {
    "colab": {},
    "colab_type": "code",
    "id": "mN6EQuiLvM9p",
    "outputId": "a0e314cf-f8af-4e21-f954-522aa46536dc"
   },
   "outputs": [
    {
     "name": "stdout",
     "output_type": "stream",
     "text": [
      "<class 'pandas.core.frame.DataFrame'>\n",
      "Int64Index: 224 entries, 0 to 223\n",
      "Data columns (total 6 columns):\n",
      "Name                       224 non-null object\n",
      "new_objective_extracted    224 non-null object\n",
      "new_strategy_extracted     224 non-null object\n",
      "ticker                     211 non-null object\n",
      "prospectus_link            224 non-null object\n",
      "Target Variable            224 non-null object\n",
      "dtypes: object(6)\n",
      "memory usage: 12.2+ KB\n"
     ]
    }
   ],
   "source": [
    "df.info()"
   ]
  },
  {
   "cell_type": "markdown",
   "metadata": {
    "colab_type": "text",
    "id": "afReY2d4vM9t"
   },
   "source": [
    "## Selecting Meaningful Features"
   ]
  },
  {
   "cell_type": "code",
   "execution_count": 0,
   "metadata": {
    "colab": {},
    "colab_type": "code",
    "id": "1I-Fp3VuvM9v"
   },
   "outputs": [],
   "source": [
    "col = ['Target Variable', 'new_strategy_extracted']\n",
    "df = df[col]"
   ]
  },
  {
   "cell_type": "code",
   "execution_count": 0,
   "metadata": {
    "colab": {},
    "colab_type": "code",
    "id": "ZgVnC6KvvM90",
    "outputId": "23063322-86ba-43cf-8ce3-06a4ab32cb7d"
   },
   "outputs": [
    {
     "data": {
      "text/plain": [
       "Index(['Target Variable', 'new_strategy_extracted'], dtype='object')"
      ]
     },
     "execution_count": 8,
     "metadata": {
      "tags": []
     },
     "output_type": "execute_result"
    }
   ],
   "source": [
    "df.columns"
   ]
  },
  {
   "cell_type": "code",
   "execution_count": 0,
   "metadata": {
    "colab": {},
    "colab_type": "code",
    "id": "TqWcCRVxvM97"
   },
   "outputs": [],
   "source": [
    "df.columns = ['target_variable', 'new_strategy_extracted']"
   ]
  },
  {
   "cell_type": "code",
   "execution_count": 0,
   "metadata": {
    "colab": {},
    "colab_type": "code",
    "id": "B8V0TU9TvM9_",
    "outputId": "a295b842-5184-4387-9035-792139640d22"
   },
   "outputs": [
    {
     "data": {
      "text/html": [
       "<div>\n",
       "<style scoped>\n",
       "    .dataframe tbody tr th:only-of-type {\n",
       "        vertical-align: middle;\n",
       "    }\n",
       "\n",
       "    .dataframe tbody tr th {\n",
       "        vertical-align: top;\n",
       "    }\n",
       "\n",
       "    .dataframe thead th {\n",
       "        text-align: right;\n",
       "    }\n",
       "</style>\n",
       "<table border=\"1\" class=\"dataframe\">\n",
       "  <thead>\n",
       "    <tr style=\"text-align: right;\">\n",
       "      <th></th>\n",
       "      <th>target_variable</th>\n",
       "      <th>new_strategy_extracted</th>\n",
       "    </tr>\n",
       "  </thead>\n",
       "  <tbody>\n",
       "    <tr>\n",
       "      <th>0</th>\n",
       "      <td>Medium Risk</td>\n",
       "      <td>The Fund seeks to track the investment results...</td>\n",
       "    </tr>\n",
       "    <tr>\n",
       "      <th>1</th>\n",
       "      <td>High Risk</td>\n",
       "      <td>The Fund seeks to track the investment results...</td>\n",
       "    </tr>\n",
       "    <tr>\n",
       "      <th>2</th>\n",
       "      <td>Low Risk</td>\n",
       "      <td>The Adviser invests the fund's assets in U.S. ...</td>\n",
       "    </tr>\n",
       "    <tr>\n",
       "      <th>3</th>\n",
       "      <td>High Risk</td>\n",
       "      <td>The Fund seeks to track the investment resul...</td>\n",
       "    </tr>\n",
       "    <tr>\n",
       "      <th>4</th>\n",
       "      <td>High Risk</td>\n",
       "      <td>The Fund seeks to track the investment results...</td>\n",
       "    </tr>\n",
       "  </tbody>\n",
       "</table>\n",
       "</div>"
      ],
      "text/plain": [
       "  target_variable                             new_strategy_extracted\n",
       "0     Medium Risk  The Fund seeks to track the investment results...\n",
       "1       High Risk  The Fund seeks to track the investment results...\n",
       "2        Low Risk  The Adviser invests the fund's assets in U.S. ...\n",
       "3       High Risk    The Fund seeks to track the investment resul...\n",
       "4       High Risk  The Fund seeks to track the investment results..."
      ]
     },
     "execution_count": 10,
     "metadata": {
      "tags": []
     },
     "output_type": "execute_result"
    }
   ],
   "source": [
    "df.head()"
   ]
  },
  {
   "cell_type": "code",
   "execution_count": 0,
   "metadata": {
    "colab": {},
    "colab_type": "code",
    "id": "2R9eEIxZvM-F"
   },
   "outputs": [],
   "source": [
    "df['category_id'] = df['target_variable'].factorize()[0]\n",
    "from io import StringIO\n",
    "category_id_df = df[['target_variable', 'category_id']].drop_duplicates().sort_values('category_id')\n",
    "category_to_id = dict(category_id_df.values)\n",
    "id_to_category = dict(category_id_df[['category_id', 'target_variable']].values)"
   ]
  },
  {
   "cell_type": "code",
   "execution_count": 0,
   "metadata": {
    "colab": {},
    "colab_type": "code",
    "id": "6PI6aGsOvM-J",
    "outputId": "b0325f18-e3bb-48b9-91e1-08739395372e"
   },
   "outputs": [
    {
     "data": {
      "text/html": [
       "<div>\n",
       "<style scoped>\n",
       "    .dataframe tbody tr th:only-of-type {\n",
       "        vertical-align: middle;\n",
       "    }\n",
       "\n",
       "    .dataframe tbody tr th {\n",
       "        vertical-align: top;\n",
       "    }\n",
       "\n",
       "    .dataframe thead th {\n",
       "        text-align: right;\n",
       "    }\n",
       "</style>\n",
       "<table border=\"1\" class=\"dataframe\">\n",
       "  <thead>\n",
       "    <tr style=\"text-align: right;\">\n",
       "      <th></th>\n",
       "      <th>target_variable</th>\n",
       "      <th>new_strategy_extracted</th>\n",
       "      <th>category_id</th>\n",
       "    </tr>\n",
       "  </thead>\n",
       "  <tbody>\n",
       "    <tr>\n",
       "      <th>0</th>\n",
       "      <td>Medium Risk</td>\n",
       "      <td>The Fund seeks to track the investment results...</td>\n",
       "      <td>0</td>\n",
       "    </tr>\n",
       "    <tr>\n",
       "      <th>1</th>\n",
       "      <td>High Risk</td>\n",
       "      <td>The Fund seeks to track the investment results...</td>\n",
       "      <td>1</td>\n",
       "    </tr>\n",
       "    <tr>\n",
       "      <th>2</th>\n",
       "      <td>Low Risk</td>\n",
       "      <td>The Adviser invests the fund's assets in U.S. ...</td>\n",
       "      <td>2</td>\n",
       "    </tr>\n",
       "    <tr>\n",
       "      <th>3</th>\n",
       "      <td>High Risk</td>\n",
       "      <td>The Fund seeks to track the investment resul...</td>\n",
       "      <td>1</td>\n",
       "    </tr>\n",
       "    <tr>\n",
       "      <th>4</th>\n",
       "      <td>High Risk</td>\n",
       "      <td>The Fund seeks to track the investment results...</td>\n",
       "      <td>1</td>\n",
       "    </tr>\n",
       "  </tbody>\n",
       "</table>\n",
       "</div>"
      ],
      "text/plain": [
       "  target_variable                             new_strategy_extracted  \\\n",
       "0     Medium Risk  The Fund seeks to track the investment results...   \n",
       "1       High Risk  The Fund seeks to track the investment results...   \n",
       "2        Low Risk  The Adviser invests the fund's assets in U.S. ...   \n",
       "3       High Risk    The Fund seeks to track the investment resul...   \n",
       "4       High Risk  The Fund seeks to track the investment results...   \n",
       "\n",
       "   category_id  \n",
       "0            0  \n",
       "1            1  \n",
       "2            2  \n",
       "3            1  \n",
       "4            1  "
      ]
     },
     "execution_count": 12,
     "metadata": {
      "tags": []
     },
     "output_type": "execute_result"
    }
   ],
   "source": [
    "df.head()"
   ]
  },
  {
   "cell_type": "markdown",
   "metadata": {
    "colab_type": "text",
    "id": "ktdogonGvM-N"
   },
   "source": [
    "## Frequency Count of Target Variable"
   ]
  },
  {
   "cell_type": "code",
   "execution_count": 0,
   "metadata": {
    "colab": {},
    "colab_type": "code",
    "id": "EeFRapjNvM-O",
    "outputId": "60af21aa-8794-4647-d06d-82b123c40bf4"
   },
   "outputs": [
    {
     "data": {
      "text/plain": [
       "Counter({'Medium Risk': 159, 'High Risk': 44, 'Low Risk': 21})"
      ]
     },
     "execution_count": 13,
     "metadata": {
      "tags": []
     },
     "output_type": "execute_result"
    }
   ],
   "source": [
    "from collections import Counter\n",
    "Counter(df[\"target_variable\"])"
   ]
  },
  {
   "cell_type": "code",
   "execution_count": 0,
   "metadata": {
    "colab": {},
    "colab_type": "code",
    "id": "n3-DsUdSvM-W",
    "outputId": "35eca507-6d15-4cf3-9cdf-bd1c4aba9386"
   },
   "outputs": [
    {
     "data": {
      "image/png": "[encoded data removed]",
      "text/plain": [
       "<Figure size 576x432 with 1 Axes>"
      ]
     },
     "metadata": {
      "needs_background": "light",
      "tags": []
     },
     "output_type": "display_data"
    }
   ],
   "source": [
    "import matplotlib.pyplot as plt\n",
    "fig = plt.figure(figsize=(8,6))\n",
    "df.groupby('target_variable').new_strategy_extracted.count().plot.bar(ylim=0)\n",
    "plt.show()"
   ]
  },
  {
   "cell_type": "code",
   "execution_count": 0,
   "metadata": {
    "colab": {},
    "colab_type": "code",
    "id": "ev222AqSvM-b"
   },
   "outputs": [],
   "source": [
    "import re \n",
    "def clean_str(string):\n",
    "    \"\"\"\n",
    "    Tokenization/string cleaning for dataset\n",
    "    \n",
    "    \"\"\"\n",
    "    string = re.sub(r\"\\n\", \"\", string)    \n",
    "    string = re.sub(r\"\\r\", \"\", string) \n",
    "    string = re.sub(r\"[0-9]\", \"digit\", string)\n",
    "    string = re.sub(r\"\\'\", \"\", string)    \n",
    "    string = re.sub(r\"\\\"\", \"\", string)    \n",
    "    return string.strip().lower()\n",
    "X = []\n",
    "for i in range(df.shape[0]):\n",
    "    X.append(clean_str(df.iloc[i][1]))\n",
    "y = np.array(df[\"category_id\"])"
   ]
  },
  {
   "cell_type": "code",
   "execution_count": 0,
   "metadata": {
    "colab": {},
    "colab_type": "code",
    "id": "1FhA4J8lvM-e",
    "outputId": "80c0d435-71e4-4a98-ad7a-4d56496c996a"
   },
   "outputs": [
    {
     "data": {
      "text/plain": [
       "array([0, 1, 2, 1, 1, 1, 0, 0, 0, 0, 0, 0, 2, 2, 2, 0, 0, 0, 0, 0, 0, 1,\n",
       "       1, 1, 2, 0, 1, 0, 1, 0, 0, 0, 1, 1, 1, 1, 1, 2, 2, 0, 1, 1, 0, 1,\n",
       "       1, 0, 1, 1, 0, 0, 0, 0, 0, 0, 0, 0, 0, 0, 0, 1, 2, 0, 0, 0, 0, 1,\n",
       "       0, 0, 0, 0, 0, 0, 0, 0, 0, 0, 0, 1, 0, 1, 0, 0, 0, 0, 0, 0, 0, 0,\n",
       "       0, 0, 2, 2, 2, 1, 1, 0, 0, 1, 0, 1, 1, 1, 0, 0, 0, 1, 0, 0, 0, 0,\n",
       "       0, 0, 0, 1, 2, 0, 0, 1, 0, 0, 0, 0, 0, 0, 0, 0, 0, 0, 0, 0, 0, 0,\n",
       "       0, 0, 0, 0, 0, 0, 0, 0, 0, 0, 0, 0, 0, 0, 0, 0, 2, 0, 0, 0, 0, 0,\n",
       "       0, 0, 0, 0, 1, 0, 0, 0, 0, 0, 0, 2, 2, 2, 0, 1, 0, 2, 0, 2, 0, 0,\n",
       "       0, 0, 0, 0, 0, 2, 0, 0, 0, 0, 0, 0, 0, 0, 0, 0, 0, 1, 0, 0, 1, 0,\n",
       "       0, 1, 1, 1, 0, 0, 1, 1, 2, 2, 0, 0, 1, 1, 0, 0, 0, 0, 0, 0, 0, 0,\n",
       "       0, 0, 0, 0], dtype=int64)"
      ]
     },
     "execution_count": 18,
     "metadata": {
      "tags": []
     },
     "output_type": "execute_result"
    }
   ],
   "source": [
    "y"
   ]
  },
  {
   "cell_type": "code",
   "execution_count": 0,
   "metadata": {
    "colab": {},
    "colab_type": "code",
    "id": "IXeTaCiuvM-j",
    "outputId": "81c49b89-2504-4135-a231-97030b806d1f"
   },
   "outputs": [
    {
     "data": {
      "text/plain": [
       "(224, 2190)"
      ]
     },
     "execution_count": 26,
     "metadata": {
      "tags": []
     },
     "output_type": "execute_result"
    }
   ],
   "source": [
    "from sklearn.feature_extraction.text import TfidfVectorizer\n",
    "\n",
    "tfidf = TfidfVectorizer(sublinear_tf=True, min_df=5, norm='l2', encoding='latin-1', ngram_range=(1, 2), stop_words='english')\n",
    "\n",
    "features = tfidf.fit_transform(X).toarray()\n",
    "labels = df.category_id\n",
    "features.shape"
   ]
  },
  {
   "cell_type": "code",
   "execution_count": 0,
   "metadata": {
    "colab": {},
    "colab_type": "code",
    "id": "w8F_ilhVvM-n",
    "outputId": "90f3d963-bad6-418e-c0d5-e7645a877b1e"
   },
   "outputs": [
    {
     "data": {
      "text/html": [
       "<div>\n",
       "<style scoped>\n",
       "    .dataframe tbody tr th:only-of-type {\n",
       "        vertical-align: middle;\n",
       "    }\n",
       "\n",
       "    .dataframe tbody tr th {\n",
       "        vertical-align: top;\n",
       "    }\n",
       "\n",
       "    .dataframe thead th {\n",
       "        text-align: right;\n",
       "    }\n",
       "</style>\n",
       "<table border=\"1\" class=\"dataframe\">\n",
       "  <thead>\n",
       "    <tr style=\"text-align: right;\">\n",
       "      <th></th>\n",
       "      <th>target_variable</th>\n",
       "      <th>new_strategy_extracted</th>\n",
       "      <th>category_id</th>\n",
       "    </tr>\n",
       "  </thead>\n",
       "  <tbody>\n",
       "    <tr>\n",
       "      <th>0</th>\n",
       "      <td>Medium Risk</td>\n",
       "      <td>The Fund seeks to track the investment results...</td>\n",
       "      <td>0</td>\n",
       "    </tr>\n",
       "    <tr>\n",
       "      <th>1</th>\n",
       "      <td>High Risk</td>\n",
       "      <td>The Fund seeks to track the investment results...</td>\n",
       "      <td>1</td>\n",
       "    </tr>\n",
       "    <tr>\n",
       "      <th>2</th>\n",
       "      <td>Low Risk</td>\n",
       "      <td>The Adviser invests the fund's assets in U.S. ...</td>\n",
       "      <td>2</td>\n",
       "    </tr>\n",
       "    <tr>\n",
       "      <th>3</th>\n",
       "      <td>High Risk</td>\n",
       "      <td>The Fund seeks to track the investment resul...</td>\n",
       "      <td>1</td>\n",
       "    </tr>\n",
       "    <tr>\n",
       "      <th>4</th>\n",
       "      <td>High Risk</td>\n",
       "      <td>The Fund seeks to track the investment results...</td>\n",
       "      <td>1</td>\n",
       "    </tr>\n",
       "  </tbody>\n",
       "</table>\n",
       "</div>"
      ],
      "text/plain": [
       "  target_variable                             new_strategy_extracted  \\\n",
       "0     Medium Risk  The Fund seeks to track the investment results...   \n",
       "1       High Risk  The Fund seeks to track the investment results...   \n",
       "2        Low Risk  The Adviser invests the fund's assets in U.S. ...   \n",
       "3       High Risk    The Fund seeks to track the investment resul...   \n",
       "4       High Risk  The Fund seeks to track the investment results...   \n",
       "\n",
       "   category_id  \n",
       "0            0  \n",
       "1            1  \n",
       "2            2  \n",
       "3            1  \n",
       "4            1  "
      ]
     },
     "execution_count": 27,
     "metadata": {
      "tags": []
     },
     "output_type": "execute_result"
    }
   ],
   "source": [
    "df.head()"
   ]
  },
  {
   "cell_type": "markdown",
   "metadata": {
    "colab_type": "text",
    "id": "i1-EGY_bvM-t"
   },
   "source": [
    "## Data Modeling "
   ]
  },
  {
   "cell_type": "code",
   "execution_count": 0,
   "metadata": {
    "colab": {},
    "colab_type": "code",
    "id": "vOtAbrsqvM-u"
   },
   "outputs": [],
   "source": [
    "\n",
    "X_train, X_test, y_train, y_test = train_test_split(X, df['target_variable'], random_state = 0)\n",
    "count_vect = CountVectorizer()\n",
    "X_train_counts = count_vect.fit_transform(X_train)\n",
    "tfidf_transformer = TfidfTransformer()\n",
    "X_train_tfidf = tfidf_transformer.fit_transform(X_train_counts)\n",
    "\n",
    "clf = MultinomialNB().fit(X_train_tfidf, y_train)"
   ]
  },
  {
   "cell_type": "code",
   "execution_count": 0,
   "metadata": {
    "colab": {},
    "colab_type": "code",
    "id": "QImhgOnFvM-y",
    "outputId": "3a28f3e2-ce24-4fd4-c7ef-18688bda2242"
   },
   "outputs": [
    {
     "name": "stdout",
     "output_type": "stream",
     "text": [
      "['Medium Risk']\n"
     ]
    }
   ],
   "source": [
    "print(clf.predict(count_vect.transform(['''\n",
    "The Fund seeks to track the investment results of the MSCI Emerging Markets ex China Index (the “Underlying Index”), which is designed to measure equity market performance in global emerging markets (with the exception of China). The Underlying Index is a free float-adjusted market capitalization weighted index that captures large- and mid-capitalization stocks across 23 of the 24 Emerging Markets countries (as defined by MSCI Inc. (the “Index Provider” or “MSCI”)), excluding China. The Underlying Index covers approximately 85% of the free float-adjusted market capitalization of each\n",
    "of the following countries: Brazil, Chile, Colombia, Czechia, Egypt, Greece, Hungary, India, Indonesia, Malaysia, Mexico, Pakistan, Peru, the Philippines, Poland, Qatar, Russia, South Africa, South Korea, Taiwan, Thailand, Turkey and the United Arab Emirates. As of August 31, 2018, a significant portion of the Underlying Index is represented by securities of companies in the financials and information technology industries or sectors. The components of the Underlying Index are likely to change over time.\n",
    "Currently, the Fund achieves its investment objective by investing all or a portion of its assets that are invested in India through one or more iShares exchange-traded funds (each an “ETF” or an “Underlying Fund”). However, BFA is not required to invest any portion, or any particular percentage, of the Fund’s assets in an Underlying Fund.\n",
    "BFA uses a “passive” or indexing approach to try to achieve the Fund’s investment objective. Unlike many investment companies, the Fund does not try to “beat” the index it tracks and does not seek temporary defensive positions when markets decline or appear overvalued.\n",
    "Indexing may eliminate the chance that the Fund will substantially outperform the Underlying Index but also may reduce some of the risks of active management, such as poor security selection. Indexing seeks to achieve lower costs and better after-tax performance by keeping portfolio turnover low in comparison to actively managed investment companies.\n",
    "BFA uses a representative sampling indexing strategy to manage the Fund. “Representative sampling” is an indexing strategy that involves investing in a representative sample of securities that collectively has an investment profile similar to that of an applicable underlying index. The securities selected are expected to have, in the aggregate, investment characteristics (based on factors such as market capitalization and industry weightings), fundamental characteristics (such as return variability and yield) and liquidity measures similar to those of an applicable underlying index. The Fund may or may not hold all of the securities in the Underlying Index.\n",
    "The Fund generally will invest at least 90% of its assets in the component securities (including indirect investments through an Underlying Fund) of the Underlying Index and may invest up to 10% of its assets in certain futures, options and swap contracts, cash and cash equivalents, including shares of money market funds advised by BFA or its affiliates, as well as in securities not included in the Underlying Index, but which BFA believes will help the Fund track the Underlying Index.\n",
    "The Underlying Fund holds Indian securities through a wholly-owned subsidiary located in the Republic of Mauritius (the “Subsidiary”). BFA serves as investment adviser to the Fund, each Underlying Fund and the Subsidiary. Unless otherwise indicated, the term “Fund” as used in this Prospectus\n",
    "means the Fund, Underlying Fund and/or the Subsidiary, as applicable. The Fund seeks to track the investment results of the Underlying Index before fees and expenses of the Fund.\n",
    "The Fund may lend securities representing up to one-third of the value of the Fund's total assets (including the value of any collateral received).\n",
    "The Underlying Index is sponsored by MSCI, which is independent of the Fund and BFA. The Index Provider determines the composition and relative weightings of the securities in the Underlying Index and publishes information regarding the market value of the Underlying Index\"\n",
    "'''])))"
   ]
  },
  {
   "cell_type": "code",
   "execution_count": 0,
   "metadata": {
    "colab": {},
    "colab_type": "code",
    "id": "92LYeaWhvM-6",
    "outputId": "5f634af1-43e8-44ac-faac-07813651809c"
   },
   "outputs": [
    {
     "data": {
      "text/html": [
       "<div>\n",
       "<style scoped>\n",
       "    .dataframe tbody tr th:only-of-type {\n",
       "        vertical-align: middle;\n",
       "    }\n",
       "\n",
       "    .dataframe tbody tr th {\n",
       "        vertical-align: top;\n",
       "    }\n",
       "\n",
       "    .dataframe thead th {\n",
       "        text-align: right;\n",
       "    }\n",
       "</style>\n",
       "<table border=\"1\" class=\"dataframe\">\n",
       "  <thead>\n",
       "    <tr style=\"text-align: right;\">\n",
       "      <th></th>\n",
       "      <th>target_variable</th>\n",
       "      <th>new_strategy_extracted</th>\n",
       "      <th>category_id</th>\n",
       "    </tr>\n",
       "  </thead>\n",
       "  <tbody>\n",
       "    <tr>\n",
       "      <th>93</th>\n",
       "      <td>High Risk</td>\n",
       "      <td>The Adviser normally invests at least 80% of t...</td>\n",
       "      <td>1</td>\n",
       "    </tr>\n",
       "    <tr>\n",
       "      <th>94</th>\n",
       "      <td>High Risk</td>\n",
       "      <td>The Adviser normally invests at least 80% of t...</td>\n",
       "      <td>1</td>\n",
       "    </tr>\n",
       "  </tbody>\n",
       "</table>\n",
       "</div>"
      ],
      "text/plain": [
       "   target_variable                             new_strategy_extracted  \\\n",
       "93       High Risk  The Adviser normally invests at least 80% of t...   \n",
       "94       High Risk  The Adviser normally invests at least 80% of t...   \n",
       "\n",
       "    category_id  \n",
       "93            1  \n",
       "94            1  "
      ]
     },
     "execution_count": 30,
     "metadata": {
      "tags": []
     },
     "output_type": "execute_result"
    }
   ],
   "source": [
    "df[df['new_strategy_extracted'] == '''The Adviser normally invests at least 80% of the fund's assets in convertible securities. Convertible securities are often lower-quality debt securities (those of less than investment-grade quality, also referred to as high yield debt securities or junk bonds). The Adviser may also invest the fund's assets in other types of securities, including common stocks.\n",
    "\n",
    "The Adviser may invest the fund's assets in securities of foreign issuers in addition to securities of domestic issuers.\n",
    "\n",
    "In buying and selling securities for the fund, the Adviser relies on fundamental analysis, which involves a bottom-up assessment of a company's potential for success in light of factors including its financial condition, earnings outlook, strategy, management, industry position, and economic and market conditions.\n",
    "\n",
    "In addition to the principal investment strategies discussed above, the Adviser may lend the fund's securities to broker-dealers or other institutions to earn income for the fund.\n",
    "\n",
    "The Adviser may also use various techniques, such as buying and selling futures contracts and exchange traded funds, to increase or decrease the fund's exposure to changing security prices or other factors that affect security values.\n",
    "\n",
    "If the Adviser's strategies do not work as intended, the fund may not achieve its objective.''']"
   ]
  },
  {
   "cell_type": "code",
   "execution_count": 0,
   "metadata": {
    "colab": {},
    "colab_type": "code",
    "id": "G1JkcGMJvM_A"
   },
   "outputs": [],
   "source": [
    "from sklearn.model_selection import cross_val_score\n",
    "\n",
    "models = [\n",
    "    RandomForestClassifier(n_estimators=200, max_depth=3, random_state=0),\n",
    "    LinearSVC(),\n",
    "    MultinomialNB(),\n",
    "    LogisticRegression(random_state=0),\n",
    "    MLPClassifier(alpha=0.7, max_iter=600)\n",
    "]\n",
    "CV = 5\n",
    "cv_df = pd.DataFrame(index=range(CV * len(models)))\n",
    "entries = []\n",
    "for model in models:\n",
    "  model_name = model.__class__.__name__\n",
    "  accuracies = cross_val_score(model, features, labels, scoring='accuracy', cv=CV)\n",
    "  for fold_idx, accuracy in enumerate(accuracies):\n",
    "    entries.append((model_name, fold_idx, accuracy))\n",
    "cv_df = pd.DataFrame(entries, columns=['model_name', 'fold_idx', 'accuracy'])"
   ]
  },
  {
   "cell_type": "code",
   "execution_count": 0,
   "metadata": {
    "colab": {},
    "colab_type": "code",
    "id": "WAmOesrBvM_E",
    "outputId": "d8aedefd-acc5-4772-f6e9-6b01a6d9a840"
   },
   "outputs": [
    {
     "data": {
      "image/png": "[encoded data removed]",
      "text/plain": [
       "<Figure size 720x504 with 1 Axes>"
      ]
     },
     "metadata": {
      "needs_background": "light",
      "tags": []
     },
     "output_type": "display_data"
    }
   ],
   "source": [
    "import seaborn as sns\n",
    "%matplotlib inline\n",
    "plt.figure(figsize = (10,7))\n",
    "sns.boxplot(x='model_name', y='accuracy', data=cv_df)\n",
    "sns.stripplot(x='model_name', y='accuracy', data=cv_df, \n",
    "              size=8, jitter=True, edgecolor=\"gray\", linewidth=2)\n",
    "plt.show()"
   ]
  },
  {
   "cell_type": "code",
   "execution_count": 0,
   "metadata": {
    "colab": {},
    "colab_type": "code",
    "id": "R56w5UyyvM_I",
    "outputId": "37a94c94-8dfb-473c-da0d-6822f119df7d"
   },
   "outputs": [
    {
     "data": {
      "text/html": [
       "<div>\n",
       "<style scoped>\n",
       "    .dataframe tbody tr th:only-of-type {\n",
       "        vertical-align: middle;\n",
       "    }\n",
       "\n",
       "    .dataframe tbody tr th {\n",
       "        vertical-align: top;\n",
       "    }\n",
       "\n",
       "    .dataframe thead th {\n",
       "        text-align: right;\n",
       "    }\n",
       "</style>\n",
       "<table border=\"1\" class=\"dataframe\">\n",
       "  <thead>\n",
       "    <tr style=\"text-align: right;\">\n",
       "      <th></th>\n",
       "      <th>model_name</th>\n",
       "      <th>accuracy</th>\n",
       "    </tr>\n",
       "  </thead>\n",
       "  <tbody>\n",
       "    <tr>\n",
       "      <th>0</th>\n",
       "      <td>LinearSVC</td>\n",
       "      <td>0.773666</td>\n",
       "    </tr>\n",
       "    <tr>\n",
       "      <th>1</th>\n",
       "      <td>LogisticRegression</td>\n",
       "      <td>0.723330</td>\n",
       "    </tr>\n",
       "    <tr>\n",
       "      <th>2</th>\n",
       "      <td>MLPClassifier</td>\n",
       "      <td>0.791444</td>\n",
       "    </tr>\n",
       "    <tr>\n",
       "      <th>3</th>\n",
       "      <td>MultinomialNB</td>\n",
       "      <td>0.697380</td>\n",
       "    </tr>\n",
       "    <tr>\n",
       "      <th>4</th>\n",
       "      <td>RandomForestClassifier</td>\n",
       "      <td>0.705649</td>\n",
       "    </tr>\n",
       "  </tbody>\n",
       "</table>\n",
       "</div>"
      ],
      "text/plain": [
       "               model_name  accuracy\n",
       "0               LinearSVC  0.773666\n",
       "1      LogisticRegression  0.723330\n",
       "2           MLPClassifier  0.791444\n",
       "3           MultinomialNB  0.697380\n",
       "4  RandomForestClassifier  0.705649"
      ]
     },
     "execution_count": 34,
     "metadata": {
      "tags": []
     },
     "output_type": "execute_result"
    }
   ],
   "source": [
    "df1 = cv_df.groupby('model_name').accuracy.mean()\n",
    "df2 = df1.to_frame().reset_index()\n",
    "df2"
   ]
  },
  {
   "cell_type": "code",
   "execution_count": 0,
   "metadata": {
    "colab": {},
    "colab_type": "code",
    "id": "OgUt74uBvM_M"
   },
   "outputs": [],
   "source": [
    "from sklearn.model_selection import train_test_split\n",
    "\n",
    "model = MLPClassifier(alpha=0.7, max_iter=600)\n",
    "\n",
    "X_train, X_test, y_train, y_test, indices_train, indices_test = train_test_split(features, labels, df.index, test_size=0.33, random_state=0)\n",
    "model.fit(X_train, y_train)\n",
    "y_pred = model.predict(X_test)"
   ]
  },
  {
   "cell_type": "code",
   "execution_count": 0,
   "metadata": {
    "colab": {},
    "colab_type": "code",
    "id": "S2DnqzlNvM_P",
    "outputId": "ed4fe12c-7041-4766-8cb8-fe1200828ef7"
   },
   "outputs": [
    {
     "data": {
      "image/png": "[encoded data removed]",
      "text/plain": [
       "<Figure size 576x432 with 2 Axes>"
      ]
     },
     "metadata": {
      "needs_background": "light",
      "tags": []
     },
     "output_type": "display_data"
    }
   ],
   "source": [
    "from sklearn.metrics import confusion_matrix\n",
    "\n",
    "conf_mat = confusion_matrix(y_test, y_pred)\n",
    "fig, ax = plt.subplots(figsize=(8,6))\n",
    "sns.heatmap(conf_mat, annot=True, fmt='d',\n",
    "            xticklabels=category_id_df.target_variable.values, yticklabels=category_id_df.target_variable.values)\n",
    "plt.ylabel('Actual')\n",
    "plt.xlabel('Predicted')\n",
    "plt.show()"
   ]
  },
  {
   "cell_type": "code",
   "execution_count": 0,
   "metadata": {
    "colab": {},
    "colab_type": "code",
    "id": "rg11ilZbvM_T",
    "outputId": "26cd1d06-c671-4ab8-ecda-1038767d6b56"
   },
   "outputs": [
    {
     "name": "stdout",
     "output_type": "stream",
     "text": [
      "'High Risk' predicted as 'Medium Risk' : 6 examples.\n"
     ]
    },
    {
     "data": {
      "text/html": [
       "<div>\n",
       "<style scoped>\n",
       "    .dataframe tbody tr th:only-of-type {\n",
       "        vertical-align: middle;\n",
       "    }\n",
       "\n",
       "    .dataframe tbody tr th {\n",
       "        vertical-align: top;\n",
       "    }\n",
       "\n",
       "    .dataframe thead th {\n",
       "        text-align: right;\n",
       "    }\n",
       "</style>\n",
       "<table border=\"1\" class=\"dataframe\">\n",
       "  <thead>\n",
       "    <tr style=\"text-align: right;\">\n",
       "      <th></th>\n",
       "      <th>target_variable</th>\n",
       "      <th>new_strategy_extracted</th>\n",
       "    </tr>\n",
       "  </thead>\n",
       "  <tbody>\n",
       "    <tr>\n",
       "      <th>169</th>\n",
       "      <td>High Risk</td>\n",
       "      <td>The Fund seeks to track the investment results...</td>\n",
       "    </tr>\n",
       "    <tr>\n",
       "      <th>44</th>\n",
       "      <td>High Risk</td>\n",
       "      <td>The Fund seeks to track the investment results...</td>\n",
       "    </tr>\n",
       "    <tr>\n",
       "      <th>201</th>\n",
       "      <td>High Risk</td>\n",
       "      <td>The Fund seeks to track the investment results...</td>\n",
       "    </tr>\n",
       "    <tr>\n",
       "      <th>196</th>\n",
       "      <td>High Risk</td>\n",
       "      <td>The Fund seeks to track the investment results...</td>\n",
       "    </tr>\n",
       "    <tr>\n",
       "      <th>205</th>\n",
       "      <td>High Risk</td>\n",
       "      <td>The Fund seeks to track the investment results...</td>\n",
       "    </tr>\n",
       "    <tr>\n",
       "      <th>26</th>\n",
       "      <td>High Risk</td>\n",
       "      <td>The Fund seeks to track the investment results...</td>\n",
       "    </tr>\n",
       "  </tbody>\n",
       "</table>\n",
       "</div>"
      ],
      "text/plain": [
       "    target_variable                             new_strategy_extracted\n",
       "169       High Risk  The Fund seeks to track the investment results...\n",
       "44        High Risk  The Fund seeks to track the investment results...\n",
       "201       High Risk  The Fund seeks to track the investment results...\n",
       "196       High Risk  The Fund seeks to track the investment results...\n",
       "205       High Risk  The Fund seeks to track the investment results...\n",
       "26        High Risk  The Fund seeks to track the investment results..."
      ]
     },
     "metadata": {
      "tags": []
     },
     "output_type": "display_data"
    },
    {
     "name": "stdout",
     "output_type": "stream",
     "text": [
      "\n"
     ]
    }
   ],
   "source": [
    "from IPython.display import display\n",
    "\n",
    "for predicted in category_id_df.category_id:\n",
    "  for actual in category_id_df.category_id:\n",
    "    if predicted != actual and conf_mat[actual, predicted] >= 6:\n",
    "      print(\"'{}' predicted as '{}' : {} examples.\".format(id_to_category[actual], id_to_category[predicted], conf_mat[actual, predicted]))\n",
    "      display(df.loc[indices_test[(y_test == actual) & (y_pred == predicted)]][['target_variable', 'new_strategy_extracted']])\n",
    "      print('')"
   ]
  },
  {
   "cell_type": "code",
   "execution_count": 0,
   "metadata": {
    "colab": {},
    "colab_type": "code",
    "id": "H-nBr1WVvM_Z",
    "outputId": "f3b8b018-549c-4486-b098-cefa72f51902"
   },
   "outputs": [
    {
     "data": {
      "text/plain": [
       "MLPClassifier(activation='relu', alpha=0.7, batch_size='auto', beta_1=0.9,\n",
       "       beta_2=0.999, early_stopping=False, epsilon=1e-08,\n",
       "       hidden_layer_sizes=(100,), learning_rate='constant',\n",
       "       learning_rate_init=0.001, max_iter=600, momentum=0.9,\n",
       "       n_iter_no_change=10, nesterovs_momentum=True, power_t=0.5,\n",
       "       random_state=None, shuffle=True, solver='adam', tol=0.0001,\n",
       "       validation_fraction=0.1, verbose=False, warm_start=False)"
      ]
     },
     "execution_count": 38,
     "metadata": {
      "tags": []
     },
     "output_type": "execute_result"
    }
   ],
   "source": [
    "model.fit(features, labels)"
   ]
  },
  {
   "cell_type": "markdown",
   "metadata": {
    "colab_type": "text",
    "id": "JhqH1D_zvM_d"
   },
   "source": [
    "### Classification Report "
   ]
  },
  {
   "cell_type": "code",
   "execution_count": 0,
   "metadata": {
    "colab": {},
    "colab_type": "code",
    "id": "vhnPzF0xvM_f",
    "outputId": "73431e4f-fe87-438c-d9ba-aecef7e33187"
   },
   "outputs": [
    {
     "name": "stdout",
     "output_type": "stream",
     "text": [
      "              precision    recall  f1-score   support\n",
      "\n",
      " Medium Risk       0.81      0.94      0.87        50\n",
      "   High Risk       0.73      0.57      0.64        14\n",
      "    Low Risk       1.00      0.50      0.67        10\n",
      "\n",
      "   micro avg       0.81      0.81      0.81        74\n",
      "   macro avg       0.85      0.67      0.73        74\n",
      "weighted avg       0.82      0.81      0.80        74\n",
      "\n"
     ]
    }
   ],
   "source": [
    "from sklearn import metrics\n",
    "print(metrics.classification_report(y_test, y_pred, \n",
    "                                    target_names=df['target_variable'].unique()))"
   ]
  },
  {
   "cell_type": "code",
   "execution_count": 0,
   "metadata": {
    "colab": {},
    "colab_type": "code",
    "id": "Zmx8C_tsvM_m",
    "outputId": "17636051-4e4f-4b71-ee7c-4d59fefefc9e"
   },
   "outputs": [
    {
     "name": "stdout",
     "output_type": "stream",
     "text": [
      "Mean Accuracy: 0.7869992135715088\n"
     ]
    }
   ],
   "source": [
    "cv_accuracy = cross_val_score(model, features, labels,cv=5)\n",
    "print(\"Mean Accuracy: {}\".format(np.mean(cv_accuracy)))"
   ]
  },
  {
   "cell_type": "markdown",
   "metadata": {
    "colab_type": "text",
    "id": "N5jyZxBsvM_q"
   },
   "source": [
    "#### MLP Classifier is the best model for the given dataset with highest accuracy of 79%"
   ]
  },
  {
   "cell_type": "code",
   "execution_count": 0,
   "metadata": {
    "colab": {},
    "colab_type": "code",
    "id": "LVyNdGn4vM_q"
   },
   "outputs": [],
   "source": []
  }
 ],
 "metadata": {
  "colab": {
   "include_colab_link": true,
   "name": "Text Classification.ipynb",
   "provenance": [],
   "version": "0.3.2"
  },
  "kernelspec": {
   "display_name": "Python 3",
   "language": "python",
   "name": "python3"
  },
  "language_info": {
   "codemirror_mode": {
    "name": "ipython",
    "version": 3
   },
   "file_extension": ".py",
   "mimetype": "text/x-python",
   "name": "python",
   "nbconvert_exporter": "python",
   "pygments_lexer": "ipython3",
   "version": "3.6.4"
  }
 },
 "nbformat": 4,
 "nbformat_minor": 1
}
