{
 "cells": [
  {
   "cell_type": "markdown",
   "metadata": {
    "colab_type": "text",
    "id": "view-in-github"
   },
   "source": [
    "<a href=\"https://colab.research.google.com/github/jimmyshah83/deep_learning/blob/master/Text_Summarization.ipynb\" target=\"_parent\"><img src=\"https://colab.research.google.com/assets/colab-badge.svg\" alt=\"Open In Colab\"/></a>"
   ]
  },
  {
   "cell_type": "markdown",
   "metadata": {},
   "source": [
    "## Text Summarization - Deep Learnning\n",
    "\n",
    "#### Performing text summarization on iShares data to summarize important points in mutual fund prospectus blob. This is highly useful for fund managers to minimize the text size of a prospectus to a few paragraphs rather than a few pages."
   ]
  },
  {
   "cell_type": "markdown",
   "metadata": {
    "colab_type": "text",
    "id": "D_BUhnNCvdQM"
   },
   "source": [
    "# Importing Libraries"
   ]
  },
  {
   "cell_type": "code",
   "execution_count": 0,
   "metadata": {
    "colab": {},
    "colab_type": "code",
    "id": "ToHzO334vdQO"
   },
   "outputs": [],
   "source": [
    "import numpy as np\n",
    "import pandas as pd\n",
    "import nltk\n",
    "from nltk.tokenize import sent_tokenize\n",
    "import re\n",
    "from nltk.corpus import stopwords\n",
    "from nltk.cluster.util import cosine_distance\n",
    "import networkx as nx"
   ]
  },
  {
   "cell_type": "markdown",
   "metadata": {
    "colab_type": "text",
    "id": "KUP1Mm6yvdQS"
   },
   "source": [
    "# Loading Data"
   ]
  },
  {
   "cell_type": "code",
   "execution_count": 0,
   "metadata": {
    "colab": {},
    "colab_type": "code",
    "id": "DBipTjIXvdQT"
   },
   "outputs": [],
   "source": [
    "f = \"C:/Users/334461373/Downloads/projectdata/projectdata.xlsx\"\n",
    "\n",
    "file = pd.read_excel(f)\n",
    "data = file['new_strategy_extracted']\n"
   ]
  },
  {
   "cell_type": "code",
   "execution_count": 0,
   "metadata": {
    "colab": {},
    "colab_type": "code",
    "id": "ukrtWgBGvdQX"
   },
   "outputs": [],
   "source": [
    "def sentence_similarity(sent1, sent2, stopwords=None):\n",
    "    if stopwords is None:\n",
    "        stopwords = []\n",
    " \n",
    "    sent1 = [w.lower() for w in sent1]\n",
    "    sent2 = [w.lower() for w in sent2]\n",
    " \n",
    "    all_words = list(set(sent1 + sent2))\n",
    " \n",
    "    vector1 = [0] * len(all_words)\n",
    "    vector2 = [0] * len(all_words)\n",
    " \n",
    "    # build the vector for the first sentence\n",
    "    for w in sent1:\n",
    "        if w in stopwords:\n",
    "            continue\n",
    "        vector1[all_words.index(w)] += 1\n",
    " \n",
    "    # build the vector for the second sentence\n",
    "    for w in sent2:\n",
    "        if w in stopwords:\n",
    "            continue\n",
    "        vector2[all_words.index(w)] += 1\n",
    " \n",
    "    return 1 - cosine_distance(vector1, vector2)"
   ]
  },
  {
   "cell_type": "code",
   "execution_count": 0,
   "metadata": {
    "colab": {},
    "colab_type": "code",
    "id": "5YLADGFmvdQa"
   },
   "outputs": [],
   "source": [
    "def build_similarity_matrix(sentences, stop_words):\n",
    "    # Create an empty similarity matrix\n",
    "    similarity_matrix = np.zeros((len(sentences), len(sentences)))\n",
    " \n",
    "    for idx1 in range(len(sentences)):\n",
    "        for idx2 in range(len(sentences)):\n",
    "            if idx1 == idx2: #ignore if both are same sentences\n",
    "                continue \n",
    "            similarity_matrix[idx1][idx2] = sentence_similarity(sentences[idx1], sentences[idx2], stop_words)\n",
    "\n",
    "    return similarity_matrix"
   ]
  },
  {
   "cell_type": "code",
   "execution_count": 0,
   "metadata": {
    "colab": {},
    "colab_type": "code",
    "id": "H3kuOV2dvdQd"
   },
   "outputs": [],
   "source": [
    "def generate_summary(article_text):\n",
    "    stop_words = stopwords.words('english')\n",
    "    summarize_text = []\n",
    "    \n",
    "    article = article_text.split(\". \")\n",
    "    sentences = []\n",
    "\n",
    "    for sentence in article:\n",
    "        #print(sentence)\n",
    "        sentences.append(sentence.replace(\"[^a-zA-Z]\", \" \").split(\" \"))\n",
    "    \n",
    "    # Step 2 - Generate Similary Martix across sentences\n",
    "    sentence_similarity_martix = build_similarity_matrix(sentences, stop_words)\n",
    "\n",
    "    # Step 3 - Rank sentences in similarity martix\n",
    "    sentence_similarity_graph = nx.from_numpy_array(sentence_similarity_martix)\n",
    "    scores = nx.pagerank(sentence_similarity_graph)\n",
    "\n",
    "    # Step 4 - Sort the rank and pick top sentences\n",
    "    ranked_sentence = sorted(((scores[i],s) for i,s in enumerate(sentences)), reverse=True)    \n",
    "    #print(\"Indexes of top ranked_sentence order are \", ranked_sentence)    \n",
    "\n",
    "    for i in range(4):\n",
    "        summarize_text.append(\" \".join(ranked_sentence[i][1]))\n",
    "\n",
    "    # Step 5 - Offcourse, output the summarize texr\n",
    "    summary=  \". \".join(summarize_text)\n",
    "    return summary;"
   ]
  },
  {
   "cell_type": "code",
   "execution_count": 0,
   "metadata": {
    "colab": {},
    "colab_type": "code",
    "id": "GFuxbkUUvdQh",
    "outputId": "e04c0ea1-d40b-4c7e-fe1e-efb5a23ef4e2"
   },
   "outputs": [
    {
     "name": "stdout",
     "output_type": "stream",
     "text": [
      "The Fund seeks to track the investment results of the MSCI Germany Index (the “Underlying Index”), which consists of stocks traded primarily on the Frankfurt Stock Exchange. The Underlying Index may include large-, mid- or small-capitalization companies. Components of the Underlying Index primarily include consumer discretionary, financials and healthcare companies. The components of the Underlying Index, and the degree to which these components represent certain industries, are likely to change over time.\n",
      "BFA uses a “passive” or indexing approach to try to achieve the Fund’s investment objective. Unlike many investment companies, the Fund does not try to “beat” the index it tracks and does not seek temporary defensive positions when markets decline or appear overvalued.\n",
      "Indexing may eliminate the chance that the Fund will substantially outperform the Underlying Index but also may reduce some of the risks of active management, such as poor security selection. Indexing seeks to achieve\n",
      "lower costs and better after-tax performance by keeping portfolio turnover low in comparison to actively managed investment companies.\n",
      "BFA uses a representative sampling indexing strategy to manage the Fund. “Representative sampling” is an indexing strategy that involves investing in a representative sample of securities that collectively has an investment profile similar to that of an applicable underlying index. The securities selected are expected to have, in the aggregate, investment characteristics (based on factors such as market capitalization and industry weightings), fundamental characteristics (such as return variability and yield) and liquidity measures similar to those of an applicable underlying index. The Fund may or may not hold all of the securities in an applicable underlying index.\n",
      "The Fund will at all times invest at least 80% of its assets in the securities of its Underlying Index and in depositary receipts representing securities in its Underlying Index. The Fund may invest the remainder of its assets in other securities, including securities not in the Underlying Index, but which BFA believes will help the Fund track the Underlying Index, and in other investments, including futures contracts, options on futures contracts, other types of options and swaps related to its Underlying Index, as well as cash and cash equivalents, including shares of money market funds advised by BFA or its affiliates. The Fund seeks to track the investment results of the Underlying Index before fees and expenses of the Fund.\n",
      "The Fund may lend securities representing up to one-third of the value of the Fund's total assets (including the value of any collateral received).\n",
      "The Underlying Index is sponsored by MSCI Inc. (the “Index Provider” or “MSCI”), which is independent of the Fund and BFA. The Index Provider determines the composition and relative weightings of the securities in the Underlying Index and publishes information regarding the market value of the Underlying Index.\n"
     ]
    }
   ],
   "source": [
    "# Actual Text \n",
    "print(data[0])"
   ]
  },
  {
   "cell_type": "code",
   "execution_count": 0,
   "metadata": {
    "colab": {},
    "colab_type": "code",
    "id": "LHWIrXKTvdQn",
    "outputId": "dc1cbb4a-08ed-4ed5-b5ed-e5fda645c20b"
   },
   "outputs": [
    {
     "name": "stdout",
     "output_type": "stream",
     "text": [
      "The Fund may or may not hold all of the securities in an applicable underlying index.\n",
      "The Fund will at all times invest at least 80% of its assets in the securities of its Underlying Index and in depositary receipts representing securities in its Underlying Index. The Fund seeks to track the investment results of the Underlying Index before fees and expenses of the Fund.\n",
      "The Fund may lend securities representing up to one-third of the value of the Fund's total assets (including the value of any collateral received).\n",
      "The Underlying Index is sponsored by MSCI Inc. The Index Provider determines the composition and relative weightings of the securities in the Underlying Index and publishes information regarding the market value of the Underlying Index.. “Representative sampling” is an indexing strategy that involves investing in a representative sample of securities that collectively has an investment profile similar to that of an applicable underlying index\n"
     ]
    }
   ],
   "source": [
    "# Summarized Text\n",
    "Output = generate_summary(data[0])\n",
    "print(Output)"
   ]
  },
  {
   "cell_type": "code",
   "execution_count": 0,
   "metadata": {
    "colab": {},
    "colab_type": "code",
    "id": "FPiMhWYPvdQr"
   },
   "outputs": [],
   "source": []
  }
 ],
 "metadata": {
  "colab": {
   "include_colab_link": true,
   "name": "Text Summarization.ipynb",
   "provenance": [],
   "version": "0.3.2"
  },
  "kernelspec": {
   "display_name": "Python 3",
   "language": "python",
   "name": "python3"
  },
  "language_info": {
   "codemirror_mode": {
    "name": "ipython",
    "version": 3
   },
   "file_extension": ".py",
   "mimetype": "text/x-python",
   "name": "python",
   "nbconvert_exporter": "python",
   "pygments_lexer": "ipython3",
   "version": "3.6.4"
  }
 },
 "nbformat": 4,
 "nbformat_minor": 1
}
