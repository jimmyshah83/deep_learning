{
 "cells": [
  {
   "cell_type": "markdown",
   "id": "5c6715b2",
   "metadata": {},
   "source": [
    "[Gradient Descent](https://www.kaggle.com/code/jhoward/how-does-a-neural-net-really-work/notebook)"
   ]
  },
  {
   "cell_type": "code",
   "execution_count": null,
   "id": "bff06c48",
   "metadata": {},
   "outputs": [],
   "source": [
    "from fastai.basics import *\n",
    "import matplotlib as mpl\n",
    "import matplotlib.pyplot as plt\n",
    "import matplotlib.colors as mcolors\n",
    "\n",
    "plt.rc('figure', dpi=90)\n",
    "print('Matplotlib version:', mpl.__version__)\n",
    "print('Has mpl.colors:', hasattr(mpl,'colors'))\n",
    "\n",
    "def plot_function(f, title=None, min=-2.1, max=2.1, color='r', ylimit=None):\n",
    "    x = torch.linspace(min,max, 100)[:,None]\n",
    "    if ylimit: \n",
    "        plt.ylim(ylimit)\n",
    "    plt.plot(x, f(x), color)\n",
    "    if title is not None: \n",
    "        plt.title(title)"
   ]
  },
  {
   "cell_type": "markdown",
   "id": "487fbb25",
   "metadata": {},
   "source": []
  },
  {
   "cell_type": "code",
   "execution_count": null,
   "id": "a3be7058",
   "metadata": {},
   "outputs": [],
   "source": [
    "def f(x): return 3*x**2 + 2*x + 1\n",
    "\n",
    "plot_function(f=f, title=\"$3x^2 + 2x + 1$\")"
   ]
  },
  {
   "cell_type": "code",
   "execution_count": null,
   "id": "34f62e75",
   "metadata": {},
   "outputs": [],
   "source": [
    "def quad(a, b, c, x): return a*x**2 + b*x + c"
   ]
  },
  {
   "cell_type": "code",
   "execution_count": null,
   "id": "48d348e1",
   "metadata": {},
   "outputs": [],
   "source": [
    "def mk_quad(a,b,c): return partial(quad, a,b,c)"
   ]
  },
  {
   "cell_type": "code",
   "execution_count": null,
   "id": "5dfba758",
   "metadata": {},
   "outputs": [],
   "source": [
    "f2 = mk_quad(3,2,1)\n",
    "plot_function(f2)"
   ]
  },
  {
   "cell_type": "code",
   "execution_count": null,
   "id": "47699618",
   "metadata": {},
   "outputs": [],
   "source": [
    "def noise(x, scale): \n",
    "    return np.random.normal(scale=scale, size=x.shape)\n",
    "\n",
    "def add_noise(x, mult, add): \n",
    "    return x * (1+noise(x,mult)) + noise(x,add)"
   ]
  },
  {
   "cell_type": "code",
   "execution_count": null,
   "id": "c640b3dc",
   "metadata": {},
   "outputs": [],
   "source": [
    "np.random.seed(42)\n",
    "\n",
    "x = torch.linspace(start=-2, end=2, steps=20)[:,None]\n",
    "y = add_noise(f(x), 0.15, 1.5)"
   ]
  },
  {
   "cell_type": "code",
   "execution_count": null,
   "id": "530be6a5",
   "metadata": {},
   "outputs": [],
   "source": [
    "x[:5], y[:5]"
   ]
  },
  {
   "cell_type": "code",
   "execution_count": null,
   "id": "8b617049",
   "metadata": {},
   "outputs": [],
   "source": [
    "plt.scatter(x,y);"
   ]
  },
  {
   "cell_type": "code",
   "execution_count": null,
   "id": "a95246e8",
   "metadata": {},
   "outputs": [],
   "source": [
    "from ipywidgets import interact\n",
    "\n",
    "@interact(\n",
    "    a=(0.0,5.0,0.1),\n",
    "    b=(0.0,5.0,0.1),\n",
    "    c=(0.0,5.0,0.1)\n",
    ")\n",
    "def plot_quad(a=1.1, b=1.1, c=1.1):\n",
    "    plt.scatter(x,y)\n",
    "    plot_function(mk_quad(a,b,c), ylimit=(-3,13))"
   ]
  },
  {
   "cell_type": "code",
   "execution_count": null,
   "id": "b6c73932",
   "metadata": {},
   "outputs": [],
   "source": [
    "def mae(preds, acts): \n",
    "    return (torch.abs(preds-acts)).mean()"
   ]
  },
  {
   "cell_type": "code",
   "execution_count": null,
   "id": "3a701c8e",
   "metadata": {},
   "outputs": [],
   "source": [
    "@interact(a=1.1, b=1.1, c=1.1)\n",
    "def plot_quad(a, b, c):\n",
    "    f = mk_quad(a,b,c)\n",
    "    plt.scatter(x,y)\n",
    "    loss = mae(f(x), y)\n",
    "    plot_function(f, ylim=(-3,12), title=f\"MAE: {loss:.2f}\")"
   ]
  },
  {
   "cell_type": "markdown",
   "id": "a6025698",
   "metadata": {},
   "source": [
    "## Automating gradient descent"
   ]
  },
  {
   "cell_type": "code",
   "execution_count": null,
   "id": "f416cfd5",
   "metadata": {},
   "outputs": [],
   "source": [
    "def quad_mae(params):\n",
    "    f = mk_quad(*params)\n",
    "    return mae(f(x), y)"
   ]
  },
  {
   "cell_type": "code",
   "execution_count": null,
   "id": "c6a1e1f7",
   "metadata": {},
   "outputs": [],
   "source": [
    "quad_mae([1.1, 1.1, 1.1])"
   ]
  },
  {
   "cell_type": "code",
   "execution_count": null,
   "id": "89fb5568",
   "metadata": {},
   "outputs": [],
   "source": [
    "abc = torch.tensor([1.1,1.1,1.1])"
   ]
  },
  {
   "cell_type": "code",
   "execution_count": null,
   "id": "2e893efc",
   "metadata": {},
   "outputs": [],
   "source": [
    "abc.requires_grad_()"
   ]
  },
  {
   "cell_type": "code",
   "execution_count": null,
   "id": "0acd8507",
   "metadata": {},
   "outputs": [],
   "source": [
    "loss = quad_mae(abc)\n",
    "loss"
   ]
  },
  {
   "cell_type": "code",
   "execution_count": null,
   "id": "72c39233",
   "metadata": {},
   "outputs": [],
   "source": [
    "loss.backward()"
   ]
  },
  {
   "cell_type": "code",
   "execution_count": null,
   "id": "64457263",
   "metadata": {},
   "outputs": [],
   "source": [
    "abc.grad"
   ]
  },
  {
   "cell_type": "code",
   "execution_count": null,
   "id": "fb9bd2b1",
   "metadata": {},
   "outputs": [],
   "source": [
    "with torch.no_grad():\n",
    "    abc -= abc.grad*0.01\n",
    "    loss = quad_mae(abc)\n",
    "    \n",
    "print(f'loss={loss:.2f}')"
   ]
  },
  {
   "cell_type": "code",
   "execution_count": null,
   "id": "15b4deb2",
   "metadata": {},
   "outputs": [],
   "source": [
    "for i in range(10):\n",
    "    loss = quad_mae(abc)\n",
    "    loss.backward()\n",
    "    with torch.no_grad(): abc -= abc.grad*0.01\n",
    "    print(f'step={i}; loss={loss:.2f}')"
   ]
  }
 ],
 "metadata": {
  "kernelspec": {
   "display_name": ".venv",
   "language": "python",
   "name": "python3"
  },
  "language_info": {
   "codemirror_mode": {
    "name": "ipython",
    "version": 3
   },
   "file_extension": ".py",
   "mimetype": "text/x-python",
   "name": "python",
   "nbconvert_exporter": "python",
   "pygments_lexer": "ipython3",
   "version": "3.13.0"
  }
 },
 "nbformat": 4,
 "nbformat_minor": 5
}
