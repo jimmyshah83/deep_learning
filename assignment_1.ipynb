{
  "nbformat": 4,
  "nbformat_minor": 0,
  "metadata": {
    "colab": {
      "name": "Untitled2.ipynb",
      "version": "0.3.2",
      "provenance": [],
      "include_colab_link": true
    },
    "kernelspec": {
      "name": "python3",
      "display_name": "Python 3"
    }
  },
  "cells": [
    {
      "cell_type": "markdown",
      "metadata": {
        "id": "view-in-github",
        "colab_type": "text"
      },
      "source": [
        "<a href=\"https://colab.research.google.com/github/jimmyshah83/deep_learning/blob/master/assignment_1.ipynb\" target=\"_parent\"><img src=\"https://colab.research.google.com/assets/colab-badge.svg\" alt=\"Open In Colab\"/></a>"
      ]
    },
    {
      "metadata": {
        "id": "RbEVgwkuFght",
        "colab_type": "code",
        "colab": {
          "base_uri": "https://localhost:8080/",
          "height": 51
        },
        "outputId": "2f5cfb97-1fbf-4e4e-a146-b6c4b9513c54"
      },
      "cell_type": "code",
      "source": [
        "import tensorflow as tf\n",
        "from tensorflow.keras import layers\n",
        "\n",
        "print(tf.VERSION)\n",
        "print(tf.keras.__version__)"
      ],
      "execution_count": 1,
      "outputs": [
        {
          "output_type": "stream",
          "text": [
            "1.13.0-rc1\n",
            "2.2.4-tf\n"
          ],
          "name": "stdout"
        }
      ]
    },
    {
      "metadata": {
        "id": "yfMrhCufFmu4",
        "colab_type": "code",
        "colab": {
          "base_uri": "https://localhost:8080/",
          "height": 108
        },
        "outputId": "f7be6d4d-823e-49f6-bc95-f24b32de0e12"
      },
      "cell_type": "code",
      "source": [
        "model = tf.keras.Sequential([\n",
        "# Adds a densely-connected layer with 64 units to the model with shape of 10 units:\n",
        "layers.Dense(64, activation='relu', input_shape=(10,)),\n",
        "# Add another:\n",
        "layers.Dense(32, activation='sigmoid'),\n",
        "# Add another:\n",
        "layers.Dense(5, activation='relu', kernel_regularizer=tf.keras.regularizers.l2(0.01)),\n",
        "# Add a softmax layer with 10 output units:\n",
        "layers.Dense(3, activation='softmax')])"
      ],
      "execution_count": 2,
      "outputs": [
        {
          "output_type": "stream",
          "text": [
            "WARNING:tensorflow:From /usr/local/lib/python3.6/dist-packages/tensorflow/python/ops/resource_variable_ops.py:435: colocate_with (from tensorflow.python.framework.ops) is deprecated and will be removed in a future version.\n",
            "Instructions for updating:\n",
            "Colocations handled automatically by placer.\n"
          ],
          "name": "stdout"
        }
      ]
    },
    {
      "metadata": {
        "id": "TzjMIqitGQPg",
        "colab_type": "code",
        "colab": {
          "base_uri": "https://localhost:8080/",
          "height": 108
        },
        "outputId": "627d92fc-7601-4753-dea1-c38c92a55d53"
      },
      "cell_type": "code",
      "source": [
        "# Configure a model for mean-squared error regression.\n",
        "model.compile(optimizer=tf.train.RMSPropOptimizer(0.01),\n",
        "              loss='mse',       # mean squared error\n",
        "              metrics=['mae'])  # mean absolute error"
      ],
      "execution_count": 3,
      "outputs": [
        {
          "output_type": "stream",
          "text": [
            "WARNING:tensorflow:From /usr/local/lib/python3.6/dist-packages/tensorflow/python/keras/utils/losses_utils.py:170: to_float (from tensorflow.python.ops.math_ops) is deprecated and will be removed in a future version.\n",
            "Instructions for updating:\n",
            "Use tf.cast instead.\n"
          ],
          "name": "stdout"
        }
      ]
    },
    {
      "metadata": {
        "id": "AwYapLigGilv",
        "colab_type": "code",
        "colab": {
          "base_uri": "https://localhost:8080/",
          "height": 442
        },
        "outputId": "63df7f48-1125-4872-d86e-d5261720ac6c"
      },
      "cell_type": "code",
      "source": [
        "import numpy as np\n",
        "\n",
        "data = np.random.random((1000, 10))\n",
        "labels = np.random.random((1000, 3))\n",
        "\n",
        "val_data = np.random.random((100, 10))\n",
        "val_labels = np.random.random((100, 3))\n",
        "\n",
        "model.fit(data, labels, epochs=10, batch_size=32,\n",
        "          validation_data=(val_data, val_labels))"
      ],
      "execution_count": 5,
      "outputs": [
        {
          "output_type": "stream",
          "text": [
            "Train on 1000 samples, validate on 100 samples\n",
            "WARNING:tensorflow:From /usr/local/lib/python3.6/dist-packages/tensorflow/python/ops/math_ops.py:3066: to_int32 (from tensorflow.python.ops.math_ops) is deprecated and will be removed in a future version.\n",
            "Instructions for updating:\n",
            "Use tf.cast instead.\n",
            "Epoch 1/10\n",
            "1000/1000 [==============================] - 0s 400us/sample - loss: 0.2065 - mean_absolute_error: 0.2935 - val_loss: 0.1908 - val_mean_absolute_error: 0.2769\n",
            "Epoch 2/10\n",
            "1000/1000 [==============================] - 0s 57us/sample - loss: 0.1882 - mean_absolute_error: 0.2811 - val_loss: 0.1703 - val_mean_absolute_error: 0.2679\n",
            "Epoch 3/10\n",
            "1000/1000 [==============================] - 0s 59us/sample - loss: 0.1613 - mean_absolute_error: 0.2787 - val_loss: 0.1314 - val_mean_absolute_error: 0.2678\n",
            "Epoch 4/10\n",
            "1000/1000 [==============================] - 0s 51us/sample - loss: 0.1233 - mean_absolute_error: 0.2789 - val_loss: 0.1052 - val_mean_absolute_error: 0.2670\n",
            "Epoch 5/10\n",
            "1000/1000 [==============================] - 0s 56us/sample - loss: 0.1124 - mean_absolute_error: 0.2786 - val_loss: 0.1045 - val_mean_absolute_error: 0.2674\n",
            "Epoch 6/10\n",
            "1000/1000 [==============================] - 0s 56us/sample - loss: 0.1123 - mean_absolute_error: 0.2787 - val_loss: 0.1044 - val_mean_absolute_error: 0.2673\n",
            "Epoch 7/10\n",
            "1000/1000 [==============================] - 0s 50us/sample - loss: 0.1129 - mean_absolute_error: 0.2795 - val_loss: 0.1045 - val_mean_absolute_error: 0.2673\n",
            "Epoch 8/10\n",
            "1000/1000 [==============================] - 0s 47us/sample - loss: 0.1123 - mean_absolute_error: 0.2786 - val_loss: 0.1043 - val_mean_absolute_error: 0.2671\n",
            "Epoch 9/10\n",
            "1000/1000 [==============================] - 0s 49us/sample - loss: 0.1123 - mean_absolute_error: 0.2786 - val_loss: 0.1043 - val_mean_absolute_error: 0.2672\n",
            "Epoch 10/10\n",
            "1000/1000 [==============================] - 0s 50us/sample - loss: 0.1123 - mean_absolute_error: 0.2786 - val_loss: 0.1043 - val_mean_absolute_error: 0.2671\n"
          ],
          "name": "stdout"
        },
        {
          "output_type": "execute_result",
          "data": {
            "text/plain": [
              "<tensorflow.python.keras.callbacks.History at 0x7f243c55b668>"
            ]
          },
          "metadata": {
            "tags": []
          },
          "execution_count": 5
        }
      ]
    },
    {
      "metadata": {
        "id": "lc8WB2lSGy4V",
        "colab_type": "code",
        "colab": {
          "base_uri": "https://localhost:8080/",
          "height": 51
        },
        "outputId": "2523b989-08b8-4bf1-fb27-b58e9dda7d3b"
      },
      "cell_type": "code",
      "source": [
        "data = np.random.random((1000, 10))\n",
        "labels = np.random.random((1000, 3))\n",
        "\n",
        "model.evaluate(data, labels, batch_size=32)"
      ],
      "execution_count": 7,
      "outputs": [
        {
          "output_type": "stream",
          "text": [
            "1000/1000 [==============================] - 0s 33us/sample - loss: 0.1081 - mean_absolute_error: 0.2738\n"
          ],
          "name": "stdout"
        },
        {
          "output_type": "execute_result",
          "data": {
            "text/plain": [
              "[0.10808547300100327, 0.27380618]"
            ]
          },
          "metadata": {
            "tags": []
          },
          "execution_count": 7
        }
      ]
    },
    {
      "metadata": {
        "id": "fFqXRkmwG4-v",
        "colab_type": "code",
        "colab": {
          "base_uri": "https://localhost:8080/",
          "height": 34
        },
        "outputId": "f6f1ba39-8932-4f08-a978-8c869876b0e5"
      },
      "cell_type": "code",
      "source": [
        "result = model.predict(data, batch_size=32)\n",
        "print(result.shape)"
      ],
      "execution_count": 8,
      "outputs": [
        {
          "output_type": "stream",
          "text": [
            "(1000, 3)\n"
          ],
          "name": "stdout"
        }
      ]
    }
  ]
}