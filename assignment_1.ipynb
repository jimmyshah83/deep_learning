{
  "nbformat": 4,
  "nbformat_minor": 0,
  "metadata": {
    "colab": {
      "name": "Untitled2.ipynb",
      "version": "0.3.2",
      "provenance": [],
      "include_colab_link": true
    },
    "kernelspec": {
      "name": "python3",
      "display_name": "Python 3"
    }
  },
  "cells": [
    {
      "cell_type": "markdown",
      "metadata": {
        "id": "view-in-github",
        "colab_type": "text"
      },
      "source": [
        "<a href=\"https://colab.research.google.com/github/jimmyshah83/deep_learning/blob/master/assignment_1.ipynb\" target=\"_parent\"><img src=\"https://colab.research.google.com/assets/colab-badge.svg\" alt=\"Open In Colab\"/></a>"
      ]
    },
    {
      "metadata": {
        "id": "RbEVgwkuFght",
        "colab_type": "code",
        "outputId": "f6a1d7ff-b373-429a-9419-9ad40e60adbd",
        "colab": {
          "base_uri": "https://localhost:8080/",
          "height": 51
        }
      },
      "cell_type": "code",
      "source": [
        "import tensorflow as tf\n",
        "from tensorflow.keras import layers\n",
        "\n",
        "print(tf.VERSION)\n",
        "print(tf.keras.__version__)"
      ],
      "execution_count": 15,
      "outputs": [
        {
          "output_type": "stream",
          "text": [
            "1.13.0-rc1\n",
            "2.2.4-tf\n"
          ],
          "name": "stdout"
        }
      ]
    },
    {
      "metadata": {
        "id": "yfMrhCufFmu4",
        "colab_type": "code",
        "colab": {}
      },
      "cell_type": "code",
      "source": [
        "model = tf.keras.Sequential([\n",
        "# Adds a densely-connected layer with 64 units to the model with shape of 10 and relu activation:\n",
        "layers.Dense(64, activation='relu', input_shape=(10,)),\n",
        "# Add another densly-connected layer with 32 units and sigmoid activation:\n",
        "layers.Dense(32, activation='sigmoid'),\n",
        "# Add another densly-connected layer with 5 units, activation function as relu and l2 kernel regularization with a factor of 0.01:\n",
        "layers.Dense(5, activation='relu', kernel_regularizer=tf.keras.regularizers.l2(0.01)),\n",
        "# Add a softmax layer with 3 output units:\n",
        "layers.Dense(3, activation='softmax')])"
      ],
      "execution_count": 0,
      "outputs": []
    },
    {
      "metadata": {
        "id": "TzjMIqitGQPg",
        "colab_type": "code",
        "colab": {}
      },
      "cell_type": "code",
      "source": [
        "# Configure a model for mean-squared error regression.\n",
        "model.compile(optimizer=tf.train.RMSPropOptimizer(0.01),\n",
        "              loss='mse',       # mean squared error\n",
        "              metrics=['mae'])  # mean absolute error"
      ],
      "execution_count": 0,
      "outputs": []
    },
    {
      "metadata": {
        "id": "AwYapLigGilv",
        "colab_type": "code",
        "outputId": "d9d05640-00f5-4ba1-b02c-31e671bd2640",
        "colab": {
          "base_uri": "https://localhost:8080/",
          "height": 391
        }
      },
      "cell_type": "code",
      "source": [
        "import numpy as np\n",
        "\n",
        "data = np.random.random((1000, 10))\n",
        "labels = np.random.random((1000, 3))\n",
        "\n",
        "val_data = np.random.random((100, 10))\n",
        "val_labels = np.random.random((100, 3))\n",
        "\n",
        "model.fit(data, labels, epochs=10, batch_size=32,\n",
        "          validation_data=(val_data, val_labels))"
      ],
      "execution_count": 18,
      "outputs": [
        {
          "output_type": "stream",
          "text": [
            "Train on 1000 samples, validate on 100 samples\n",
            "Epoch 1/10\n",
            "1000/1000 [==============================] - 0s 216us/sample - loss: 0.1995 - mean_absolute_error: 0.2749 - val_loss: 0.1849 - val_mean_absolute_error: 0.2559\n",
            "Epoch 2/10\n",
            "1000/1000 [==============================] - 0s 58us/sample - loss: 0.1922 - mean_absolute_error: 0.2750 - val_loss: 0.1706 - val_mean_absolute_error: 0.2565\n",
            "Epoch 3/10\n",
            "1000/1000 [==============================] - 0s 57us/sample - loss: 0.1641 - mean_absolute_error: 0.2752 - val_loss: 0.1266 - val_mean_absolute_error: 0.2559\n",
            "Epoch 4/10\n",
            "1000/1000 [==============================] - 0s 58us/sample - loss: 0.1211 - mean_absolute_error: 0.2751 - val_loss: 0.0982 - val_mean_absolute_error: 0.2561\n",
            "Epoch 5/10\n",
            "1000/1000 [==============================] - 0s 56us/sample - loss: 0.1092 - mean_absolute_error: 0.2751 - val_loss: 0.0965 - val_mean_absolute_error: 0.2551\n",
            "Epoch 6/10\n",
            "1000/1000 [==============================] - 0s 60us/sample - loss: 0.1091 - mean_absolute_error: 0.2749 - val_loss: 0.0974 - val_mean_absolute_error: 0.2565\n",
            "Epoch 7/10\n",
            "1000/1000 [==============================] - 0s 64us/sample - loss: 0.1094 - mean_absolute_error: 0.2750 - val_loss: 0.0978 - val_mean_absolute_error: 0.2567\n",
            "Epoch 8/10\n",
            "1000/1000 [==============================] - 0s 59us/sample - loss: 0.1091 - mean_absolute_error: 0.2750 - val_loss: 0.0969 - val_mean_absolute_error: 0.2559\n",
            "Epoch 9/10\n",
            "1000/1000 [==============================] - 0s 59us/sample - loss: 0.1091 - mean_absolute_error: 0.2751 - val_loss: 0.0970 - val_mean_absolute_error: 0.2557\n",
            "Epoch 10/10\n",
            "1000/1000 [==============================] - 0s 68us/sample - loss: 0.1091 - mean_absolute_error: 0.2750 - val_loss: 0.0967 - val_mean_absolute_error: 0.2556\n"
          ],
          "name": "stdout"
        },
        {
          "output_type": "execute_result",
          "data": {
            "text/plain": [
              "<tensorflow.python.keras.callbacks.History at 0x7f384ecfc518>"
            ]
          },
          "metadata": {
            "tags": []
          },
          "execution_count": 18
        }
      ]
    },
    {
      "metadata": {
        "id": "eZc8ApASL9oy",
        "colab_type": "code",
        "colab": {
          "base_uri": "https://localhost:8080/",
          "height": 51
        },
        "outputId": "0eb04d59-fa2b-4aea-fe83-670e61d0d070"
      },
      "cell_type": "code",
      "source": [
        "data = np.random.random((1000, 10))\n",
        "labels = np.random.random((1000, 3))\n",
        "model.evaluate(data, labels, batch_size=32)"
      ],
      "execution_count": 19,
      "outputs": [
        {
          "output_type": "stream",
          "text": [
            "1000/1000 [==============================] - 0s 33us/sample - loss: 0.1106 - mean_absolute_error: 0.2771\n"
          ],
          "name": "stdout"
        },
        {
          "output_type": "execute_result",
          "data": {
            "text/plain": [
              "[0.11057653820514679, 0.27705255]"
            ]
          },
          "metadata": {
            "tags": []
          },
          "execution_count": 19
        }
      ]
    },
    {
      "metadata": {
        "id": "fFqXRkmwG4-v",
        "colab_type": "code",
        "outputId": "721c9450-333a-42b1-b9d0-b94d9296710d",
        "colab": {
          "base_uri": "https://localhost:8080/",
          "height": 34
        }
      },
      "cell_type": "code",
      "source": [
        "result = model.predict(data, batch_size=32)\n",
        "print(result.shape)"
      ],
      "execution_count": 20,
      "outputs": [
        {
          "output_type": "stream",
          "text": [
            "(1000, 3)\n"
          ],
          "name": "stdout"
        }
      ]
    }
  ]
}